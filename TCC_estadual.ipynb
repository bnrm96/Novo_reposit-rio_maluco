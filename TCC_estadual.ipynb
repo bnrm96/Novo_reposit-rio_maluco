{
  "cells": [
    {
      "cell_type": "markdown",
      "metadata": {
        "id": "view-in-github",
        "colab_type": "text"
      },
      "source": [
        "<a href=\"https://colab.research.google.com/github/bnrm96/TCC_redes_neurais/blob/main/TCC_estadual.ipynb\" target=\"_parent\"><img src=\"https://colab.research.google.com/assets/colab-badge.svg\" alt=\"Open In Colab\"/></a>"
      ]
    },
    {
      "cell_type": "markdown",
      "metadata": {
        "id": "atTb-QAjNygw"
      },
      "source": [
        "##Importa as biblioteca tudo"
      ]
    },
    {
      "cell_type": "code",
      "execution_count": null,
      "metadata": {
        "id": "RuTKwLbRaXVu"
      },
      "outputs": [],
      "source": [
        "import pandas as pd\n",
        "import matplotlib.pyplot as plt\n",
        "import pydot\n",
        "import numpy as np\n",
        "from sklearn.preprocessing import LabelEncoder\n",
        "from sklearn.metrics import confusion_matrix\n",
        "import seaborn as sns\n",
        "\n",
        "\n"
      ]
    },
    {
      "cell_type": "code",
      "execution_count": null,
      "metadata": {
        "colab": {
          "base_uri": "https://localhost:8080/"
        },
        "id": "tJ_Z7INulq30",
        "outputId": "24b79cfc-908b-4ac4-846a-192b35218ef7"
      },
      "outputs": [
        {
          "output_type": "stream",
          "name": "stdout",
          "text": [
            "True\n",
            "False\n",
            "False\n",
            "True\n",
            "False\n",
            "True\n"
          ]
        }
      ],
      "source": [
        "def tem_repeticao(numero):\n",
        "    # Converte o número em uma string para poder iterar sobre os dígitos\n",
        "    numero = str(numero)\n",
        "    soma = 1\n",
        "    # Verifica se há algum dígito repetido\n",
        "    for digito in numero:\n",
        "        if numero.count(digito) > 3:\n",
        "            return True\n",
        "\n",
        "    # Verifica se os dígitos estão em sequência\n",
        "    for i in range(len(numero) - 1):\n",
        "        if int(numero[i]) + 1 == int(numero[i + 1]):\n",
        "            soma = soma + 1\n",
        "        if soma == 4:\n",
        "            return True\n",
        "\n",
        "    # Se não houver nenhum dígito repetido ou em sequência, retorna False\n",
        "    return False\n",
        "\n",
        "# Testa a função com alguns exemplos\n",
        "print(tem_repeticao(1234))  # True (todos os digitos em sequência)\n",
        "print(tem_repeticao(1224))  # False \n",
        "print(tem_repeticao(1235))  # False \n",
        "print(tem_repeticao(5678))  # False\n",
        "print(tem_repeticao(5677))  # True (dígitos em sequência)\n",
        "print(tem_repeticao(8888))\n"
      ]
    },
    {
      "cell_type": "code",
      "execution_count": null,
      "metadata": {
        "id": "zhYigyGGatH8"
      },
      "outputs": [],
      "source": [
        "# Lê o arquivo csv usando a função read_csv do Pandas\n",
        "base = pd.read_csv('base_estadual_completa.csv',sep = ';')\n"
      ]
    },
    {
      "cell_type": "code",
      "execution_count": null,
      "metadata": {
        "id": "c1YTPNkUa0lS",
        "colab": {
          "base_uri": "https://localhost:8080/",
          "height": 424
        },
        "outputId": "9429b16d-6eb7-47d3-9f0a-b7ccb7d27042"
      },
      "outputs": [
        {
          "output_type": "execute_result",
          "data": {
            "text/plain": [
              "      NR_CANDIDATO  NR_PARTIDO  SG_UF_NASCIMENTO  NR_IDADE_DATA_POSSE  \\\n",
              "0            13000          13                 0                   44   \n",
              "1            12456          12                 0                   61   \n",
              "2            40777          40                 0                   49   \n",
              "3            31888          31                 0                   46   \n",
              "4            43345          43                 1                   58   \n",
              "...            ...         ...               ...                  ...   \n",
              "1142         12121          12                 1                   44   \n",
              "1143         77421          77                 0                   48   \n",
              "1144         10000          10                 0                   37   \n",
              "1145         51511          51                 0                   43   \n",
              "1146         70800          70                 0                   30   \n",
              "\n",
              "      CD_GENERO  CD_GRAU_INSTRUCAO  CD_ESTADO_CIVIL  VR_DESPESA_MAX_CAMPANHA  \\\n",
              "0             2                  7                9                500000.00   \n",
              "1             2                  6                3                100000.00   \n",
              "2             2                  8                3                500000.00   \n",
              "3             2                  6                3                500000.00   \n",
              "4             2                  8                1                250000.00   \n",
              "...         ...                ...              ...                      ...   \n",
              "1142          4                  6                5               1270629.01   \n",
              "1143          4                  6                1               1270629.01   \n",
              "1144          4                  8                3               1270629.01   \n",
              "1145          2                  6                3               1270629.01   \n",
              "1146          4                  8                1               1270629.01   \n",
              "\n",
              "      ST_REELEICAO  RESULTADO  \n",
              "0                0          3  \n",
              "1                0          3  \n",
              "2                0          3  \n",
              "3                0          3  \n",
              "4                0          3  \n",
              "...            ...        ...  \n",
              "1142             0          4  \n",
              "1143             0          3  \n",
              "1144             0          4  \n",
              "1145             0          4  \n",
              "1146             0          4  \n",
              "\n",
              "[1147 rows x 10 columns]"
            ],
            "text/html": [
              "\n",
              "  <div id=\"df-c244089f-e348-4861-a0aa-4fdacc5cfce2\">\n",
              "    <div class=\"colab-df-container\">\n",
              "      <div>\n",
              "<style scoped>\n",
              "    .dataframe tbody tr th:only-of-type {\n",
              "        vertical-align: middle;\n",
              "    }\n",
              "\n",
              "    .dataframe tbody tr th {\n",
              "        vertical-align: top;\n",
              "    }\n",
              "\n",
              "    .dataframe thead th {\n",
              "        text-align: right;\n",
              "    }\n",
              "</style>\n",
              "<table border=\"1\" class=\"dataframe\">\n",
              "  <thead>\n",
              "    <tr style=\"text-align: right;\">\n",
              "      <th></th>\n",
              "      <th>NR_CANDIDATO</th>\n",
              "      <th>NR_PARTIDO</th>\n",
              "      <th>SG_UF_NASCIMENTO</th>\n",
              "      <th>NR_IDADE_DATA_POSSE</th>\n",
              "      <th>CD_GENERO</th>\n",
              "      <th>CD_GRAU_INSTRUCAO</th>\n",
              "      <th>CD_ESTADO_CIVIL</th>\n",
              "      <th>VR_DESPESA_MAX_CAMPANHA</th>\n",
              "      <th>ST_REELEICAO</th>\n",
              "      <th>RESULTADO</th>\n",
              "    </tr>\n",
              "  </thead>\n",
              "  <tbody>\n",
              "    <tr>\n",
              "      <th>0</th>\n",
              "      <td>13000</td>\n",
              "      <td>13</td>\n",
              "      <td>0</td>\n",
              "      <td>44</td>\n",
              "      <td>2</td>\n",
              "      <td>7</td>\n",
              "      <td>9</td>\n",
              "      <td>500000.00</td>\n",
              "      <td>0</td>\n",
              "      <td>3</td>\n",
              "    </tr>\n",
              "    <tr>\n",
              "      <th>1</th>\n",
              "      <td>12456</td>\n",
              "      <td>12</td>\n",
              "      <td>0</td>\n",
              "      <td>61</td>\n",
              "      <td>2</td>\n",
              "      <td>6</td>\n",
              "      <td>3</td>\n",
              "      <td>100000.00</td>\n",
              "      <td>0</td>\n",
              "      <td>3</td>\n",
              "    </tr>\n",
              "    <tr>\n",
              "      <th>2</th>\n",
              "      <td>40777</td>\n",
              "      <td>40</td>\n",
              "      <td>0</td>\n",
              "      <td>49</td>\n",
              "      <td>2</td>\n",
              "      <td>8</td>\n",
              "      <td>3</td>\n",
              "      <td>500000.00</td>\n",
              "      <td>0</td>\n",
              "      <td>3</td>\n",
              "    </tr>\n",
              "    <tr>\n",
              "      <th>3</th>\n",
              "      <td>31888</td>\n",
              "      <td>31</td>\n",
              "      <td>0</td>\n",
              "      <td>46</td>\n",
              "      <td>2</td>\n",
              "      <td>6</td>\n",
              "      <td>3</td>\n",
              "      <td>500000.00</td>\n",
              "      <td>0</td>\n",
              "      <td>3</td>\n",
              "    </tr>\n",
              "    <tr>\n",
              "      <th>4</th>\n",
              "      <td>43345</td>\n",
              "      <td>43</td>\n",
              "      <td>1</td>\n",
              "      <td>58</td>\n",
              "      <td>2</td>\n",
              "      <td>8</td>\n",
              "      <td>1</td>\n",
              "      <td>250000.00</td>\n",
              "      <td>0</td>\n",
              "      <td>3</td>\n",
              "    </tr>\n",
              "    <tr>\n",
              "      <th>...</th>\n",
              "      <td>...</td>\n",
              "      <td>...</td>\n",
              "      <td>...</td>\n",
              "      <td>...</td>\n",
              "      <td>...</td>\n",
              "      <td>...</td>\n",
              "      <td>...</td>\n",
              "      <td>...</td>\n",
              "      <td>...</td>\n",
              "      <td>...</td>\n",
              "    </tr>\n",
              "    <tr>\n",
              "      <th>1142</th>\n",
              "      <td>12121</td>\n",
              "      <td>12</td>\n",
              "      <td>1</td>\n",
              "      <td>44</td>\n",
              "      <td>4</td>\n",
              "      <td>6</td>\n",
              "      <td>5</td>\n",
              "      <td>1270629.01</td>\n",
              "      <td>0</td>\n",
              "      <td>4</td>\n",
              "    </tr>\n",
              "    <tr>\n",
              "      <th>1143</th>\n",
              "      <td>77421</td>\n",
              "      <td>77</td>\n",
              "      <td>0</td>\n",
              "      <td>48</td>\n",
              "      <td>4</td>\n",
              "      <td>6</td>\n",
              "      <td>1</td>\n",
              "      <td>1270629.01</td>\n",
              "      <td>0</td>\n",
              "      <td>3</td>\n",
              "    </tr>\n",
              "    <tr>\n",
              "      <th>1144</th>\n",
              "      <td>10000</td>\n",
              "      <td>10</td>\n",
              "      <td>0</td>\n",
              "      <td>37</td>\n",
              "      <td>4</td>\n",
              "      <td>8</td>\n",
              "      <td>3</td>\n",
              "      <td>1270629.01</td>\n",
              "      <td>0</td>\n",
              "      <td>4</td>\n",
              "    </tr>\n",
              "    <tr>\n",
              "      <th>1145</th>\n",
              "      <td>51511</td>\n",
              "      <td>51</td>\n",
              "      <td>0</td>\n",
              "      <td>43</td>\n",
              "      <td>2</td>\n",
              "      <td>6</td>\n",
              "      <td>3</td>\n",
              "      <td>1270629.01</td>\n",
              "      <td>0</td>\n",
              "      <td>4</td>\n",
              "    </tr>\n",
              "    <tr>\n",
              "      <th>1146</th>\n",
              "      <td>70800</td>\n",
              "      <td>70</td>\n",
              "      <td>0</td>\n",
              "      <td>30</td>\n",
              "      <td>4</td>\n",
              "      <td>8</td>\n",
              "      <td>1</td>\n",
              "      <td>1270629.01</td>\n",
              "      <td>0</td>\n",
              "      <td>4</td>\n",
              "    </tr>\n",
              "  </tbody>\n",
              "</table>\n",
              "<p>1147 rows × 10 columns</p>\n",
              "</div>\n",
              "      <button class=\"colab-df-convert\" onclick=\"convertToInteractive('df-c244089f-e348-4861-a0aa-4fdacc5cfce2')\"\n",
              "              title=\"Convert this dataframe to an interactive table.\"\n",
              "              style=\"display:none;\">\n",
              "        \n",
              "  <svg xmlns=\"http://www.w3.org/2000/svg\" height=\"24px\"viewBox=\"0 0 24 24\"\n",
              "       width=\"24px\">\n",
              "    <path d=\"M0 0h24v24H0V0z\" fill=\"none\"/>\n",
              "    <path d=\"M18.56 5.44l.94 2.06.94-2.06 2.06-.94-2.06-.94-.94-2.06-.94 2.06-2.06.94zm-11 1L8.5 8.5l.94-2.06 2.06-.94-2.06-.94L8.5 2.5l-.94 2.06-2.06.94zm10 10l.94 2.06.94-2.06 2.06-.94-2.06-.94-.94-2.06-.94 2.06-2.06.94z\"/><path d=\"M17.41 7.96l-1.37-1.37c-.4-.4-.92-.59-1.43-.59-.52 0-1.04.2-1.43.59L10.3 9.45l-7.72 7.72c-.78.78-.78 2.05 0 2.83L4 21.41c.39.39.9.59 1.41.59.51 0 1.02-.2 1.41-.59l7.78-7.78 2.81-2.81c.8-.78.8-2.07 0-2.86zM5.41 20L4 18.59l7.72-7.72 1.47 1.35L5.41 20z\"/>\n",
              "  </svg>\n",
              "      </button>\n",
              "      \n",
              "  <style>\n",
              "    .colab-df-container {\n",
              "      display:flex;\n",
              "      flex-wrap:wrap;\n",
              "      gap: 12px;\n",
              "    }\n",
              "\n",
              "    .colab-df-convert {\n",
              "      background-color: #E8F0FE;\n",
              "      border: none;\n",
              "      border-radius: 50%;\n",
              "      cursor: pointer;\n",
              "      display: none;\n",
              "      fill: #1967D2;\n",
              "      height: 32px;\n",
              "      padding: 0 0 0 0;\n",
              "      width: 32px;\n",
              "    }\n",
              "\n",
              "    .colab-df-convert:hover {\n",
              "      background-color: #E2EBFA;\n",
              "      box-shadow: 0px 1px 2px rgba(60, 64, 67, 0.3), 0px 1px 3px 1px rgba(60, 64, 67, 0.15);\n",
              "      fill: #174EA6;\n",
              "    }\n",
              "\n",
              "    [theme=dark] .colab-df-convert {\n",
              "      background-color: #3B4455;\n",
              "      fill: #D2E3FC;\n",
              "    }\n",
              "\n",
              "    [theme=dark] .colab-df-convert:hover {\n",
              "      background-color: #434B5C;\n",
              "      box-shadow: 0px 1px 3px 1px rgba(0, 0, 0, 0.15);\n",
              "      filter: drop-shadow(0px 1px 2px rgba(0, 0, 0, 0.3));\n",
              "      fill: #FFFFFF;\n",
              "    }\n",
              "  </style>\n",
              "\n",
              "      <script>\n",
              "        const buttonEl =\n",
              "          document.querySelector('#df-c244089f-e348-4861-a0aa-4fdacc5cfce2 button.colab-df-convert');\n",
              "        buttonEl.style.display =\n",
              "          google.colab.kernel.accessAllowed ? 'block' : 'none';\n",
              "\n",
              "        async function convertToInteractive(key) {\n",
              "          const element = document.querySelector('#df-c244089f-e348-4861-a0aa-4fdacc5cfce2');\n",
              "          const dataTable =\n",
              "            await google.colab.kernel.invokeFunction('convertToInteractive',\n",
              "                                                     [key], {});\n",
              "          if (!dataTable) return;\n",
              "\n",
              "          const docLinkHtml = 'Like what you see? Visit the ' +\n",
              "            '<a target=\"_blank\" href=https://colab.research.google.com/notebooks/data_table.ipynb>data table notebook</a>'\n",
              "            + ' to learn more about interactive tables.';\n",
              "          element.innerHTML = '';\n",
              "          dataTable['output_type'] = 'display_data';\n",
              "          await google.colab.output.renderOutput(dataTable, element);\n",
              "          const docLink = document.createElement('div');\n",
              "          docLink.innerHTML = docLinkHtml;\n",
              "          element.appendChild(docLink);\n",
              "        }\n",
              "      </script>\n",
              "    </div>\n",
              "  </div>\n",
              "  "
            ]
          },
          "metadata": {},
          "execution_count": 525
        }
      ],
      "source": [
        "base"
      ]
    },
    {
      "cell_type": "code",
      "execution_count": null,
      "metadata": {
        "id": "C3q9ttWMNyg5",
        "colab": {
          "base_uri": "https://localhost:8080/"
        },
        "outputId": "67807ed3-a8e0-4643-93ee-8f17e8796435"
      },
      "outputs": [
        {
          "output_type": "execute_result",
          "data": {
            "text/plain": [
              "(1147, 10)"
            ]
          },
          "metadata": {},
          "execution_count": 526
        }
      ],
      "source": [
        "base.shape"
      ]
    },
    {
      "cell_type": "markdown",
      "metadata": {
        "id": "12mzcfq7nkC0"
      },
      "source": [
        "##Aplicando a função que eu criei nos dados de número de candidato"
      ]
    },
    {
      "cell_type": "code",
      "execution_count": null,
      "metadata": {
        "id": "tmOoUkRLnjKo"
      },
      "outputs": [],
      "source": [
        "base['NR_CANDIDATO'] = base['NR_CANDIDATO'].apply(tem_repeticao)\n"
      ]
    },
    {
      "cell_type": "code",
      "execution_count": null,
      "metadata": {
        "id": "6oamUY3OqGLW",
        "colab": {
          "base_uri": "https://localhost:8080/",
          "height": 424
        },
        "outputId": "5fc8b819-b6c5-4c14-c068-793acd4e36f3"
      },
      "outputs": [
        {
          "output_type": "execute_result",
          "data": {
            "text/plain": [
              "      NR_CANDIDATO  NR_PARTIDO  SG_UF_NASCIMENTO  NR_IDADE_DATA_POSSE  \\\n",
              "0            False          13                 0                   44   \n",
              "1             True          12                 0                   61   \n",
              "2            False          40                 0                   49   \n",
              "3            False          31                 0                   46   \n",
              "4            False          43                 1                   58   \n",
              "...            ...         ...               ...                  ...   \n",
              "1142         False          12                 1                   44   \n",
              "1143         False          77                 0                   48   \n",
              "1144          True          10                 0                   37   \n",
              "1145         False          51                 0                   43   \n",
              "1146         False          70                 0                   30   \n",
              "\n",
              "      CD_GENERO  CD_GRAU_INSTRUCAO  CD_ESTADO_CIVIL  VR_DESPESA_MAX_CAMPANHA  \\\n",
              "0             2                  7                9                500000.00   \n",
              "1             2                  6                3                100000.00   \n",
              "2             2                  8                3                500000.00   \n",
              "3             2                  6                3                500000.00   \n",
              "4             2                  8                1                250000.00   \n",
              "...         ...                ...              ...                      ...   \n",
              "1142          4                  6                5               1270629.01   \n",
              "1143          4                  6                1               1270629.01   \n",
              "1144          4                  8                3               1270629.01   \n",
              "1145          2                  6                3               1270629.01   \n",
              "1146          4                  8                1               1270629.01   \n",
              "\n",
              "      ST_REELEICAO  RESULTADO  \n",
              "0                0          3  \n",
              "1                0          3  \n",
              "2                0          3  \n",
              "3                0          3  \n",
              "4                0          3  \n",
              "...            ...        ...  \n",
              "1142             0          4  \n",
              "1143             0          3  \n",
              "1144             0          4  \n",
              "1145             0          4  \n",
              "1146             0          4  \n",
              "\n",
              "[1147 rows x 10 columns]"
            ],
            "text/html": [
              "\n",
              "  <div id=\"df-3e544b6c-ec57-4994-a3a1-a75af8657a28\">\n",
              "    <div class=\"colab-df-container\">\n",
              "      <div>\n",
              "<style scoped>\n",
              "    .dataframe tbody tr th:only-of-type {\n",
              "        vertical-align: middle;\n",
              "    }\n",
              "\n",
              "    .dataframe tbody tr th {\n",
              "        vertical-align: top;\n",
              "    }\n",
              "\n",
              "    .dataframe thead th {\n",
              "        text-align: right;\n",
              "    }\n",
              "</style>\n",
              "<table border=\"1\" class=\"dataframe\">\n",
              "  <thead>\n",
              "    <tr style=\"text-align: right;\">\n",
              "      <th></th>\n",
              "      <th>NR_CANDIDATO</th>\n",
              "      <th>NR_PARTIDO</th>\n",
              "      <th>SG_UF_NASCIMENTO</th>\n",
              "      <th>NR_IDADE_DATA_POSSE</th>\n",
              "      <th>CD_GENERO</th>\n",
              "      <th>CD_GRAU_INSTRUCAO</th>\n",
              "      <th>CD_ESTADO_CIVIL</th>\n",
              "      <th>VR_DESPESA_MAX_CAMPANHA</th>\n",
              "      <th>ST_REELEICAO</th>\n",
              "      <th>RESULTADO</th>\n",
              "    </tr>\n",
              "  </thead>\n",
              "  <tbody>\n",
              "    <tr>\n",
              "      <th>0</th>\n",
              "      <td>False</td>\n",
              "      <td>13</td>\n",
              "      <td>0</td>\n",
              "      <td>44</td>\n",
              "      <td>2</td>\n",
              "      <td>7</td>\n",
              "      <td>9</td>\n",
              "      <td>500000.00</td>\n",
              "      <td>0</td>\n",
              "      <td>3</td>\n",
              "    </tr>\n",
              "    <tr>\n",
              "      <th>1</th>\n",
              "      <td>True</td>\n",
              "      <td>12</td>\n",
              "      <td>0</td>\n",
              "      <td>61</td>\n",
              "      <td>2</td>\n",
              "      <td>6</td>\n",
              "      <td>3</td>\n",
              "      <td>100000.00</td>\n",
              "      <td>0</td>\n",
              "      <td>3</td>\n",
              "    </tr>\n",
              "    <tr>\n",
              "      <th>2</th>\n",
              "      <td>False</td>\n",
              "      <td>40</td>\n",
              "      <td>0</td>\n",
              "      <td>49</td>\n",
              "      <td>2</td>\n",
              "      <td>8</td>\n",
              "      <td>3</td>\n",
              "      <td>500000.00</td>\n",
              "      <td>0</td>\n",
              "      <td>3</td>\n",
              "    </tr>\n",
              "    <tr>\n",
              "      <th>3</th>\n",
              "      <td>False</td>\n",
              "      <td>31</td>\n",
              "      <td>0</td>\n",
              "      <td>46</td>\n",
              "      <td>2</td>\n",
              "      <td>6</td>\n",
              "      <td>3</td>\n",
              "      <td>500000.00</td>\n",
              "      <td>0</td>\n",
              "      <td>3</td>\n",
              "    </tr>\n",
              "    <tr>\n",
              "      <th>4</th>\n",
              "      <td>False</td>\n",
              "      <td>43</td>\n",
              "      <td>1</td>\n",
              "      <td>58</td>\n",
              "      <td>2</td>\n",
              "      <td>8</td>\n",
              "      <td>1</td>\n",
              "      <td>250000.00</td>\n",
              "      <td>0</td>\n",
              "      <td>3</td>\n",
              "    </tr>\n",
              "    <tr>\n",
              "      <th>...</th>\n",
              "      <td>...</td>\n",
              "      <td>...</td>\n",
              "      <td>...</td>\n",
              "      <td>...</td>\n",
              "      <td>...</td>\n",
              "      <td>...</td>\n",
              "      <td>...</td>\n",
              "      <td>...</td>\n",
              "      <td>...</td>\n",
              "      <td>...</td>\n",
              "    </tr>\n",
              "    <tr>\n",
              "      <th>1142</th>\n",
              "      <td>False</td>\n",
              "      <td>12</td>\n",
              "      <td>1</td>\n",
              "      <td>44</td>\n",
              "      <td>4</td>\n",
              "      <td>6</td>\n",
              "      <td>5</td>\n",
              "      <td>1270629.01</td>\n",
              "      <td>0</td>\n",
              "      <td>4</td>\n",
              "    </tr>\n",
              "    <tr>\n",
              "      <th>1143</th>\n",
              "      <td>False</td>\n",
              "      <td>77</td>\n",
              "      <td>0</td>\n",
              "      <td>48</td>\n",
              "      <td>4</td>\n",
              "      <td>6</td>\n",
              "      <td>1</td>\n",
              "      <td>1270629.01</td>\n",
              "      <td>0</td>\n",
              "      <td>3</td>\n",
              "    </tr>\n",
              "    <tr>\n",
              "      <th>1144</th>\n",
              "      <td>True</td>\n",
              "      <td>10</td>\n",
              "      <td>0</td>\n",
              "      <td>37</td>\n",
              "      <td>4</td>\n",
              "      <td>8</td>\n",
              "      <td>3</td>\n",
              "      <td>1270629.01</td>\n",
              "      <td>0</td>\n",
              "      <td>4</td>\n",
              "    </tr>\n",
              "    <tr>\n",
              "      <th>1145</th>\n",
              "      <td>False</td>\n",
              "      <td>51</td>\n",
              "      <td>0</td>\n",
              "      <td>43</td>\n",
              "      <td>2</td>\n",
              "      <td>6</td>\n",
              "      <td>3</td>\n",
              "      <td>1270629.01</td>\n",
              "      <td>0</td>\n",
              "      <td>4</td>\n",
              "    </tr>\n",
              "    <tr>\n",
              "      <th>1146</th>\n",
              "      <td>False</td>\n",
              "      <td>70</td>\n",
              "      <td>0</td>\n",
              "      <td>30</td>\n",
              "      <td>4</td>\n",
              "      <td>8</td>\n",
              "      <td>1</td>\n",
              "      <td>1270629.01</td>\n",
              "      <td>0</td>\n",
              "      <td>4</td>\n",
              "    </tr>\n",
              "  </tbody>\n",
              "</table>\n",
              "<p>1147 rows × 10 columns</p>\n",
              "</div>\n",
              "      <button class=\"colab-df-convert\" onclick=\"convertToInteractive('df-3e544b6c-ec57-4994-a3a1-a75af8657a28')\"\n",
              "              title=\"Convert this dataframe to an interactive table.\"\n",
              "              style=\"display:none;\">\n",
              "        \n",
              "  <svg xmlns=\"http://www.w3.org/2000/svg\" height=\"24px\"viewBox=\"0 0 24 24\"\n",
              "       width=\"24px\">\n",
              "    <path d=\"M0 0h24v24H0V0z\" fill=\"none\"/>\n",
              "    <path d=\"M18.56 5.44l.94 2.06.94-2.06 2.06-.94-2.06-.94-.94-2.06-.94 2.06-2.06.94zm-11 1L8.5 8.5l.94-2.06 2.06-.94-2.06-.94L8.5 2.5l-.94 2.06-2.06.94zm10 10l.94 2.06.94-2.06 2.06-.94-2.06-.94-.94-2.06-.94 2.06-2.06.94z\"/><path d=\"M17.41 7.96l-1.37-1.37c-.4-.4-.92-.59-1.43-.59-.52 0-1.04.2-1.43.59L10.3 9.45l-7.72 7.72c-.78.78-.78 2.05 0 2.83L4 21.41c.39.39.9.59 1.41.59.51 0 1.02-.2 1.41-.59l7.78-7.78 2.81-2.81c.8-.78.8-2.07 0-2.86zM5.41 20L4 18.59l7.72-7.72 1.47 1.35L5.41 20z\"/>\n",
              "  </svg>\n",
              "      </button>\n",
              "      \n",
              "  <style>\n",
              "    .colab-df-container {\n",
              "      display:flex;\n",
              "      flex-wrap:wrap;\n",
              "      gap: 12px;\n",
              "    }\n",
              "\n",
              "    .colab-df-convert {\n",
              "      background-color: #E8F0FE;\n",
              "      border: none;\n",
              "      border-radius: 50%;\n",
              "      cursor: pointer;\n",
              "      display: none;\n",
              "      fill: #1967D2;\n",
              "      height: 32px;\n",
              "      padding: 0 0 0 0;\n",
              "      width: 32px;\n",
              "    }\n",
              "\n",
              "    .colab-df-convert:hover {\n",
              "      background-color: #E2EBFA;\n",
              "      box-shadow: 0px 1px 2px rgba(60, 64, 67, 0.3), 0px 1px 3px 1px rgba(60, 64, 67, 0.15);\n",
              "      fill: #174EA6;\n",
              "    }\n",
              "\n",
              "    [theme=dark] .colab-df-convert {\n",
              "      background-color: #3B4455;\n",
              "      fill: #D2E3FC;\n",
              "    }\n",
              "\n",
              "    [theme=dark] .colab-df-convert:hover {\n",
              "      background-color: #434B5C;\n",
              "      box-shadow: 0px 1px 3px 1px rgba(0, 0, 0, 0.15);\n",
              "      filter: drop-shadow(0px 1px 2px rgba(0, 0, 0, 0.3));\n",
              "      fill: #FFFFFF;\n",
              "    }\n",
              "  </style>\n",
              "\n",
              "      <script>\n",
              "        const buttonEl =\n",
              "          document.querySelector('#df-3e544b6c-ec57-4994-a3a1-a75af8657a28 button.colab-df-convert');\n",
              "        buttonEl.style.display =\n",
              "          google.colab.kernel.accessAllowed ? 'block' : 'none';\n",
              "\n",
              "        async function convertToInteractive(key) {\n",
              "          const element = document.querySelector('#df-3e544b6c-ec57-4994-a3a1-a75af8657a28');\n",
              "          const dataTable =\n",
              "            await google.colab.kernel.invokeFunction('convertToInteractive',\n",
              "                                                     [key], {});\n",
              "          if (!dataTable) return;\n",
              "\n",
              "          const docLinkHtml = 'Like what you see? Visit the ' +\n",
              "            '<a target=\"_blank\" href=https://colab.research.google.com/notebooks/data_table.ipynb>data table notebook</a>'\n",
              "            + ' to learn more about interactive tables.';\n",
              "          element.innerHTML = '';\n",
              "          dataTable['output_type'] = 'display_data';\n",
              "          await google.colab.output.renderOutput(dataTable, element);\n",
              "          const docLink = document.createElement('div');\n",
              "          docLink.innerHTML = docLinkHtml;\n",
              "          element.appendChild(docLink);\n",
              "        }\n",
              "      </script>\n",
              "    </div>\n",
              "  </div>\n",
              "  "
            ]
          },
          "metadata": {},
          "execution_count": 528
        }
      ],
      "source": [
        "base"
      ]
    },
    {
      "cell_type": "code",
      "execution_count": null,
      "metadata": {
        "id": "2SMaoa_hpysN",
        "colab": {
          "base_uri": "https://localhost:8080/",
          "height": 424
        },
        "outputId": "5d45e0b2-4f82-4f71-ee99-425d7e32dc0d"
      },
      "outputs": [
        {
          "output_type": "execute_result",
          "data": {
            "text/plain": [
              "      NR_CANDIDATO  NR_PARTIDO  SG_UF_NASCIMENTO  NR_IDADE_DATA_POSSE  \\\n",
              "0            False          13                 0                   44   \n",
              "1             True          12                 0                   61   \n",
              "2            False          40                 0                   49   \n",
              "3            False          31                 0                   46   \n",
              "4            False          43                 1                   58   \n",
              "...            ...         ...               ...                  ...   \n",
              "1142         False          12                 1                   44   \n",
              "1143         False          77                 0                   48   \n",
              "1144          True          10                 0                   37   \n",
              "1145         False          51                 0                   43   \n",
              "1146         False          70                 0                   30   \n",
              "\n",
              "      CD_GENERO  CD_GRAU_INSTRUCAO  CD_ESTADO_CIVIL  VR_DESPESA_MAX_CAMPANHA  \\\n",
              "0             2                  7                9                500000.00   \n",
              "1             2                  6                3                100000.00   \n",
              "2             2                  8                3                500000.00   \n",
              "3             2                  6                3                500000.00   \n",
              "4             2                  8                1                250000.00   \n",
              "...         ...                ...              ...                      ...   \n",
              "1142          4                  6                5               1270629.01   \n",
              "1143          4                  6                1               1270629.01   \n",
              "1144          4                  8                3               1270629.01   \n",
              "1145          2                  6                3               1270629.01   \n",
              "1146          4                  8                1               1270629.01   \n",
              "\n",
              "      ST_REELEICAO  RESULTADO  \n",
              "0                0          3  \n",
              "1                0          3  \n",
              "2                0          3  \n",
              "3                0          3  \n",
              "4                0          3  \n",
              "...            ...        ...  \n",
              "1142             0          4  \n",
              "1143             0          3  \n",
              "1144             0          4  \n",
              "1145             0          4  \n",
              "1146             0          4  \n",
              "\n",
              "[1147 rows x 10 columns]"
            ],
            "text/html": [
              "\n",
              "  <div id=\"df-daade56b-8d2b-4777-a182-6689108425d9\">\n",
              "    <div class=\"colab-df-container\">\n",
              "      <div>\n",
              "<style scoped>\n",
              "    .dataframe tbody tr th:only-of-type {\n",
              "        vertical-align: middle;\n",
              "    }\n",
              "\n",
              "    .dataframe tbody tr th {\n",
              "        vertical-align: top;\n",
              "    }\n",
              "\n",
              "    .dataframe thead th {\n",
              "        text-align: right;\n",
              "    }\n",
              "</style>\n",
              "<table border=\"1\" class=\"dataframe\">\n",
              "  <thead>\n",
              "    <tr style=\"text-align: right;\">\n",
              "      <th></th>\n",
              "      <th>NR_CANDIDATO</th>\n",
              "      <th>NR_PARTIDO</th>\n",
              "      <th>SG_UF_NASCIMENTO</th>\n",
              "      <th>NR_IDADE_DATA_POSSE</th>\n",
              "      <th>CD_GENERO</th>\n",
              "      <th>CD_GRAU_INSTRUCAO</th>\n",
              "      <th>CD_ESTADO_CIVIL</th>\n",
              "      <th>VR_DESPESA_MAX_CAMPANHA</th>\n",
              "      <th>ST_REELEICAO</th>\n",
              "      <th>RESULTADO</th>\n",
              "    </tr>\n",
              "  </thead>\n",
              "  <tbody>\n",
              "    <tr>\n",
              "      <th>0</th>\n",
              "      <td>False</td>\n",
              "      <td>13</td>\n",
              "      <td>0</td>\n",
              "      <td>44</td>\n",
              "      <td>2</td>\n",
              "      <td>7</td>\n",
              "      <td>9</td>\n",
              "      <td>500000.00</td>\n",
              "      <td>0</td>\n",
              "      <td>3</td>\n",
              "    </tr>\n",
              "    <tr>\n",
              "      <th>1</th>\n",
              "      <td>True</td>\n",
              "      <td>12</td>\n",
              "      <td>0</td>\n",
              "      <td>61</td>\n",
              "      <td>2</td>\n",
              "      <td>6</td>\n",
              "      <td>3</td>\n",
              "      <td>100000.00</td>\n",
              "      <td>0</td>\n",
              "      <td>3</td>\n",
              "    </tr>\n",
              "    <tr>\n",
              "      <th>2</th>\n",
              "      <td>False</td>\n",
              "      <td>40</td>\n",
              "      <td>0</td>\n",
              "      <td>49</td>\n",
              "      <td>2</td>\n",
              "      <td>8</td>\n",
              "      <td>3</td>\n",
              "      <td>500000.00</td>\n",
              "      <td>0</td>\n",
              "      <td>3</td>\n",
              "    </tr>\n",
              "    <tr>\n",
              "      <th>3</th>\n",
              "      <td>False</td>\n",
              "      <td>31</td>\n",
              "      <td>0</td>\n",
              "      <td>46</td>\n",
              "      <td>2</td>\n",
              "      <td>6</td>\n",
              "      <td>3</td>\n",
              "      <td>500000.00</td>\n",
              "      <td>0</td>\n",
              "      <td>3</td>\n",
              "    </tr>\n",
              "    <tr>\n",
              "      <th>4</th>\n",
              "      <td>False</td>\n",
              "      <td>43</td>\n",
              "      <td>1</td>\n",
              "      <td>58</td>\n",
              "      <td>2</td>\n",
              "      <td>8</td>\n",
              "      <td>1</td>\n",
              "      <td>250000.00</td>\n",
              "      <td>0</td>\n",
              "      <td>3</td>\n",
              "    </tr>\n",
              "    <tr>\n",
              "      <th>...</th>\n",
              "      <td>...</td>\n",
              "      <td>...</td>\n",
              "      <td>...</td>\n",
              "      <td>...</td>\n",
              "      <td>...</td>\n",
              "      <td>...</td>\n",
              "      <td>...</td>\n",
              "      <td>...</td>\n",
              "      <td>...</td>\n",
              "      <td>...</td>\n",
              "    </tr>\n",
              "    <tr>\n",
              "      <th>1142</th>\n",
              "      <td>False</td>\n",
              "      <td>12</td>\n",
              "      <td>1</td>\n",
              "      <td>44</td>\n",
              "      <td>4</td>\n",
              "      <td>6</td>\n",
              "      <td>5</td>\n",
              "      <td>1270629.01</td>\n",
              "      <td>0</td>\n",
              "      <td>4</td>\n",
              "    </tr>\n",
              "    <tr>\n",
              "      <th>1143</th>\n",
              "      <td>False</td>\n",
              "      <td>77</td>\n",
              "      <td>0</td>\n",
              "      <td>48</td>\n",
              "      <td>4</td>\n",
              "      <td>6</td>\n",
              "      <td>1</td>\n",
              "      <td>1270629.01</td>\n",
              "      <td>0</td>\n",
              "      <td>3</td>\n",
              "    </tr>\n",
              "    <tr>\n",
              "      <th>1144</th>\n",
              "      <td>True</td>\n",
              "      <td>10</td>\n",
              "      <td>0</td>\n",
              "      <td>37</td>\n",
              "      <td>4</td>\n",
              "      <td>8</td>\n",
              "      <td>3</td>\n",
              "      <td>1270629.01</td>\n",
              "      <td>0</td>\n",
              "      <td>4</td>\n",
              "    </tr>\n",
              "    <tr>\n",
              "      <th>1145</th>\n",
              "      <td>False</td>\n",
              "      <td>51</td>\n",
              "      <td>0</td>\n",
              "      <td>43</td>\n",
              "      <td>2</td>\n",
              "      <td>6</td>\n",
              "      <td>3</td>\n",
              "      <td>1270629.01</td>\n",
              "      <td>0</td>\n",
              "      <td>4</td>\n",
              "    </tr>\n",
              "    <tr>\n",
              "      <th>1146</th>\n",
              "      <td>False</td>\n",
              "      <td>70</td>\n",
              "      <td>0</td>\n",
              "      <td>30</td>\n",
              "      <td>4</td>\n",
              "      <td>8</td>\n",
              "      <td>1</td>\n",
              "      <td>1270629.01</td>\n",
              "      <td>0</td>\n",
              "      <td>4</td>\n",
              "    </tr>\n",
              "  </tbody>\n",
              "</table>\n",
              "<p>1147 rows × 10 columns</p>\n",
              "</div>\n",
              "      <button class=\"colab-df-convert\" onclick=\"convertToInteractive('df-daade56b-8d2b-4777-a182-6689108425d9')\"\n",
              "              title=\"Convert this dataframe to an interactive table.\"\n",
              "              style=\"display:none;\">\n",
              "        \n",
              "  <svg xmlns=\"http://www.w3.org/2000/svg\" height=\"24px\"viewBox=\"0 0 24 24\"\n",
              "       width=\"24px\">\n",
              "    <path d=\"M0 0h24v24H0V0z\" fill=\"none\"/>\n",
              "    <path d=\"M18.56 5.44l.94 2.06.94-2.06 2.06-.94-2.06-.94-.94-2.06-.94 2.06-2.06.94zm-11 1L8.5 8.5l.94-2.06 2.06-.94-2.06-.94L8.5 2.5l-.94 2.06-2.06.94zm10 10l.94 2.06.94-2.06 2.06-.94-2.06-.94-.94-2.06-.94 2.06-2.06.94z\"/><path d=\"M17.41 7.96l-1.37-1.37c-.4-.4-.92-.59-1.43-.59-.52 0-1.04.2-1.43.59L10.3 9.45l-7.72 7.72c-.78.78-.78 2.05 0 2.83L4 21.41c.39.39.9.59 1.41.59.51 0 1.02-.2 1.41-.59l7.78-7.78 2.81-2.81c.8-.78.8-2.07 0-2.86zM5.41 20L4 18.59l7.72-7.72 1.47 1.35L5.41 20z\"/>\n",
              "  </svg>\n",
              "      </button>\n",
              "      \n",
              "  <style>\n",
              "    .colab-df-container {\n",
              "      display:flex;\n",
              "      flex-wrap:wrap;\n",
              "      gap: 12px;\n",
              "    }\n",
              "\n",
              "    .colab-df-convert {\n",
              "      background-color: #E8F0FE;\n",
              "      border: none;\n",
              "      border-radius: 50%;\n",
              "      cursor: pointer;\n",
              "      display: none;\n",
              "      fill: #1967D2;\n",
              "      height: 32px;\n",
              "      padding: 0 0 0 0;\n",
              "      width: 32px;\n",
              "    }\n",
              "\n",
              "    .colab-df-convert:hover {\n",
              "      background-color: #E2EBFA;\n",
              "      box-shadow: 0px 1px 2px rgba(60, 64, 67, 0.3), 0px 1px 3px 1px rgba(60, 64, 67, 0.15);\n",
              "      fill: #174EA6;\n",
              "    }\n",
              "\n",
              "    [theme=dark] .colab-df-convert {\n",
              "      background-color: #3B4455;\n",
              "      fill: #D2E3FC;\n",
              "    }\n",
              "\n",
              "    [theme=dark] .colab-df-convert:hover {\n",
              "      background-color: #434B5C;\n",
              "      box-shadow: 0px 1px 3px 1px rgba(0, 0, 0, 0.15);\n",
              "      filter: drop-shadow(0px 1px 2px rgba(0, 0, 0, 0.3));\n",
              "      fill: #FFFFFF;\n",
              "    }\n",
              "  </style>\n",
              "\n",
              "      <script>\n",
              "        const buttonEl =\n",
              "          document.querySelector('#df-daade56b-8d2b-4777-a182-6689108425d9 button.colab-df-convert');\n",
              "        buttonEl.style.display =\n",
              "          google.colab.kernel.accessAllowed ? 'block' : 'none';\n",
              "\n",
              "        async function convertToInteractive(key) {\n",
              "          const element = document.querySelector('#df-daade56b-8d2b-4777-a182-6689108425d9');\n",
              "          const dataTable =\n",
              "            await google.colab.kernel.invokeFunction('convertToInteractive',\n",
              "                                                     [key], {});\n",
              "          if (!dataTable) return;\n",
              "\n",
              "          const docLinkHtml = 'Like what you see? Visit the ' +\n",
              "            '<a target=\"_blank\" href=https://colab.research.google.com/notebooks/data_table.ipynb>data table notebook</a>'\n",
              "            + ' to learn more about interactive tables.';\n",
              "          element.innerHTML = '';\n",
              "          dataTable['output_type'] = 'display_data';\n",
              "          await google.colab.output.renderOutput(dataTable, element);\n",
              "          const docLink = document.createElement('div');\n",
              "          docLink.innerHTML = docLinkHtml;\n",
              "          element.appendChild(docLink);\n",
              "        }\n",
              "      </script>\n",
              "    </div>\n",
              "  </div>\n",
              "  "
            ]
          },
          "metadata": {},
          "execution_count": 529
        }
      ],
      "source": [
        "base"
      ]
    },
    {
      "cell_type": "markdown",
      "metadata": {
        "id": "dTSiU5GC59TA"
      },
      "source": [
        "##FAZENDO A MATRIZ DE CORRELAÇÃO LOGO ANTES QUE EU ME ESQUEÇA"
      ]
    },
    {
      "cell_type": "code",
      "execution_count": null,
      "metadata": {
        "id": "7rHgtmr-58or",
        "colab": {
          "base_uri": "https://localhost:8080/",
          "height": 413
        },
        "outputId": "b37a147b-8931-4d65-d815-b7838ded2577"
      },
      "outputs": [
        {
          "output_type": "display_data",
          "data": {
            "text/plain": [
              "<Figure size 432x288 with 2 Axes>"
            ],
            "image/png": "[encoded data removed]"
          },
          "metadata": {
            "needs_background": "light"
          }
        }
      ],
      "source": [
        "corr = base.corr()\n",
        "\n",
        "# Usamos o método heatmap do seaborn para plotar a matriz de correlação\n",
        "sns.heatmap(corr, annot=False, cmap=\"YlGnBu\")\n",
        "\n",
        "# Exibimos o gráfico\n",
        "plt.show()"
      ]
    },
    {
      "cell_type": "markdown",
      "metadata": {
        "id": "FnWfbKjkNyg6"
      },
      "source": [
        "# Separando o que eu vou usar de entrada do que eu vou usar de saída"
      ]
    },
    {
      "cell_type": "code",
      "source": [
        "base = base.reindex(columns=['ST_REELEICAO','VR_DESPESA_MAX_CAMPANHA','CD_ESTADO_CIVIL','CD_GRAU_INSTRUCAO', 'CD_GENERO','NR_IDADE_DATA_POSSE','SG_UF_NASCIMENTO','NR_PARTIDO', 'NR_CANDIDATO', 'RESULTADO'])"
      ],
      "metadata": {
        "id": "E-v9damu6OCb"
      },
      "execution_count": null,
      "outputs": []
    },
    {
      "cell_type": "code",
      "source": [
        "base"
      ],
      "metadata": {
        "colab": {
          "base_uri": "https://localhost:8080/",
          "height": 424
        },
        "id": "5xBfEOEd6Q_I",
        "outputId": "46baad95-a7e7-42b4-a67b-4969991cba2c"
      },
      "execution_count": null,
      "outputs": [
        {
          "output_type": "execute_result",
          "data": {
            "text/plain": [
              "      ST_REELEICAO  VR_DESPESA_MAX_CAMPANHA  CD_ESTADO_CIVIL  \\\n",
              "0                0                500000.00                9   \n",
              "1                0                100000.00                3   \n",
              "2                0                500000.00                3   \n",
              "3                0                500000.00                3   \n",
              "4                0                250000.00                1   \n",
              "...            ...                      ...              ...   \n",
              "1142             0               1270629.01                5   \n",
              "1143             0               1270629.01                1   \n",
              "1144             0               1270629.01                3   \n",
              "1145             0               1270629.01                3   \n",
              "1146             0               1270629.01                1   \n",
              "\n",
              "      CD_GRAU_INSTRUCAO  CD_GENERO  NR_IDADE_DATA_POSSE  SG_UF_NASCIMENTO  \\\n",
              "0                     7          2                   44                 0   \n",
              "1                     6          2                   61                 0   \n",
              "2                     8          2                   49                 0   \n",
              "3                     6          2                   46                 0   \n",
              "4                     8          2                   58                 1   \n",
              "...                 ...        ...                  ...               ...   \n",
              "1142                  6          4                   44                 1   \n",
              "1143                  6          4                   48                 0   \n",
              "1144                  8          4                   37                 0   \n",
              "1145                  6          2                   43                 0   \n",
              "1146                  8          4                   30                 0   \n",
              "\n",
              "      NR_PARTIDO  NR_CANDIDATO  RESULTADO  \n",
              "0             13         False          3  \n",
              "1             12          True          3  \n",
              "2             40         False          3  \n",
              "3             31         False          3  \n",
              "4             43         False          3  \n",
              "...          ...           ...        ...  \n",
              "1142          12         False          4  \n",
              "1143          77         False          3  \n",
              "1144          10          True          4  \n",
              "1145          51         False          4  \n",
              "1146          70         False          4  \n",
              "\n",
              "[1147 rows x 10 columns]"
            ],
            "text/html": [
              "\n",
              "  <div id=\"df-ddaf40a3-b0c6-4da2-a5d7-2e61a2ba7e3d\">\n",
              "    <div class=\"colab-df-container\">\n",
              "      <div>\n",
              "<style scoped>\n",
              "    .dataframe tbody tr th:only-of-type {\n",
              "        vertical-align: middle;\n",
              "    }\n",
              "\n",
              "    .dataframe tbody tr th {\n",
              "        vertical-align: top;\n",
              "    }\n",
              "\n",
              "    .dataframe thead th {\n",
              "        text-align: right;\n",
              "    }\n",
              "</style>\n",
              "<table border=\"1\" class=\"dataframe\">\n",
              "  <thead>\n",
              "    <tr style=\"text-align: right;\">\n",
              "      <th></th>\n",
              "      <th>ST_REELEICAO</th>\n",
              "      <th>VR_DESPESA_MAX_CAMPANHA</th>\n",
              "      <th>CD_ESTADO_CIVIL</th>\n",
              "      <th>CD_GRAU_INSTRUCAO</th>\n",
              "      <th>CD_GENERO</th>\n",
              "      <th>NR_IDADE_DATA_POSSE</th>\n",
              "      <th>SG_UF_NASCIMENTO</th>\n",
              "      <th>NR_PARTIDO</th>\n",
              "      <th>NR_CANDIDATO</th>\n",
              "      <th>RESULTADO</th>\n",
              "    </tr>\n",
              "  </thead>\n",
              "  <tbody>\n",
              "    <tr>\n",
              "      <th>0</th>\n",
              "      <td>0</td>\n",
              "      <td>500000.00</td>\n",
              "      <td>9</td>\n",
              "      <td>7</td>\n",
              "      <td>2</td>\n",
              "      <td>44</td>\n",
              "      <td>0</td>\n",
              "      <td>13</td>\n",
              "      <td>False</td>\n",
              "      <td>3</td>\n",
              "    </tr>\n",
              "    <tr>\n",
              "      <th>1</th>\n",
              "      <td>0</td>\n",
              "      <td>100000.00</td>\n",
              "      <td>3</td>\n",
              "      <td>6</td>\n",
              "      <td>2</td>\n",
              "      <td>61</td>\n",
              "      <td>0</td>\n",
              "      <td>12</td>\n",
              "      <td>True</td>\n",
              "      <td>3</td>\n",
              "    </tr>\n",
              "    <tr>\n",
              "      <th>2</th>\n",
              "      <td>0</td>\n",
              "      <td>500000.00</td>\n",
              "      <td>3</td>\n",
              "      <td>8</td>\n",
              "      <td>2</td>\n",
              "      <td>49</td>\n",
              "      <td>0</td>\n",
              "      <td>40</td>\n",
              "      <td>False</td>\n",
              "      <td>3</td>\n",
              "    </tr>\n",
              "    <tr>\n",
              "      <th>3</th>\n",
              "      <td>0</td>\n",
              "      <td>500000.00</td>\n",
              "      <td>3</td>\n",
              "      <td>6</td>\n",
              "      <td>2</td>\n",
              "      <td>46</td>\n",
              "      <td>0</td>\n",
              "      <td>31</td>\n",
              "      <td>False</td>\n",
              "      <td>3</td>\n",
              "    </tr>\n",
              "    <tr>\n",
              "      <th>4</th>\n",
              "      <td>0</td>\n",
              "      <td>250000.00</td>\n",
              "      <td>1</td>\n",
              "      <td>8</td>\n",
              "      <td>2</td>\n",
              "      <td>58</td>\n",
              "      <td>1</td>\n",
              "      <td>43</td>\n",
              "      <td>False</td>\n",
              "      <td>3</td>\n",
              "    </tr>\n",
              "    <tr>\n",
              "      <th>...</th>\n",
              "      <td>...</td>\n",
              "      <td>...</td>\n",
              "      <td>...</td>\n",
              "      <td>...</td>\n",
              "      <td>...</td>\n",
              "      <td>...</td>\n",
              "      <td>...</td>\n",
              "      <td>...</td>\n",
              "      <td>...</td>\n",
              "      <td>...</td>\n",
              "    </tr>\n",
              "    <tr>\n",
              "      <th>1142</th>\n",
              "      <td>0</td>\n",
              "      <td>1270629.01</td>\n",
              "      <td>5</td>\n",
              "      <td>6</td>\n",
              "      <td>4</td>\n",
              "      <td>44</td>\n",
              "      <td>1</td>\n",
              "      <td>12</td>\n",
              "      <td>False</td>\n",
              "      <td>4</td>\n",
              "    </tr>\n",
              "    <tr>\n",
              "      <th>1143</th>\n",
              "      <td>0</td>\n",
              "      <td>1270629.01</td>\n",
              "      <td>1</td>\n",
              "      <td>6</td>\n",
              "      <td>4</td>\n",
              "      <td>48</td>\n",
              "      <td>0</td>\n",
              "      <td>77</td>\n",
              "      <td>False</td>\n",
              "      <td>3</td>\n",
              "    </tr>\n",
              "    <tr>\n",
              "      <th>1144</th>\n",
              "      <td>0</td>\n",
              "      <td>1270629.01</td>\n",
              "      <td>3</td>\n",
              "      <td>8</td>\n",
              "      <td>4</td>\n",
              "      <td>37</td>\n",
              "      <td>0</td>\n",
              "      <td>10</td>\n",
              "      <td>True</td>\n",
              "      <td>4</td>\n",
              "    </tr>\n",
              "    <tr>\n",
              "      <th>1145</th>\n",
              "      <td>0</td>\n",
              "      <td>1270629.01</td>\n",
              "      <td>3</td>\n",
              "      <td>6</td>\n",
              "      <td>2</td>\n",
              "      <td>43</td>\n",
              "      <td>0</td>\n",
              "      <td>51</td>\n",
              "      <td>False</td>\n",
              "      <td>4</td>\n",
              "    </tr>\n",
              "    <tr>\n",
              "      <th>1146</th>\n",
              "      <td>0</td>\n",
              "      <td>1270629.01</td>\n",
              "      <td>1</td>\n",
              "      <td>8</td>\n",
              "      <td>4</td>\n",
              "      <td>30</td>\n",
              "      <td>0</td>\n",
              "      <td>70</td>\n",
              "      <td>False</td>\n",
              "      <td>4</td>\n",
              "    </tr>\n",
              "  </tbody>\n",
              "</table>\n",
              "<p>1147 rows × 10 columns</p>\n",
              "</div>\n",
              "      <button class=\"colab-df-convert\" onclick=\"convertToInteractive('df-ddaf40a3-b0c6-4da2-a5d7-2e61a2ba7e3d')\"\n",
              "              title=\"Convert this dataframe to an interactive table.\"\n",
              "              style=\"display:none;\">\n",
              "        \n",
              "  <svg xmlns=\"http://www.w3.org/2000/svg\" height=\"24px\"viewBox=\"0 0 24 24\"\n",
              "       width=\"24px\">\n",
              "    <path d=\"M0 0h24v24H0V0z\" fill=\"none\"/>\n",
              "    <path d=\"M18.56 5.44l.94 2.06.94-2.06 2.06-.94-2.06-.94-.94-2.06-.94 2.06-2.06.94zm-11 1L8.5 8.5l.94-2.06 2.06-.94-2.06-.94L8.5 2.5l-.94 2.06-2.06.94zm10 10l.94 2.06.94-2.06 2.06-.94-2.06-.94-.94-2.06-.94 2.06-2.06.94z\"/><path d=\"M17.41 7.96l-1.37-1.37c-.4-.4-.92-.59-1.43-.59-.52 0-1.04.2-1.43.59L10.3 9.45l-7.72 7.72c-.78.78-.78 2.05 0 2.83L4 21.41c.39.39.9.59 1.41.59.51 0 1.02-.2 1.41-.59l7.78-7.78 2.81-2.81c.8-.78.8-2.07 0-2.86zM5.41 20L4 18.59l7.72-7.72 1.47 1.35L5.41 20z\"/>\n",
              "  </svg>\n",
              "      </button>\n",
              "      \n",
              "  <style>\n",
              "    .colab-df-container {\n",
              "      display:flex;\n",
              "      flex-wrap:wrap;\n",
              "      gap: 12px;\n",
              "    }\n",
              "\n",
              "    .colab-df-convert {\n",
              "      background-color: #E8F0FE;\n",
              "      border: none;\n",
              "      border-radius: 50%;\n",
              "      cursor: pointer;\n",
              "      display: none;\n",
              "      fill: #1967D2;\n",
              "      height: 32px;\n",
              "      padding: 0 0 0 0;\n",
              "      width: 32px;\n",
              "    }\n",
              "\n",
              "    .colab-df-convert:hover {\n",
              "      background-color: #E2EBFA;\n",
              "      box-shadow: 0px 1px 2px rgba(60, 64, 67, 0.3), 0px 1px 3px 1px rgba(60, 64, 67, 0.15);\n",
              "      fill: #174EA6;\n",
              "    }\n",
              "\n",
              "    [theme=dark] .colab-df-convert {\n",
              "      background-color: #3B4455;\n",
              "      fill: #D2E3FC;\n",
              "    }\n",
              "\n",
              "    [theme=dark] .colab-df-convert:hover {\n",
              "      background-color: #434B5C;\n",
              "      box-shadow: 0px 1px 3px 1px rgba(0, 0, 0, 0.15);\n",
              "      filter: drop-shadow(0px 1px 2px rgba(0, 0, 0, 0.3));\n",
              "      fill: #FFFFFF;\n",
              "    }\n",
              "  </style>\n",
              "\n",
              "      <script>\n",
              "        const buttonEl =\n",
              "          document.querySelector('#df-ddaf40a3-b0c6-4da2-a5d7-2e61a2ba7e3d button.colab-df-convert');\n",
              "        buttonEl.style.display =\n",
              "          google.colab.kernel.accessAllowed ? 'block' : 'none';\n",
              "\n",
              "        async function convertToInteractive(key) {\n",
              "          const element = document.querySelector('#df-ddaf40a3-b0c6-4da2-a5d7-2e61a2ba7e3d');\n",
              "          const dataTable =\n",
              "            await google.colab.kernel.invokeFunction('convertToInteractive',\n",
              "                                                     [key], {});\n",
              "          if (!dataTable) return;\n",
              "\n",
              "          const docLinkHtml = 'Like what you see? Visit the ' +\n",
              "            '<a target=\"_blank\" href=https://colab.research.google.com/notebooks/data_table.ipynb>data table notebook</a>'\n",
              "            + ' to learn more about interactive tables.';\n",
              "          element.innerHTML = '';\n",
              "          dataTable['output_type'] = 'display_data';\n",
              "          await google.colab.output.renderOutput(dataTable, element);\n",
              "          const docLink = document.createElement('div');\n",
              "          docLink.innerHTML = docLinkHtml;\n",
              "          element.appendChild(docLink);\n",
              "        }\n",
              "      </script>\n",
              "    </div>\n",
              "  </div>\n",
              "  "
            ]
          },
          "metadata": {},
          "execution_count": 532
        }
      ]
    },
    {
      "cell_type": "code",
      "execution_count": null,
      "metadata": {
        "id": "OXB2v_CZNyg7"
      },
      "outputs": [],
      "source": [
        "x = base.iloc[: , 1:9].values\n",
        "y = base.iloc[: , 9].values"
      ]
    },
    {
      "cell_type": "code",
      "execution_count": null,
      "metadata": {
        "id": "yIVLDPmSfHjJ",
        "colab": {
          "base_uri": "https://localhost:8080/"
        },
        "outputId": "d9c0939f-ea61-49d1-ad28-3a1f2b31672f"
      },
      "outputs": [
        {
          "output_type": "execute_result",
          "data": {
            "text/plain": [
              "array([500000.0, 9, 7, 2, 44, 0, 13, False], dtype=object)"
            ]
          },
          "metadata": {},
          "execution_count": 534
        }
      ],
      "source": [
        "x[0]"
      ]
    },
    {
      "cell_type": "code",
      "execution_count": null,
      "metadata": {
        "id": "M3M8IeCgNyg8",
        "colab": {
          "base_uri": "https://localhost:8080/"
        },
        "outputId": "b948044e-a62b-4ad1-ca61-b4c81b62f574"
      },
      "outputs": [
        {
          "output_type": "execute_result",
          "data": {
            "text/plain": [
              "3"
            ]
          },
          "metadata": {},
          "execution_count": 535
        }
      ],
      "source": [
        "y[0]"
      ]
    },
    {
      "cell_type": "markdown",
      "metadata": {
        "id": "mdLko1pxNyhA"
      },
      "source": [
        "# Transformando as variáveis que são letras em variáveis numéricas"
      ]
    },
    {
      "cell_type": "markdown",
      "metadata": {
        "id": "0u3GAJBulnTz"
      },
      "source": [
        "from sklearn.preprocessing import LabelEncoder\n",
        "label_encoder = LabelEncoder()\n",
        "x[:,3] = label_encoder.fit_transform(x[:,3])\n",
        "x[:,4] = label_encoder.fit_transform(x[:,4])\n",
        "x[:,11] = label_encoder.fit_transform(x[:,11])"
      ]
    },
    {
      "cell_type": "code",
      "execution_count": null,
      "metadata": {
        "id": "LFVxIKCBNyhB",
        "colab": {
          "base_uri": "https://localhost:8080/"
        },
        "outputId": "2779d9bc-8f42-41fd-b770-85488a0ac381"
      },
      "outputs": [
        {
          "output_type": "execute_result",
          "data": {
            "text/plain": [
              "array([100000.0, 3, 6, 2, 61, 0, 12, True], dtype=object)"
            ]
          },
          "metadata": {},
          "execution_count": 536
        }
      ],
      "source": [
        "x[1]"
      ]
    },
    {
      "cell_type": "markdown",
      "metadata": {
        "id": "KgyVaVHVNyhC"
      },
      "source": [
        "# Normalizando esse treco"
      ]
    },
    {
      "cell_type": "code",
      "execution_count": null,
      "metadata": {
        "id": "Aaiq0zfoNyhD"
      },
      "outputs": [],
      "source": [
        "from sklearn.preprocessing import StandardScaler\n",
        "scaler_x = StandardScaler()\n",
        "X = scaler_x.fit_transform(x)"
      ]
    },
    {
      "cell_type": "code",
      "execution_count": null,
      "metadata": {
        "id": "7g0IS_0TNyhD",
        "colab": {
          "base_uri": "https://localhost:8080/"
        },
        "outputId": "cbe586e6-6b31-4730-8e18-096e09afa010"
      },
      "outputs": [
        {
          "output_type": "stream",
          "name": "stdout",
          "text": [
            "[-1.25889699  0.02591193 -0.46058256 -0.63419279  1.25193965 -0.45118475\n",
            " -1.19928358  2.00218222]\n"
          ]
        }
      ],
      "source": [
        "print(X[1])"
      ]
    },
    {
      "cell_type": "markdown",
      "metadata": {
        "id": "DTEB6yBWNyhE"
      },
      "source": [
        "# Vamos organizar a saída pra que seja uma variável binária mas com o 1 em apenas uma das casas"
      ]
    },
    {
      "cell_type": "code",
      "execution_count": null,
      "metadata": {
        "id": "4-MwVETvNyhE",
        "colab": {
          "base_uri": "https://localhost:8080/"
        },
        "outputId": "fcb038ee-1ffa-4dcb-9783-2a3f49533f7f"
      },
      "outputs": [
        {
          "output_type": "execute_result",
          "data": {
            "text/plain": [
              "(1147,)"
            ]
          },
          "metadata": {},
          "execution_count": 539
        }
      ],
      "source": [
        "from sklearn.preprocessing import OneHotEncoder\n",
        "onehot = OneHotEncoder()\n",
        "y.shape"
      ]
    },
    {
      "cell_type": "markdown",
      "metadata": {
        "id": "OmbRYLd2NyhF"
      },
      "source": [
        "# Pra isso preciso fazer o reshape do y"
      ]
    },
    {
      "cell_type": "code",
      "execution_count": null,
      "metadata": {
        "id": "mzYv7xpzNyhF",
        "colab": {
          "base_uri": "https://localhost:8080/"
        },
        "outputId": "8d0b146e-25ee-4f04-b4f5-6731060fd071"
      },
      "outputs": [
        {
          "output_type": "execute_result",
          "data": {
            "text/plain": [
              "(1147, 1)"
            ]
          },
          "metadata": {},
          "execution_count": 540
        }
      ],
      "source": [
        "y = y.reshape(-1, 1)\n",
        "y.shape"
      ]
    },
    {
      "cell_type": "markdown",
      "metadata": {
        "id": "gaASt8fkNyhG"
      },
      "source": [
        "Agora vamos fazer isso de fato"
      ]
    },
    {
      "cell_type": "code",
      "execution_count": null,
      "metadata": {
        "id": "UZ3UifCMNyhG",
        "colab": {
          "base_uri": "https://localhost:8080/"
        },
        "outputId": "65a24f0b-96dd-487a-82ce-d0691df56e99"
      },
      "outputs": [
        {
          "output_type": "execute_result",
          "data": {
            "text/plain": [
              "array([[0., 0., 1., 0.],\n",
              "       [0., 0., 1., 0.],\n",
              "       [0., 0., 1., 0.],\n",
              "       ...,\n",
              "       [0., 0., 0., 1.],\n",
              "       [0., 0., 0., 1.],\n",
              "       [0., 0., 0., 1.]])"
            ]
          },
          "metadata": {},
          "execution_count": 541
        }
      ],
      "source": [
        "y = onehot.fit_transform(y).toarray()\n",
        "y"
      ]
    },
    {
      "cell_type": "markdown",
      "metadata": {
        "id": "xopkp7AGNyhH"
      },
      "source": [
        "# Aqui vamos organizar o treinamento da rede neural\n",
        "(lembrando que a gente ta usando 70% das amostras como treinamento e 30% de teste) "
      ]
    },
    {
      "cell_type": "code",
      "execution_count": null,
      "metadata": {
        "id": "bcpeVHyoNyhH"
      },
      "outputs": [],
      "source": [
        "from sklearn.model_selection import train_test_split\n",
        "X_treinamento, X_teste, y_treinamento, y_teste = train_test_split(X, y, test_size = 0.24, shuffle ='false' )"
      ]
    },
    {
      "cell_type": "code",
      "execution_count": null,
      "metadata": {
        "id": "qKTGE8lLNyhI",
        "colab": {
          "base_uri": "https://localhost:8080/"
        },
        "outputId": "2c1ef671-a4a8-4ff5-cbda-2f429d96b4f6"
      },
      "outputs": [
        {
          "output_type": "execute_result",
          "data": {
            "text/plain": [
              "(871, 8)"
            ]
          },
          "metadata": {},
          "execution_count": 543
        }
      ],
      "source": [
        "X_treinamento.shape"
      ]
    },
    {
      "cell_type": "code",
      "execution_count": null,
      "metadata": {
        "id": "VzlecRkWNyhI",
        "colab": {
          "base_uri": "https://localhost:8080/"
        },
        "outputId": "57832915-b0c1-451b-ec98-0fac45dc0c93"
      },
      "outputs": [
        {
          "output_type": "execute_result",
          "data": {
            "text/plain": [
              "(276, 8)"
            ]
          },
          "metadata": {},
          "execution_count": 544
        }
      ],
      "source": [
        "X_teste.shape"
      ]
    },
    {
      "cell_type": "code",
      "execution_count": null,
      "metadata": {
        "id": "ZOGRlcnCfHjU",
        "colab": {
          "base_uri": "https://localhost:8080/",
          "height": 36
        },
        "outputId": "a44645c5-6c3e-48d7-c237-3ef9fd270ecd"
      },
      "outputs": [
        {
          "output_type": "execute_result",
          "data": {
            "text/plain": [
              "'2.9.2'"
            ],
            "application/vnd.google.colaboratory.intrinsic+json": {
              "type": "string"
            }
          },
          "metadata": {},
          "execution_count": 545
        }
      ],
      "source": [
        "import tensorflow as tf\n",
        "import numpy as np\n",
        "\n",
        "tf.random.set_seed(42)\n",
        "\n",
        "tf.__version__"
      ]
    },
    {
      "cell_type": "markdown",
      "metadata": {
        "id": "4fpk4uDzNyhJ"
      },
      "source": [
        "# Só pra conferir se temos a quantidade de neuronios nas camadas corretamente"
      ]
    },
    {
      "cell_type": "code",
      "execution_count": null,
      "metadata": {
        "id": "h1GnI639fHjf",
        "colab": {
          "base_uri": "https://localhost:8080/"
        },
        "outputId": "ecdc019e-b0e4-4c41-8f2c-29b29061b208"
      },
      "outputs": [
        {
          "output_type": "execute_result",
          "data": {
            "text/plain": [
              "8"
            ]
          },
          "metadata": {},
          "execution_count": 546
        }
      ],
      "source": [
        "neuronios_entrada = X.shape[1]\n",
        "neuronios_entrada"
      ]
    },
    {
      "cell_type": "code",
      "execution_count": null,
      "metadata": {
        "id": "JF5XXqu_fHju",
        "colab": {
          "base_uri": "https://localhost:8080/"
        },
        "outputId": "65dd10f1-0e1b-4740-c136-e737b2e6389c"
      },
      "outputs": [
        {
          "output_type": "execute_result",
          "data": {
            "text/plain": [
              "6"
            ]
          },
          "metadata": {},
          "execution_count": 547
        }
      ],
      "source": [
        "neuronios_oculta = int(np.ceil((X.shape[1] + y.shape[1]) / 2))\n",
        "neuronios_oculta"
      ]
    },
    {
      "cell_type": "code",
      "execution_count": null,
      "metadata": {
        "id": "serXy88efHj5",
        "colab": {
          "base_uri": "https://localhost:8080/"
        },
        "outputId": "51179a3f-4f79-44dd-86ad-42486cee8e9f"
      },
      "outputs": [
        {
          "output_type": "execute_result",
          "data": {
            "text/plain": [
              "4"
            ]
          },
          "metadata": {},
          "execution_count": 548
        }
      ],
      "source": [
        "neuronios_saida = y.shape[1]\n",
        "neuronios_saida"
      ]
    },
    {
      "cell_type": "markdown",
      "metadata": {
        "id": "liydkOaRNyhL"
      },
      "source": [
        "# Criando as variáveis de pesos"
      ]
    },
    {
      "cell_type": "code",
      "execution_count": null,
      "metadata": {
        "id": "YC7-horvfHkH"
      },
      "outputs": [],
      "source": [
        "W = {'oculta': tf.Variable(tf.random.normal([neuronios_entrada, neuronios_oculta])),\n",
        "     'saida': tf.Variable(tf.random.normal([neuronios_oculta, neuronios_saida]))}"
      ]
    },
    {
      "cell_type": "markdown",
      "metadata": {
        "id": "rZD2p3qONyhM"
      },
      "source": [
        "# Criando as variáveis de baias"
      ]
    },
    {
      "cell_type": "code",
      "execution_count": null,
      "metadata": {
        "id": "1fYGJSS6fHkP"
      },
      "outputs": [],
      "source": [
        "b = {'oculta': tf.Variable(tf.random.normal([neuronios_oculta])),\n",
        "     'saida': tf.Variable(tf.random.normal([neuronios_saida]))}"
      ]
    },
    {
      "cell_type": "markdown",
      "metadata": {
        "id": "HpBYrpa3NyhM"
      },
      "source": [
        "# Definindo o teste"
      ]
    },
    {
      "cell_type": "code",
      "execution_count": null,
      "metadata": {
        "id": "uCL3570DfHkX"
      },
      "outputs": [],
      "source": [
        "X_treinamento = tf.convert_to_tensor(X_treinamento, dtype = tf.float32, name = 'X')\n",
        "y_treinamento = tf.convert_to_tensor(y_treinamento, dtype = tf.float32, name = 'y')\n",
        "X_teste = tf.convert_to_tensor(X_teste, dtype = tf.float32, name = 'X')\n",
        "y_teste = tf.convert_to_tensor(y_teste, dtype = tf.float32, name = 'y')"
      ]
    },
    {
      "cell_type": "markdown",
      "metadata": {
        "id": "Ytt9gf9wNyhN"
      },
      "source": [
        "# Definindo o detalhes de treinamento"
      ]
    },
    {
      "cell_type": "code",
      "execution_count": null,
      "metadata": {
        "id": "hhPM6MomfHkg"
      },
      "outputs": [],
      "source": [
        "def mlp(x, W, bias):\n",
        "    camada_oculta = tf.add(tf.matmul(x, W['oculta']), bias['oculta'])\n",
        "    camada_oculta_ativacao = tf.nn.relu(camada_oculta)\n",
        "    camada_saida = tf.add(tf.matmul(camada_oculta_ativacao, W['saida']), b['saida'])\n",
        "    return camada_saida"
      ]
    },
    {
      "cell_type": "markdown",
      "metadata": {
        "id": "x6x47EJ3QRKk"
      },
      "source": [
        "# Primeiro preciso criar o exemplo de modelo e a variavel erro\n",
        "Perceber que o softmax já existe aqui"
      ]
    },
    {
      "cell_type": "code",
      "execution_count": null,
      "metadata": {
        "id": "tq2yQNKQfHlQ"
      },
      "outputs": [],
      "source": [
        "with tf.GradientTape() as tape:\n",
        "    modelo = mlp(X_treinamento, W, b)\n",
        "    erro = tf.reduce_mean(tf.nn.softmax_cross_entropy_with_logits(labels = y_treinamento, logits = modelo))"
      ]
    },
    {
      "cell_type": "code",
      "execution_count": null,
      "metadata": {
        "id": "jXoAr7iXfHlX"
      },
      "outputs": [],
      "source": [
        "var_list = [W['oculta'], W['saida'], b['oculta'], b['saida']]"
      ]
    },
    {
      "cell_type": "markdown",
      "metadata": {
        "id": "Ukz45giHNyhN"
      },
      "source": [
        "## Fazendo o primeiro treinamento"
      ]
    },
    {
      "cell_type": "code",
      "execution_count": null,
      "metadata": {
        "id": "bUiDPgMpNyhO",
        "scrolled": false,
        "colab": {
          "base_uri": "https://localhost:8080/"
        },
        "outputId": "0a647b35-f3ab-4d0f-d7d6-4764e2aedef4"
      },
      "outputs": [
        {
          "output_type": "execute_result",
          "data": {
            "text/plain": [
              "<tf.Variable 'Variable:0' shape=(8, 6) dtype=float32, numpy=\n",
              "array([[ 0.3274685 , -0.8426258 ,  0.3194337 , -1.4075519 , -2.3880599 ,\n",
              "        -1.0392479 ],\n",
              "       [-0.5573232 ,  0.539707  ,  1.6994323 ,  0.28893656, -1.5066116 ,\n",
              "        -0.26454744],\n",
              "       [-0.59722406, -1.9171132 , -0.62044144,  0.8504023 , -0.40604794,\n",
              "        -3.0258412 ],\n",
              "       [ 0.9058464 ,  0.29855987, -0.22561555, -0.7616443 , -1.891714  ,\n",
              "        -0.9384712 ],\n",
              "       [ 0.77852213, -0.47338897,  0.97772694,  0.24694404,  0.20573747,\n",
              "        -0.5256233 ],\n",
              "       [ 0.32410017,  0.02545409, -0.10638497, -0.6369475 ,  1.1603122 ,\n",
              "         0.2507359 ],\n",
              "       [-0.41728497,  0.40125778, -1.4145442 , -0.59318566, -1.6617213 ,\n",
              "         0.33567193],\n",
              "       [ 0.10815629,  0.2347968 , -0.56668764, -0.35819843,  0.88698626,\n",
              "         0.5274477 ]], dtype=float32)>"
            ]
          },
          "metadata": {},
          "execution_count": 555
        }
      ],
      "source": [
        "W['oculta']"
      ]
    },
    {
      "cell_type": "code",
      "execution_count": null,
      "metadata": {
        "id": "cvh8DGvRNyhO",
        "colab": {
          "base_uri": "https://localhost:8080/"
        },
        "outputId": "25db5017-a796-4fba-a409-6a53c5c74a4d"
      },
      "outputs": [
        {
          "output_type": "execute_result",
          "data": {
            "text/plain": [
              "<tf.Variable 'UnreadVariable' shape=() dtype=int64, numpy=1>"
            ]
          },
          "metadata": {},
          "execution_count": 556
        }
      ],
      "source": [
        "otimizador = tf.keras.optimizers.Adam(learning_rate = 0.0001)\n",
        "gradientes = tape.gradient(erro, var_list)\n",
        "otimizador.apply_gradients(zip(gradientes, var_list))"
      ]
    },
    {
      "cell_type": "markdown",
      "metadata": {
        "id": "tYk2lxxEQWbU"
      },
      "source": [
        "Verificando `W['oculta']` depois da atualização."
      ]
    },
    {
      "cell_type": "code",
      "execution_count": null,
      "metadata": {
        "id": "n87objlUfHlv",
        "scrolled": true,
        "colab": {
          "base_uri": "https://localhost:8080/"
        },
        "outputId": "9bdafbc8-10fe-4646-e4a8-176528e2489d"
      },
      "outputs": [
        {
          "output_type": "execute_result",
          "data": {
            "text/plain": [
              "<tf.Variable 'Variable:0' shape=(8, 6) dtype=float32, numpy=\n",
              "array([[ 0.32736865, -0.84272575,  0.31953368, -1.407452  , -2.38796   ,\n",
              "        -1.0391479 ],\n",
              "       [-0.5574232 ,  0.53980696,  1.6993322 ,  0.2888366 , -1.5065116 ,\n",
              "        -0.26444745],\n",
              "       [-0.5973241 , -1.9172132 , -0.6203415 ,  0.85030234, -0.40594795,\n",
              "        -3.0257413 ],\n",
              "       [ 0.90594643,  0.2984599 , -0.22551556, -0.76154435, -1.891614  ,\n",
              "        -0.9383712 ],\n",
              "       [ 0.7786221 , -0.47328898,  0.9776269 ,  0.24684416,  0.20563748,\n",
              "        -0.5255233 ],\n",
              "       [ 0.32420015,  0.02555405, -0.10648496, -0.63684756,  1.1602122 ,\n",
              "         0.25063643],\n",
              "       [-0.41738492,  0.4011578 , -1.4144442 , -0.59308565, -1.6616213 ,\n",
              "         0.33557197],\n",
              "       [ 0.1080564 ,  0.23489664, -0.5665876 , -0.35829785,  0.88688624,\n",
              "         0.5275477 ]], dtype=float32)>"
            ]
          },
          "metadata": {},
          "execution_count": 557
        }
      ],
      "source": [
        "W['oculta']"
      ]
    },
    {
      "cell_type": "markdown",
      "metadata": {
        "id": "Ornekd6JBbzc"
      },
      "source": [
        "### Treinamento\n",
        "\n",
        "Como `X_treinamento` e `y_treinamento` já são tensores, vou convertê-los em um dataset para gerar batches."
      ]
    },
    {
      "cell_type": "code",
      "execution_count": null,
      "metadata": {
        "id": "Ub95fXwJA2Y2",
        "colab": {
          "base_uri": "https://localhost:8080/"
        },
        "outputId": "596fd5e9-8464-45d5-c34b-d77f2b9dc6d3"
      },
      "outputs": [
        {
          "output_type": "execute_result",
          "data": {
            "text/plain": [
              "<TensorSliceDataset element_spec=(TensorSpec(shape=(8,), dtype=tf.float32, name=None), TensorSpec(shape=(4,), dtype=tf.float32, name=None))>"
            ]
          },
          "metadata": {},
          "execution_count": 558
        }
      ],
      "source": [
        "dataset = tf.data.Dataset.from_tensor_slices((X_treinamento, y_treinamento))\n",
        "dataset"
      ]
    },
    {
      "cell_type": "code",
      "execution_count": null,
      "metadata": {
        "id": "A1rc0KXKBG7I",
        "colab": {
          "base_uri": "https://localhost:8080/"
        },
        "outputId": "587465cf-d3e7-4227-df37-3f49f8d8c0d3"
      },
      "outputs": [
        {
          "output_type": "execute_result",
          "data": {
            "text/plain": [
              "<BatchDataset element_spec=(TensorSpec(shape=(None, 8), dtype=tf.float32, name=None), TensorSpec(shape=(None, 4), dtype=tf.float32, name=None))>"
            ]
          },
          "metadata": {},
          "execution_count": 559
        }
      ],
      "source": [
        "batch_size = 8\n",
        "dataset = dataset.batch(batch_size)\n",
        "dataset"
      ]
    },
    {
      "cell_type": "markdown",
      "metadata": {
        "id": "WyaiDyAxBklz"
      },
      "source": [
        "Verificando o primeiro batch."
      ]
    },
    {
      "cell_type": "code",
      "execution_count": null,
      "metadata": {
        "id": "w-P3I8NTBTmw",
        "colab": {
          "base_uri": "https://localhost:8080/"
        },
        "outputId": "b2c41c0c-dad2-461f-b6f2-50060662051c"
      },
      "outputs": [
        {
          "output_type": "execute_result",
          "data": {
            "text/plain": [
              "(<tf.Tensor: shape=(8, 8), dtype=float32, numpy=\n",
              " array([[-0.73925626,  0.02591193,  0.8870914 , -0.63419276,  2.2221334 ,\n",
              "         -0.45118475, -0.25676692, -0.49945503],\n",
              "        [-0.08970536,  0.02591193,  0.8870914 , -0.63419276, -0.86484647,\n",
              "          2.216387  ,  0.7353559 , -0.49945503],\n",
              "        [ 0.26186928,  0.02591193,  0.8870914 ,  1.5768076 ,  0.10534717,\n",
              "          2.216387  ,  0.43771905, -0.49945503],\n",
              "        [-0.08970536,  2.7278194 ,  0.8870914 ,  1.5768076 ,  0.45814484,\n",
              "          2.216387  , -0.80243444, -0.49945503],\n",
              "        [-0.08970536, -0.8747239 , -0.46058255, -0.63419276, -0.86484647,\n",
              "         -0.45118475, -0.9512529 , -0.49945503],\n",
              "        [ 1.0794863 ,  0.02591193,  0.8870914 , -0.63419276, -1.4822425 ,\n",
              "         -0.45118475, -1.0504651 ,  2.0021822 ],\n",
              "        [-0.08970536,  2.7278194 , -0.46058255, -0.63419276,  1.2519397 ,\n",
              "         -0.45118475,  1.6778725 , -0.49945503],\n",
              "        [-0.73925626, -0.8747239 , -0.46058255, -0.63419276, -0.42384934,\n",
              "         -0.45118475, -0.25676692, -0.49945503]], dtype=float32)>,\n",
              " <tf.Tensor: shape=(8, 4), dtype=float32, numpy=\n",
              " array([[0., 0., 1., 0.],\n",
              "        [0., 0., 1., 0.],\n",
              "        [0., 0., 1., 0.],\n",
              "        [0., 0., 1., 0.],\n",
              "        [0., 0., 1., 0.],\n",
              "        [1., 0., 0., 0.],\n",
              "        [0., 0., 1., 0.],\n",
              "        [0., 0., 1., 0.]], dtype=float32)>)"
            ]
          },
          "metadata": {},
          "execution_count": 560
        }
      ],
      "source": [
        "next(iter(dataset))"
      ]
    },
    {
      "cell_type": "markdown",
      "metadata": {
        "id": "aO4E5DmvBpIE"
      },
      "source": [
        "Agora precisamos instanciar o dataset de novo para ele reiniciar a geração de batches."
      ]
    },
    {
      "cell_type": "code",
      "execution_count": null,
      "metadata": {
        "id": "Qi3tqBHOBojK"
      },
      "outputs": [],
      "source": [
        "dataset = tf.data.Dataset.from_tensor_slices((X_treinamento, y_treinamento)).batch(batch_size)"
      ]
    },
    {
      "cell_type": "code",
      "execution_count": null,
      "metadata": {
        "id": "Rp-oB7vXzP91"
      },
      "outputs": [],
      "source": []
    },
    {
      "cell_type": "code",
      "execution_count": null,
      "metadata": {
        "id": "-LsGyv2iCC3k",
        "colab": {
          "base_uri": "https://localhost:8080/"
        },
        "outputId": "22c3b2d7-e74c-43a5-8653-2cc72d03724d"
      },
      "outputs": [
        {
          "output_type": "stream",
          "name": "stdout",
          "text": [
            "Época: 1 erro: 13.284467697143555\n",
            "Época: 21 erro: 8.898777961730957\n",
            "Época: 41 erro: 5.584106922149658\n",
            "Época: 61 erro: 2.8545126914978027\n",
            "Época: 81 erro: 1.4058769941329956\n",
            "Época: 101 erro: 0.9822949767112732\n",
            "Época: 121 erro: 0.8650473356246948\n",
            "Época: 141 erro: 0.8158435225486755\n",
            "Época: 161 erro: 0.7913722395896912\n",
            "Época: 181 erro: 0.7787636518478394\n",
            "Época: 201 erro: 0.7716959714889526\n",
            "Época: 221 erro: 0.7674039006233215\n"
          ]
        }
      ],
      "source": [
        "for epoca in range(240):\n",
        "    for X_batch, y_batch in dataset:\n",
        "        erro_medio = 0.0\n",
        "        with tf.GradientTape() as tape:\n",
        "            modelo = mlp(X_batch, W, b)\n",
        "            erro = tf.reduce_mean(tf.nn.softmax_cross_entropy_with_logits(labels = y_batch, logits = modelo))\n",
        "        gradientes = tape.gradient(erro, var_list)\n",
        "        otimizador.apply_gradients(zip(gradientes, var_list))\n",
        "        erro_medio += erro.numpy()\n",
        "    if epoca % 20 == 0:\n",
        "        print('Época: ' + str((epoca + 1)) + ' erro: ' + str(erro_medio))"
      ]
    },
    {
      "cell_type": "code",
      "execution_count": null,
      "metadata": {
        "id": "hc1EiDvYfHmz",
        "colab": {
          "base_uri": "https://localhost:8080/"
        },
        "outputId": "434cc22a-3a90-4305-e3e3-5001ef43ea79"
      },
      "outputs": [
        {
          "output_type": "execute_result",
          "data": {
            "text/plain": [
              "{'oculta': <tf.Variable 'Variable:0' shape=(8, 6) dtype=float32, numpy=\n",
              " array([[-0.13063198, -1.1387465 ,  0.68331206, -1.5032583 , -1.6819724 ,\n",
              "         -0.6496912 ],\n",
              "        [-0.56650347,  0.56447315,  1.0762393 , -0.23704207, -1.2899815 ,\n",
              "         -0.24871203],\n",
              "        [-0.89044935, -2.100118  , -0.8562959 ,  0.78394383, -0.5093557 ,\n",
              "         -2.5007195 ],\n",
              "        [ 0.60095865, -0.13748924,  0.66694075, -0.78603584, -1.0152541 ,\n",
              "         -0.2943593 ],\n",
              "        [ 0.7278227 , -0.9171183 ,  0.23376809, -0.08021906,  0.39318308,\n",
              "         -0.01750094],\n",
              "        [ 0.8367461 ,  0.12938616, -0.42776802, -0.5971599 ,  0.83471787,\n",
              "          0.26927206],\n",
              "        [-0.7886848 ,  0.1821407 , -0.18254904, -0.28949276, -0.66049635,\n",
              "          0.18389297],\n",
              "        [ 0.14663982, -0.17996892, -0.837506  , -0.44254094,  0.8215674 ,\n",
              "          0.50015545]], dtype=float32)>,\n",
              " 'saida': <tf.Variable 'Variable:0' shape=(6, 4) dtype=float32, numpy=\n",
              " array([[-0.28991058, -0.89711356,  0.5349914 ,  0.13883954],\n",
              "        [-1.2409853 , -0.07107262,  0.21305345, -0.0051113 ],\n",
              "        [-1.0315914 , -1.4051647 , -1.017974  , -0.7355066 ],\n",
              "        [-1.0932628 , -1.7942318 ,  0.09011814,  0.07280344],\n",
              "        [ 0.5370516 ,  0.37860096,  0.22005638,  0.45586845],\n",
              "        [ 1.1729381 ,  0.9100113 ,  0.29226667,  0.65998954]],\n",
              "       dtype=float32)>}"
            ]
          },
          "metadata": {},
          "execution_count": 513
        }
      ],
      "source": [
        "W"
      ]
    },
    {
      "cell_type": "code",
      "execution_count": null,
      "metadata": {
        "id": "PgNGg54afHm-",
        "colab": {
          "base_uri": "https://localhost:8080/"
        },
        "outputId": "fbde1142-5481-464f-d12f-d1e5b7e8f0e9"
      },
      "outputs": [
        {
          "output_type": "execute_result",
          "data": {
            "text/plain": [
              "{'oculta': <tf.Variable 'Variable:0' shape=(6,) dtype=float32, numpy=\n",
              " array([ 0.08358875,  0.01367347,  2.2799232 , -1.5082786 , -0.06052189,\n",
              "        -1.3948877 ], dtype=float32)>,\n",
              " 'saida': <tf.Variable 'Variable:0' shape=(4,) dtype=float32, numpy=array([-0.29357406, -1.2473365 ,  0.96049094, -0.6602957 ], dtype=float32)>}"
            ]
          },
          "metadata": {},
          "execution_count": 514
        }
      ],
      "source": [
        "b"
      ]
    },
    {
      "cell_type": "code",
      "execution_count": null,
      "metadata": {
        "id": "P1pNl47FfHnF",
        "colab": {
          "base_uri": "https://localhost:8080/"
        },
        "outputId": "5adb41f1-d979-4943-b4d3-4f92f09f0517"
      },
      "outputs": [
        {
          "output_type": "execute_result",
          "data": {
            "text/plain": [
              "<tf.Tensor: shape=(276, 4), dtype=float32, numpy=\n",
              "array([[ -3.0357177 ,  -5.4487686 ,  -0.983153  ,  -2.2945893 ],\n",
              "       [-11.759531  , -10.981706  ,  -3.886844  ,  -3.826195  ],\n",
              "       [ -5.5175576 ,  -2.7872047 ,   1.4524301 ,   1.0977798 ],\n",
              "       ...,\n",
              "       [ -2.8308055 ,  -4.9241495 ,  -0.9596231 ,  -2.155344  ],\n",
              "       [ -1.1316974 ,  -2.388972  ,   0.13343108,  -1.257863  ],\n",
              "       [ -6.992462  , -10.372113  ,  -5.64997   ,  -5.4364862 ]],\n",
              "      dtype=float32)>"
            ]
          },
          "metadata": {},
          "execution_count": 515
        }
      ],
      "source": [
        "# previsões\n",
        "previsoes_teste = mlp(X_teste, W, b)\n",
        "previsoes_teste"
      ]
    },
    {
      "cell_type": "code",
      "execution_count": null,
      "metadata": {
        "id": "oO3U0--IfHnK",
        "colab": {
          "base_uri": "https://localhost:8080/"
        },
        "outputId": "f49b1bd5-a812-47a0-9670-606d1f32659e"
      },
      "outputs": [
        {
          "output_type": "execute_result",
          "data": {
            "text/plain": [
              "<tf.Tensor: shape=(276, 4), dtype=float32, numpy=\n",
              "array([[9.1110423e-02, 8.1581799e-03, 7.0955420e-01, 1.9117716e-01],\n",
              "       [1.8462104e-04, 4.0187078e-04, 4.8455805e-01, 5.1485544e-01],\n",
              "       [5.4734398e-04, 8.3953254e-03, 5.8248883e-01, 4.0856853e-01],\n",
              "       ...,\n",
              "       [1.0433853e-01, 1.2862251e-02, 6.7778027e-01, 2.0501892e-01],\n",
              "       [1.7514838e-01, 4.9817126e-02, 6.2064672e-01, 1.5438785e-01],\n",
              "       [1.0414126e-01, 3.5469821e-03, 3.9871237e-01, 4.9359933e-01]],\n",
              "      dtype=float32)>"
            ]
          },
          "metadata": {},
          "execution_count": 516
        }
      ],
      "source": [
        "previsoes_teste = tf.nn.softmax(previsoes_teste)\n",
        "previsoes_teste"
      ]
    },
    {
      "cell_type": "code",
      "execution_count": null,
      "metadata": {
        "id": "oa2K4Y9SfHnV",
        "colab": {
          "base_uri": "https://localhost:8080/"
        },
        "outputId": "7db81b6f-392a-49ab-c140-7822eec316ff"
      },
      "outputs": [
        {
          "output_type": "execute_result",
          "data": {
            "text/plain": [
              "array([2, 3, 2, 2, 2, 2, 2, 2, 2, 2, 2, 2, 2, 2, 2, 2, 2, 2, 2, 2, 2, 2,\n",
              "       2, 2, 2, 2, 2, 2, 2, 2, 2, 2, 2, 2, 2, 2, 2, 2, 2, 2, 2, 2, 2, 2,\n",
              "       2, 2, 2, 2, 2, 2, 2, 2, 3, 2, 2, 3, 2, 2, 2, 2, 2, 2, 2, 2, 2, 2,\n",
              "       2, 2, 2, 2, 2, 2, 2, 2, 2, 2, 2, 2, 2, 2, 2, 2, 2, 2, 2, 2, 2, 2,\n",
              "       2, 2, 2, 2, 2, 2, 2, 2, 2, 2, 2, 2, 2, 2, 2, 2, 2, 2, 2, 3, 3, 2,\n",
              "       2, 2, 2, 2, 2, 3, 2, 2, 2, 2, 2, 2, 2, 2, 2, 2, 3, 3, 2, 2, 2, 2,\n",
              "       2, 3, 2, 2, 2, 2, 2, 2, 2, 2, 2, 2, 2, 2, 2, 2, 2, 2, 2, 2, 2, 2,\n",
              "       2, 2, 2, 2, 2, 2, 2, 2, 2, 3, 3, 2, 2, 2, 2, 3, 2, 2, 2, 2, 3, 2,\n",
              "       2, 2, 2, 2, 2, 2, 2, 2, 2, 2, 2, 2, 2, 2, 2, 2, 2, 2, 2, 2, 2, 2,\n",
              "       2, 2, 2, 2, 2, 2, 2, 2, 2, 2, 2, 2, 2, 2, 3, 2, 2, 2, 2, 2, 2, 2,\n",
              "       2, 2, 2, 2, 2, 2, 2, 2, 2, 2, 2, 2, 2, 2, 2, 2, 2, 3, 2, 2, 2, 2,\n",
              "       2, 2, 3, 2, 2, 2, 2, 2, 2, 2, 2, 2, 2, 2, 2, 2, 2, 2, 2, 2, 2, 2,\n",
              "       2, 2, 2, 2, 2, 2, 2, 2, 2, 2, 2, 3])"
            ]
          },
          "metadata": {},
          "execution_count": 517
        }
      ],
      "source": [
        "previsoes_teste = tf.argmax(previsoes_teste, axis = 1).numpy()\n",
        "previsoes_teste"
      ]
    },
    {
      "cell_type": "code",
      "execution_count": null,
      "metadata": {
        "id": "fFoKrHkwfHna",
        "colab": {
          "base_uri": "https://localhost:8080/"
        },
        "outputId": "01ad7323-cd2f-4ce7-dd15-49991634fdfc"
      },
      "outputs": [
        {
          "output_type": "execute_result",
          "data": {
            "text/plain": [
              "array([2, 2, 2, 0, 2, 0, 2, 0, 2, 2, 2, 2, 2, 2, 3, 2, 3, 0, 3, 3, 2, 2,\n",
              "       2, 0, 0, 2, 2, 2, 2, 3, 2, 2, 0, 2, 2, 3, 2, 2, 2, 2, 2, 2, 2, 2,\n",
              "       3, 2, 2, 3, 2, 2, 3, 2, 2, 2, 2, 2, 3, 0, 2, 2, 3, 3, 0, 3, 2, 0,\n",
              "       3, 2, 2, 0, 2, 2, 2, 2, 2, 3, 2, 2, 3, 3, 2, 1, 2, 3, 1, 0, 2, 3,\n",
              "       2, 2, 2, 2, 2, 2, 3, 2, 2, 2, 2, 3, 0, 2, 2, 3, 3, 3, 3, 2, 0, 2,\n",
              "       2, 0, 0, 3, 2, 2, 0, 2, 2, 2, 0, 2, 2, 2, 0, 2, 2, 3, 2, 2, 1, 2,\n",
              "       2, 2, 2, 2, 2, 2, 1, 2, 2, 3, 3, 0, 2, 0, 2, 1, 3, 2, 2, 2, 3, 2,\n",
              "       2, 2, 0, 2, 2, 3, 2, 2, 2, 3, 2, 2, 2, 0, 2, 3, 2, 3, 2, 2, 3, 3,\n",
              "       2, 2, 2, 2, 2, 2, 3, 2, 3, 2, 3, 2, 3, 2, 0, 2, 2, 2, 2, 0, 3, 3,\n",
              "       2, 2, 2, 2, 2, 2, 2, 2, 3, 2, 2, 2, 2, 2, 3, 3, 2, 2, 2, 2, 2, 2,\n",
              "       3, 2, 2, 2, 3, 3, 0, 3, 3, 3, 2, 3, 2, 2, 2, 3, 3, 2, 2, 2, 2, 2,\n",
              "       2, 2, 2, 2, 2, 0, 2, 2, 3, 2, 2, 2, 2, 3, 0, 2, 2, 2, 2, 2, 3, 2,\n",
              "       0, 2, 2, 2, 2, 3, 2, 2, 2, 3, 3, 2])"
            ]
          },
          "metadata": {},
          "execution_count": 518
        }
      ],
      "source": [
        "y_teste2 = tf.argmax(y_teste, axis = 1).numpy()\n",
        "y_teste2"
      ]
    },
    {
      "cell_type": "code",
      "execution_count": null,
      "metadata": {
        "id": "ALyK_29XfHnn",
        "colab": {
          "base_uri": "https://localhost:8080/"
        },
        "outputId": "16c49fad-e6b9-4b6b-e54b-adbea9159f42"
      },
      "outputs": [
        {
          "output_type": "execute_result",
          "data": {
            "text/plain": [
              "0.6340579710144928"
            ]
          },
          "metadata": {},
          "execution_count": 519
        }
      ],
      "source": [
        "from sklearn.metrics import accuracy_score\n",
        "taxa_acerto = accuracy_score(y_teste2, previsoes_teste)\n",
        "taxa_acerto"
      ]
    },
    {
      "cell_type": "code",
      "execution_count": null,
      "metadata": {
        "id": "DlvmJ8jfv4mL",
        "colab": {
          "base_uri": "https://localhost:8080/",
          "height": 283
        },
        "outputId": "23ff2abc-0758-4c06-dee8-d7eb166ce6fb"
      },
      "outputs": [
        {
          "output_type": "display_data",
          "data": {
            "text/plain": [
              "<Figure size 432x288 with 2 Axes>"
            ],
            "image/png": "[encoded data removed]"
          },
          "metadata": {
            "needs_background": "light"
          }
        }
      ],
      "source": [
        "# Suponha que temos as seguintes previsões e classes reais\n",
        "# para um conjunto de dados:\n",
        "\n",
        "\n",
        "# Geramos a matriz de confusão usando a função confusion_matrix do scikit-learn\n",
        "confusion_mat = confusion_matrix(y_teste2, previsoes_teste)\n",
        "\n",
        "# Criamos um gráfico usando matplotlib\n",
        "plt.imshow(confusion_mat, cmap='Blues')\n",
        "\n",
        "# Adicionamos rótulos nas linhas e colunas\n",
        "class_names = ['0', '1','2','3']\n",
        "\n",
        "\n",
        "# Adicionamos rótulos na barra de cores\n",
        "plt.colorbar()\n",
        "\n",
        "# Adicionamos rótulos nos eixos\n",
        "plt.xlabel('Classificação do Modelo')\n",
        "plt.ylabel('Classe Real')\n",
        "\n",
        "# Exibimos o gráfico\n",
        "plt.show()\n"
      ]
    },
    {
      "cell_type": "code",
      "execution_count": null,
      "metadata": {
        "id": "tF6xOLal0noC",
        "colab": {
          "base_uri": "https://localhost:8080/"
        },
        "outputId": "ec7c3bd5-fb44-4dea-eaf3-010cfd68d9a1"
      },
      "outputs": [
        {
          "output_type": "execute_result",
          "data": {
            "text/plain": [
              "0.7645854949951172"
            ]
          },
          "metadata": {},
          "execution_count": 521
        }
      ],
      "source": [
        "erro_medio"
      ]
    },
    {
      "cell_type": "code",
      "source": [
        "import matplotlib.pyplot as plt\n",
        "\n",
        "# Dados para o eixo x e y\n",
        "x = [5 , 11, 3, 3, 1, 0.75,  1 ,1, 3]\n",
        "y = ['Num', 'Part', 'UF', 'idade', 'sexo', 'instru', 'estado civil', 'gastos', 'reeleição']\n",
        "\n",
        "# Cria o gráfico de barras\n",
        "plt.figure(figsize=(10, 6))\n",
        "plt.bar(y, x)\n",
        "# Adiciona rótulos ao eixo x e y\n",
        "plt.xlabel('Dados')\n",
        "plt.ylabel('Valores')\n",
        "plt.tick_params(axis='x', colors='red')\n",
        "plt.tick_params(axis='y', colors='red')\n",
        "\n",
        "# Exibe o gráfico\n",
        "plt.show()\n"
      ],
      "metadata": {
        "colab": {
          "base_uri": "https://localhost:8080/",
          "height": 388
        },
        "id": "Dh9WOM1gJynI",
        "outputId": "bf6995e9-7f2a-4c6d-d3e3-dd18cdffe807"
      },
      "execution_count": null,
      "outputs": [
        {
          "output_type": "display_data",
          "data": {
            "text/plain": [
              "<Figure size 720x432 with 1 Axes>"
            ],
            "image/png": "[encoded data removed]"
          },
          "metadata": {
            "needs_background": "light"
          }
        }
      ]
    }
  ],
  "metadata": {
    "colab": {
      "provenance": [],
      "include_colab_link": true
    },
    "kernelspec": {
      "display_name": "Python 3 (ipykernel)",
      "language": "python",
      "name": "python3"
    },
    "language_info": {
      "codemirror_mode": {
        "name": "ipython",
        "version": 3
      },
      "file_extension": ".py",
      "mimetype": "text/x-python",
      "name": "python",
      "nbconvert_exporter": "python",
      "pygments_lexer": "ipython3",
      "version": "3.9.7"
    }
  },
  "nbformat": 4,
  "nbformat_minor": 0
}