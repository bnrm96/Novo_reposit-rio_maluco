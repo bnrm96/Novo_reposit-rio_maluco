{
  "cells": [
    {
      "cell_type": "markdown",
      "metadata": {
        "id": "view-in-github",
        "colab_type": "text"
      },
      "source": [
        "<a href=\"https://colab.research.google.com/github/bnrm96/Novo_reposit-rio_maluco/blob/main/TCC_FEDERAL.ipynb\" target=\"_parent\"><img src=\"https://colab.research.google.com/assets/colab-badge.svg\" alt=\"Open In Colab\"/></a>"
      ]
    },
    {
      "cell_type": "markdown",
      "metadata": {
        "id": "atTb-QAjNygw"
      },
      "source": [
        "##Importa as biblioteca tudo"
      ]
    },
    {
      "cell_type": "code",
      "source": [
        "import pandas as pd\n",
        "import matplotlib.pyplot as plt\n",
        "import pydot\n",
        "import numpy as np\n",
        "from sklearn.preprocessing import LabelEncoder\n",
        "from sklearn.metrics import confusion_matrix\n",
        "import seaborn as sns\n",
        "\n",
        "\n"
      ],
      "metadata": {
        "id": "RuTKwLbRaXVu"
      },
      "execution_count": null,
      "outputs": []
    },
    {
      "cell_type": "markdown",
      "source": [
        "##Construindo o algorítimo de identificação de facilidade de número"
      ],
      "metadata": {
        "id": "X0J9BNo_EThX"
      }
    },
    {
      "cell_type": "code",
      "source": [
        "def tem_repeticao(numero):\n",
        "    # Converte o número em uma string para poder iterar sobre os dígitos\n",
        "    numero = str(numero)\n",
        "    soma = 1\n",
        "    # Verifica se há algum dígito repetido\n",
        "    for digito in numero:\n",
        "        if numero.count(digito) > 3:\n",
        "            return True\n",
        "\n",
        "    # Verifica se os dígitos estão em sequência\n",
        "    for i in range(len(numero) - 1):\n",
        "        if int(numero[i]) + 1 == int(numero[i + 1]):\n",
        "            soma = soma + 1\n",
        "        if soma == 4:\n",
        "            return True\n",
        "\n",
        "    # Se não houver nenhum dígito repetido ou em sequência, retorna False\n",
        "    return False\n",
        "\n",
        "# Testa a função com alguns exemplos\n",
        "print(tem_repeticao(1234))  # True (todos os digitos em sequência)\n",
        "print(tem_repeticao(1224))  # False \n",
        "print(tem_repeticao(1235))  # False \n",
        "print(tem_repeticao(5678))  # False\n",
        "print(tem_repeticao(5677))  # True (dígitos em sequência)\n",
        "print(tem_repeticao(8888))\n"
      ],
      "metadata": {
        "colab": {
          "base_uri": "https://localhost:8080/"
        },
        "id": "tJ_Z7INulq30",
        "outputId": "7598ae0c-acdf-4719-e87c-27520aed05e5"
      },
      "execution_count": null,
      "outputs": [
        {
          "output_type": "stream",
          "name": "stdout",
          "text": [
            "True\n",
            "False\n",
            "False\n",
            "True\n",
            "False\n",
            "True\n"
          ]
        }
      ]
    },
    {
      "cell_type": "code",
      "source": [
        "# Lê o arquivo csv usando a função read_csv do Pandas\n",
        "base = pd.read_csv('base_federal.csv',sep = ';')\n"
      ],
      "metadata": {
        "id": "zhYigyGGatH8"
      },
      "execution_count": null,
      "outputs": []
    },
    {
      "cell_type": "code",
      "source": [
        "base"
      ],
      "metadata": {
        "colab": {
          "base_uri": "https://localhost:8080/",
          "height": 424
        },
        "id": "c1YTPNkUa0lS",
        "outputId": "f7452cd8-78d3-4ea1-872c-f9bc10d643d8"
      },
      "execution_count": null,
      "outputs": [
        {
          "output_type": "execute_result",
          "data": {
            "text/plain": [
              "     NR_CANDIDATO  NR_PARTIDO  SG_UF_NASCIMENTO  NR_IDADE_DATA_POSSE  \\\n",
              "0            2727          27                 0                   47   \n",
              "1            4307          43                 0                   52   \n",
              "2            1501          15                 0                   45   \n",
              "3            5027          50                 1                   72   \n",
              "4            1717          17                 0                   44   \n",
              "..            ...         ...               ...                  ...   \n",
              "501          3307          33                 1                   39   \n",
              "502          3511          35                 0                   53   \n",
              "503          1227          12                 1                   66   \n",
              "504          7701          77                 1                   54   \n",
              "505          3555          35                 0                   60   \n",
              "\n",
              "     CD_GENERO  CD_GRAU_INSTRUCAO  CD_ESTADO_CIVIL  VR_DESPESA_MAX_CAMPANHA  \\\n",
              "0            2                  7                9                100000.00   \n",
              "1            2                  8                3                100000.00   \n",
              "2            2                  8                1               1000000.00   \n",
              "3            2                  8                3                 30000.00   \n",
              "4            2                  7                1              10000000.00   \n",
              "..         ...                ...              ...                      ...   \n",
              "501          2                  6                3               3176572.53   \n",
              "502          2                  5                1               3176572.53   \n",
              "503          2                  8                3               3176572.53   \n",
              "504          4                  8                3               3176572.53   \n",
              "505          2                  8                3               3176572.53   \n",
              "\n",
              "     ST_REELEICAO  Resultado  \n",
              "0               0          4  \n",
              "1               0          4  \n",
              "2               0          3  \n",
              "3               0          4  \n",
              "4               0          4  \n",
              "..            ...        ...  \n",
              "501             0          4  \n",
              "502             0          4  \n",
              "503             0          4  \n",
              "504             0          4  \n",
              "505             0          4  \n",
              "\n",
              "[506 rows x 10 columns]"
            ],
            "text/html": [
              "\n",
              "  <div id=\"df-e2ce2827-6bff-4b37-8000-50db865b0715\">\n",
              "    <div class=\"colab-df-container\">\n",
              "      <div>\n",
              "<style scoped>\n",
              "    .dataframe tbody tr th:only-of-type {\n",
              "        vertical-align: middle;\n",
              "    }\n",
              "\n",
              "    .dataframe tbody tr th {\n",
              "        vertical-align: top;\n",
              "    }\n",
              "\n",
              "    .dataframe thead th {\n",
              "        text-align: right;\n",
              "    }\n",
              "</style>\n",
              "<table border=\"1\" class=\"dataframe\">\n",
              "  <thead>\n",
              "    <tr style=\"text-align: right;\">\n",
              "      <th></th>\n",
              "      <th>NR_CANDIDATO</th>\n",
              "      <th>NR_PARTIDO</th>\n",
              "      <th>SG_UF_NASCIMENTO</th>\n",
              "      <th>NR_IDADE_DATA_POSSE</th>\n",
              "      <th>CD_GENERO</th>\n",
              "      <th>CD_GRAU_INSTRUCAO</th>\n",
              "      <th>CD_ESTADO_CIVIL</th>\n",
              "      <th>VR_DESPESA_MAX_CAMPANHA</th>\n",
              "      <th>ST_REELEICAO</th>\n",
              "      <th>Resultado</th>\n",
              "    </tr>\n",
              "  </thead>\n",
              "  <tbody>\n",
              "    <tr>\n",
              "      <th>0</th>\n",
              "      <td>2727</td>\n",
              "      <td>27</td>\n",
              "      <td>0</td>\n",
              "      <td>47</td>\n",
              "      <td>2</td>\n",
              "      <td>7</td>\n",
              "      <td>9</td>\n",
              "      <td>100000.00</td>\n",
              "      <td>0</td>\n",
              "      <td>4</td>\n",
              "    </tr>\n",
              "    <tr>\n",
              "      <th>1</th>\n",
              "      <td>4307</td>\n",
              "      <td>43</td>\n",
              "      <td>0</td>\n",
              "      <td>52</td>\n",
              "      <td>2</td>\n",
              "      <td>8</td>\n",
              "      <td>3</td>\n",
              "      <td>100000.00</td>\n",
              "      <td>0</td>\n",
              "      <td>4</td>\n",
              "    </tr>\n",
              "    <tr>\n",
              "      <th>2</th>\n",
              "      <td>1501</td>\n",
              "      <td>15</td>\n",
              "      <td>0</td>\n",
              "      <td>45</td>\n",
              "      <td>2</td>\n",
              "      <td>8</td>\n",
              "      <td>1</td>\n",
              "      <td>1000000.00</td>\n",
              "      <td>0</td>\n",
              "      <td>3</td>\n",
              "    </tr>\n",
              "    <tr>\n",
              "      <th>3</th>\n",
              "      <td>5027</td>\n",
              "      <td>50</td>\n",
              "      <td>1</td>\n",
              "      <td>72</td>\n",
              "      <td>2</td>\n",
              "      <td>8</td>\n",
              "      <td>3</td>\n",
              "      <td>30000.00</td>\n",
              "      <td>0</td>\n",
              "      <td>4</td>\n",
              "    </tr>\n",
              "    <tr>\n",
              "      <th>4</th>\n",
              "      <td>1717</td>\n",
              "      <td>17</td>\n",
              "      <td>0</td>\n",
              "      <td>44</td>\n",
              "      <td>2</td>\n",
              "      <td>7</td>\n",
              "      <td>1</td>\n",
              "      <td>10000000.00</td>\n",
              "      <td>0</td>\n",
              "      <td>4</td>\n",
              "    </tr>\n",
              "    <tr>\n",
              "      <th>...</th>\n",
              "      <td>...</td>\n",
              "      <td>...</td>\n",
              "      <td>...</td>\n",
              "      <td>...</td>\n",
              "      <td>...</td>\n",
              "      <td>...</td>\n",
              "      <td>...</td>\n",
              "      <td>...</td>\n",
              "      <td>...</td>\n",
              "      <td>...</td>\n",
              "    </tr>\n",
              "    <tr>\n",
              "      <th>501</th>\n",
              "      <td>3307</td>\n",
              "      <td>33</td>\n",
              "      <td>1</td>\n",
              "      <td>39</td>\n",
              "      <td>2</td>\n",
              "      <td>6</td>\n",
              "      <td>3</td>\n",
              "      <td>3176572.53</td>\n",
              "      <td>0</td>\n",
              "      <td>4</td>\n",
              "    </tr>\n",
              "    <tr>\n",
              "      <th>502</th>\n",
              "      <td>3511</td>\n",
              "      <td>35</td>\n",
              "      <td>0</td>\n",
              "      <td>53</td>\n",
              "      <td>2</td>\n",
              "      <td>5</td>\n",
              "      <td>1</td>\n",
              "      <td>3176572.53</td>\n",
              "      <td>0</td>\n",
              "      <td>4</td>\n",
              "    </tr>\n",
              "    <tr>\n",
              "      <th>503</th>\n",
              "      <td>1227</td>\n",
              "      <td>12</td>\n",
              "      <td>1</td>\n",
              "      <td>66</td>\n",
              "      <td>2</td>\n",
              "      <td>8</td>\n",
              "      <td>3</td>\n",
              "      <td>3176572.53</td>\n",
              "      <td>0</td>\n",
              "      <td>4</td>\n",
              "    </tr>\n",
              "    <tr>\n",
              "      <th>504</th>\n",
              "      <td>7701</td>\n",
              "      <td>77</td>\n",
              "      <td>1</td>\n",
              "      <td>54</td>\n",
              "      <td>4</td>\n",
              "      <td>8</td>\n",
              "      <td>3</td>\n",
              "      <td>3176572.53</td>\n",
              "      <td>0</td>\n",
              "      <td>4</td>\n",
              "    </tr>\n",
              "    <tr>\n",
              "      <th>505</th>\n",
              "      <td>3555</td>\n",
              "      <td>35</td>\n",
              "      <td>0</td>\n",
              "      <td>60</td>\n",
              "      <td>2</td>\n",
              "      <td>8</td>\n",
              "      <td>3</td>\n",
              "      <td>3176572.53</td>\n",
              "      <td>0</td>\n",
              "      <td>4</td>\n",
              "    </tr>\n",
              "  </tbody>\n",
              "</table>\n",
              "<p>506 rows × 10 columns</p>\n",
              "</div>\n",
              "      <button class=\"colab-df-convert\" onclick=\"convertToInteractive('df-e2ce2827-6bff-4b37-8000-50db865b0715')\"\n",
              "              title=\"Convert this dataframe to an interactive table.\"\n",
              "              style=\"display:none;\">\n",
              "        \n",
              "  <svg xmlns=\"http://www.w3.org/2000/svg\" height=\"24px\"viewBox=\"0 0 24 24\"\n",
              "       width=\"24px\">\n",
              "    <path d=\"M0 0h24v24H0V0z\" fill=\"none\"/>\n",
              "    <path d=\"M18.56 5.44l.94 2.06.94-2.06 2.06-.94-2.06-.94-.94-2.06-.94 2.06-2.06.94zm-11 1L8.5 8.5l.94-2.06 2.06-.94-2.06-.94L8.5 2.5l-.94 2.06-2.06.94zm10 10l.94 2.06.94-2.06 2.06-.94-2.06-.94-.94-2.06-.94 2.06-2.06.94z\"/><path d=\"M17.41 7.96l-1.37-1.37c-.4-.4-.92-.59-1.43-.59-.52 0-1.04.2-1.43.59L10.3 9.45l-7.72 7.72c-.78.78-.78 2.05 0 2.83L4 21.41c.39.39.9.59 1.41.59.51 0 1.02-.2 1.41-.59l7.78-7.78 2.81-2.81c.8-.78.8-2.07 0-2.86zM5.41 20L4 18.59l7.72-7.72 1.47 1.35L5.41 20z\"/>\n",
              "  </svg>\n",
              "      </button>\n",
              "      \n",
              "  <style>\n",
              "    .colab-df-container {\n",
              "      display:flex;\n",
              "      flex-wrap:wrap;\n",
              "      gap: 12px;\n",
              "    }\n",
              "\n",
              "    .colab-df-convert {\n",
              "      background-color: #E8F0FE;\n",
              "      border: none;\n",
              "      border-radius: 50%;\n",
              "      cursor: pointer;\n",
              "      display: none;\n",
              "      fill: #1967D2;\n",
              "      height: 32px;\n",
              "      padding: 0 0 0 0;\n",
              "      width: 32px;\n",
              "    }\n",
              "\n",
              "    .colab-df-convert:hover {\n",
              "      background-color: #E2EBFA;\n",
              "      box-shadow: 0px 1px 2px rgba(60, 64, 67, 0.3), 0px 1px 3px 1px rgba(60, 64, 67, 0.15);\n",
              "      fill: #174EA6;\n",
              "    }\n",
              "\n",
              "    [theme=dark] .colab-df-convert {\n",
              "      background-color: #3B4455;\n",
              "      fill: #D2E3FC;\n",
              "    }\n",
              "\n",
              "    [theme=dark] .colab-df-convert:hover {\n",
              "      background-color: #434B5C;\n",
              "      box-shadow: 0px 1px 3px 1px rgba(0, 0, 0, 0.15);\n",
              "      filter: drop-shadow(0px 1px 2px rgba(0, 0, 0, 0.3));\n",
              "      fill: #FFFFFF;\n",
              "    }\n",
              "  </style>\n",
              "\n",
              "      <script>\n",
              "        const buttonEl =\n",
              "          document.querySelector('#df-e2ce2827-6bff-4b37-8000-50db865b0715 button.colab-df-convert');\n",
              "        buttonEl.style.display =\n",
              "          google.colab.kernel.accessAllowed ? 'block' : 'none';\n",
              "\n",
              "        async function convertToInteractive(key) {\n",
              "          const element = document.querySelector('#df-e2ce2827-6bff-4b37-8000-50db865b0715');\n",
              "          const dataTable =\n",
              "            await google.colab.kernel.invokeFunction('convertToInteractive',\n",
              "                                                     [key], {});\n",
              "          if (!dataTable) return;\n",
              "\n",
              "          const docLinkHtml = 'Like what you see? Visit the ' +\n",
              "            '<a target=\"_blank\" href=https://colab.research.google.com/notebooks/data_table.ipynb>data table notebook</a>'\n",
              "            + ' to learn more about interactive tables.';\n",
              "          element.innerHTML = '';\n",
              "          dataTable['output_type'] = 'display_data';\n",
              "          await google.colab.output.renderOutput(dataTable, element);\n",
              "          const docLink = document.createElement('div');\n",
              "          docLink.innerHTML = docLinkHtml;\n",
              "          element.appendChild(docLink);\n",
              "        }\n",
              "      </script>\n",
              "    </div>\n",
              "  </div>\n",
              "  "
            ]
          },
          "metadata": {},
          "execution_count": 726
        }
      ]
    },
    {
      "cell_type": "code",
      "execution_count": null,
      "metadata": {
        "colab": {
          "base_uri": "https://localhost:8080/"
        },
        "id": "C3q9ttWMNyg5",
        "outputId": "a3dd4f6d-2892-444e-87dc-e9e0727fa85a"
      },
      "outputs": [
        {
          "output_type": "execute_result",
          "data": {
            "text/plain": [
              "(506, 10)"
            ]
          },
          "metadata": {},
          "execution_count": 727
        }
      ],
      "source": [
        "base.shape"
      ]
    },
    {
      "cell_type": "markdown",
      "source": [
        "##Aplicando a função que eu criei nos dados de número de candidato"
      ],
      "metadata": {
        "id": "12mzcfq7nkC0"
      }
    },
    {
      "cell_type": "code",
      "source": [
        "base['NR_CANDIDATO'] = base['NR_CANDIDATO'].apply(tem_repeticao)\n"
      ],
      "metadata": {
        "id": "tmOoUkRLnjKo"
      },
      "execution_count": null,
      "outputs": []
    },
    {
      "cell_type": "code",
      "source": [
        "base"
      ],
      "metadata": {
        "colab": {
          "base_uri": "https://localhost:8080/",
          "height": 424
        },
        "id": "6oamUY3OqGLW",
        "outputId": "da1ef8ef-a85f-4b38-cdc4-9791dd34ba6c"
      },
      "execution_count": null,
      "outputs": [
        {
          "output_type": "execute_result",
          "data": {
            "text/plain": [
              "     NR_CANDIDATO  NR_PARTIDO  SG_UF_NASCIMENTO  NR_IDADE_DATA_POSSE  \\\n",
              "0           False          27                 0                   47   \n",
              "1           False          43                 0                   52   \n",
              "2           False          15                 0                   45   \n",
              "3           False          50                 1                   72   \n",
              "4           False          17                 0                   44   \n",
              "..            ...         ...               ...                  ...   \n",
              "501         False          33                 1                   39   \n",
              "502         False          35                 0                   53   \n",
              "503         False          12                 1                   66   \n",
              "504         False          77                 1                   54   \n",
              "505         False          35                 0                   60   \n",
              "\n",
              "     CD_GENERO  CD_GRAU_INSTRUCAO  CD_ESTADO_CIVIL  VR_DESPESA_MAX_CAMPANHA  \\\n",
              "0            2                  7                9                100000.00   \n",
              "1            2                  8                3                100000.00   \n",
              "2            2                  8                1               1000000.00   \n",
              "3            2                  8                3                 30000.00   \n",
              "4            2                  7                1              10000000.00   \n",
              "..         ...                ...              ...                      ...   \n",
              "501          2                  6                3               3176572.53   \n",
              "502          2                  5                1               3176572.53   \n",
              "503          2                  8                3               3176572.53   \n",
              "504          4                  8                3               3176572.53   \n",
              "505          2                  8                3               3176572.53   \n",
              "\n",
              "     ST_REELEICAO  Resultado  \n",
              "0               0          4  \n",
              "1               0          4  \n",
              "2               0          3  \n",
              "3               0          4  \n",
              "4               0          4  \n",
              "..            ...        ...  \n",
              "501             0          4  \n",
              "502             0          4  \n",
              "503             0          4  \n",
              "504             0          4  \n",
              "505             0          4  \n",
              "\n",
              "[506 rows x 10 columns]"
            ],
            "text/html": [
              "\n",
              "  <div id=\"df-7e49991f-ed34-4d4d-a025-ef1c7fe3bb43\">\n",
              "    <div class=\"colab-df-container\">\n",
              "      <div>\n",
              "<style scoped>\n",
              "    .dataframe tbody tr th:only-of-type {\n",
              "        vertical-align: middle;\n",
              "    }\n",
              "\n",
              "    .dataframe tbody tr th {\n",
              "        vertical-align: top;\n",
              "    }\n",
              "\n",
              "    .dataframe thead th {\n",
              "        text-align: right;\n",
              "    }\n",
              "</style>\n",
              "<table border=\"1\" class=\"dataframe\">\n",
              "  <thead>\n",
              "    <tr style=\"text-align: right;\">\n",
              "      <th></th>\n",
              "      <th>NR_CANDIDATO</th>\n",
              "      <th>NR_PARTIDO</th>\n",
              "      <th>SG_UF_NASCIMENTO</th>\n",
              "      <th>NR_IDADE_DATA_POSSE</th>\n",
              "      <th>CD_GENERO</th>\n",
              "      <th>CD_GRAU_INSTRUCAO</th>\n",
              "      <th>CD_ESTADO_CIVIL</th>\n",
              "      <th>VR_DESPESA_MAX_CAMPANHA</th>\n",
              "      <th>ST_REELEICAO</th>\n",
              "      <th>Resultado</th>\n",
              "    </tr>\n",
              "  </thead>\n",
              "  <tbody>\n",
              "    <tr>\n",
              "      <th>0</th>\n",
              "      <td>False</td>\n",
              "      <td>27</td>\n",
              "      <td>0</td>\n",
              "      <td>47</td>\n",
              "      <td>2</td>\n",
              "      <td>7</td>\n",
              "      <td>9</td>\n",
              "      <td>100000.00</td>\n",
              "      <td>0</td>\n",
              "      <td>4</td>\n",
              "    </tr>\n",
              "    <tr>\n",
              "      <th>1</th>\n",
              "      <td>False</td>\n",
              "      <td>43</td>\n",
              "      <td>0</td>\n",
              "      <td>52</td>\n",
              "      <td>2</td>\n",
              "      <td>8</td>\n",
              "      <td>3</td>\n",
              "      <td>100000.00</td>\n",
              "      <td>0</td>\n",
              "      <td>4</td>\n",
              "    </tr>\n",
              "    <tr>\n",
              "      <th>2</th>\n",
              "      <td>False</td>\n",
              "      <td>15</td>\n",
              "      <td>0</td>\n",
              "      <td>45</td>\n",
              "      <td>2</td>\n",
              "      <td>8</td>\n",
              "      <td>1</td>\n",
              "      <td>1000000.00</td>\n",
              "      <td>0</td>\n",
              "      <td>3</td>\n",
              "    </tr>\n",
              "    <tr>\n",
              "      <th>3</th>\n",
              "      <td>False</td>\n",
              "      <td>50</td>\n",
              "      <td>1</td>\n",
              "      <td>72</td>\n",
              "      <td>2</td>\n",
              "      <td>8</td>\n",
              "      <td>3</td>\n",
              "      <td>30000.00</td>\n",
              "      <td>0</td>\n",
              "      <td>4</td>\n",
              "    </tr>\n",
              "    <tr>\n",
              "      <th>4</th>\n",
              "      <td>False</td>\n",
              "      <td>17</td>\n",
              "      <td>0</td>\n",
              "      <td>44</td>\n",
              "      <td>2</td>\n",
              "      <td>7</td>\n",
              "      <td>1</td>\n",
              "      <td>10000000.00</td>\n",
              "      <td>0</td>\n",
              "      <td>4</td>\n",
              "    </tr>\n",
              "    <tr>\n",
              "      <th>...</th>\n",
              "      <td>...</td>\n",
              "      <td>...</td>\n",
              "      <td>...</td>\n",
              "      <td>...</td>\n",
              "      <td>...</td>\n",
              "      <td>...</td>\n",
              "      <td>...</td>\n",
              "      <td>...</td>\n",
              "      <td>...</td>\n",
              "      <td>...</td>\n",
              "    </tr>\n",
              "    <tr>\n",
              "      <th>501</th>\n",
              "      <td>False</td>\n",
              "      <td>33</td>\n",
              "      <td>1</td>\n",
              "      <td>39</td>\n",
              "      <td>2</td>\n",
              "      <td>6</td>\n",
              "      <td>3</td>\n",
              "      <td>3176572.53</td>\n",
              "      <td>0</td>\n",
              "      <td>4</td>\n",
              "    </tr>\n",
              "    <tr>\n",
              "      <th>502</th>\n",
              "      <td>False</td>\n",
              "      <td>35</td>\n",
              "      <td>0</td>\n",
              "      <td>53</td>\n",
              "      <td>2</td>\n",
              "      <td>5</td>\n",
              "      <td>1</td>\n",
              "      <td>3176572.53</td>\n",
              "      <td>0</td>\n",
              "      <td>4</td>\n",
              "    </tr>\n",
              "    <tr>\n",
              "      <th>503</th>\n",
              "      <td>False</td>\n",
              "      <td>12</td>\n",
              "      <td>1</td>\n",
              "      <td>66</td>\n",
              "      <td>2</td>\n",
              "      <td>8</td>\n",
              "      <td>3</td>\n",
              "      <td>3176572.53</td>\n",
              "      <td>0</td>\n",
              "      <td>4</td>\n",
              "    </tr>\n",
              "    <tr>\n",
              "      <th>504</th>\n",
              "      <td>False</td>\n",
              "      <td>77</td>\n",
              "      <td>1</td>\n",
              "      <td>54</td>\n",
              "      <td>4</td>\n",
              "      <td>8</td>\n",
              "      <td>3</td>\n",
              "      <td>3176572.53</td>\n",
              "      <td>0</td>\n",
              "      <td>4</td>\n",
              "    </tr>\n",
              "    <tr>\n",
              "      <th>505</th>\n",
              "      <td>False</td>\n",
              "      <td>35</td>\n",
              "      <td>0</td>\n",
              "      <td>60</td>\n",
              "      <td>2</td>\n",
              "      <td>8</td>\n",
              "      <td>3</td>\n",
              "      <td>3176572.53</td>\n",
              "      <td>0</td>\n",
              "      <td>4</td>\n",
              "    </tr>\n",
              "  </tbody>\n",
              "</table>\n",
              "<p>506 rows × 10 columns</p>\n",
              "</div>\n",
              "      <button class=\"colab-df-convert\" onclick=\"convertToInteractive('df-7e49991f-ed34-4d4d-a025-ef1c7fe3bb43')\"\n",
              "              title=\"Convert this dataframe to an interactive table.\"\n",
              "              style=\"display:none;\">\n",
              "        \n",
              "  <svg xmlns=\"http://www.w3.org/2000/svg\" height=\"24px\"viewBox=\"0 0 24 24\"\n",
              "       width=\"24px\">\n",
              "    <path d=\"M0 0h24v24H0V0z\" fill=\"none\"/>\n",
              "    <path d=\"M18.56 5.44l.94 2.06.94-2.06 2.06-.94-2.06-.94-.94-2.06-.94 2.06-2.06.94zm-11 1L8.5 8.5l.94-2.06 2.06-.94-2.06-.94L8.5 2.5l-.94 2.06-2.06.94zm10 10l.94 2.06.94-2.06 2.06-.94-2.06-.94-.94-2.06-.94 2.06-2.06.94z\"/><path d=\"M17.41 7.96l-1.37-1.37c-.4-.4-.92-.59-1.43-.59-.52 0-1.04.2-1.43.59L10.3 9.45l-7.72 7.72c-.78.78-.78 2.05 0 2.83L4 21.41c.39.39.9.59 1.41.59.51 0 1.02-.2 1.41-.59l7.78-7.78 2.81-2.81c.8-.78.8-2.07 0-2.86zM5.41 20L4 18.59l7.72-7.72 1.47 1.35L5.41 20z\"/>\n",
              "  </svg>\n",
              "      </button>\n",
              "      \n",
              "  <style>\n",
              "    .colab-df-container {\n",
              "      display:flex;\n",
              "      flex-wrap:wrap;\n",
              "      gap: 12px;\n",
              "    }\n",
              "\n",
              "    .colab-df-convert {\n",
              "      background-color: #E8F0FE;\n",
              "      border: none;\n",
              "      border-radius: 50%;\n",
              "      cursor: pointer;\n",
              "      display: none;\n",
              "      fill: #1967D2;\n",
              "      height: 32px;\n",
              "      padding: 0 0 0 0;\n",
              "      width: 32px;\n",
              "    }\n",
              "\n",
              "    .colab-df-convert:hover {\n",
              "      background-color: #E2EBFA;\n",
              "      box-shadow: 0px 1px 2px rgba(60, 64, 67, 0.3), 0px 1px 3px 1px rgba(60, 64, 67, 0.15);\n",
              "      fill: #174EA6;\n",
              "    }\n",
              "\n",
              "    [theme=dark] .colab-df-convert {\n",
              "      background-color: #3B4455;\n",
              "      fill: #D2E3FC;\n",
              "    }\n",
              "\n",
              "    [theme=dark] .colab-df-convert:hover {\n",
              "      background-color: #434B5C;\n",
              "      box-shadow: 0px 1px 3px 1px rgba(0, 0, 0, 0.15);\n",
              "      filter: drop-shadow(0px 1px 2px rgba(0, 0, 0, 0.3));\n",
              "      fill: #FFFFFF;\n",
              "    }\n",
              "  </style>\n",
              "\n",
              "      <script>\n",
              "        const buttonEl =\n",
              "          document.querySelector('#df-7e49991f-ed34-4d4d-a025-ef1c7fe3bb43 button.colab-df-convert');\n",
              "        buttonEl.style.display =\n",
              "          google.colab.kernel.accessAllowed ? 'block' : 'none';\n",
              "\n",
              "        async function convertToInteractive(key) {\n",
              "          const element = document.querySelector('#df-7e49991f-ed34-4d4d-a025-ef1c7fe3bb43');\n",
              "          const dataTable =\n",
              "            await google.colab.kernel.invokeFunction('convertToInteractive',\n",
              "                                                     [key], {});\n",
              "          if (!dataTable) return;\n",
              "\n",
              "          const docLinkHtml = 'Like what you see? Visit the ' +\n",
              "            '<a target=\"_blank\" href=https://colab.research.google.com/notebooks/data_table.ipynb>data table notebook</a>'\n",
              "            + ' to learn more about interactive tables.';\n",
              "          element.innerHTML = '';\n",
              "          dataTable['output_type'] = 'display_data';\n",
              "          await google.colab.output.renderOutput(dataTable, element);\n",
              "          const docLink = document.createElement('div');\n",
              "          docLink.innerHTML = docLinkHtml;\n",
              "          element.appendChild(docLink);\n",
              "        }\n",
              "      </script>\n",
              "    </div>\n",
              "  </div>\n",
              "  "
            ]
          },
          "metadata": {},
          "execution_count": 729
        }
      ]
    },
    {
      "cell_type": "markdown",
      "source": [
        "##FAZENDO A MATRIZ DE CORRELAÇÃO LOGO ANTES QUE EU ME ESQUEÇA"
      ],
      "metadata": {
        "id": "dTSiU5GC59TA"
      }
    },
    {
      "cell_type": "code",
      "source": [
        "corr = base.corr()\n",
        "\n",
        "# Usamos o método heatmap do seaborn para plotar a matriz de correlação\n",
        "sns.heatmap(corr, annot=False, cmap=\"YlGnBu\")\n",
        "\n",
        "# Exibimos o gráfico\n",
        "plt.show()"
      ],
      "metadata": {
        "colab": {
          "base_uri": "https://localhost:8080/",
          "height": 413
        },
        "id": "7rHgtmr-58or",
        "outputId": "9747bb0e-94a1-4372-ff8f-ba32029bed7a"
      },
      "execution_count": null,
      "outputs": [
        {
          "output_type": "display_data",
          "data": {
            "text/plain": [
              "<Figure size 432x288 with 2 Axes>"
            ],
            "image/png": "[encoded data removed]"
          },
          "metadata": {
            "needs_background": "light"
          }
        }
      ]
    },
    {
      "cell_type": "markdown",
      "metadata": {
        "id": "FnWfbKjkNyg6"
      },
      "source": [
        "# Separando o que eu vou usar de entrada do que eu vou usar de saída"
      ]
    },
    {
      "cell_type": "code",
      "source": [
        "base = base.reindex(columns=['ST_REELEICAO','VR_DESPESA_MAX_CAMPANHA','CD_ESTADO_CIVIL','CD_GRAU_INSTRUCAO','CD_GENERO', 'NR_IDADE_DATA_POSSE','SG_UF_NASCIMENTO','NR_PARTIDO', 'NR_CANDIDATO', 'Resultado'])"
      ],
      "metadata": {
        "id": "MBrZG3Oz7xUL"
      },
      "execution_count": null,
      "outputs": []
    },
    {
      "cell_type": "code",
      "source": [
        "base"
      ],
      "metadata": {
        "colab": {
          "base_uri": "https://localhost:8080/",
          "height": 424
        },
        "id": "w3wnVqLn7yFt",
        "outputId": "9195ee3a-4360-42cc-c1f8-44c8139eb2d8"
      },
      "execution_count": null,
      "outputs": [
        {
          "output_type": "execute_result",
          "data": {
            "text/plain": [
              "     ST_REELEICAO  VR_DESPESA_MAX_CAMPANHA  CD_ESTADO_CIVIL  \\\n",
              "0               0                100000.00                9   \n",
              "1               0                100000.00                3   \n",
              "2               0               1000000.00                1   \n",
              "3               0                 30000.00                3   \n",
              "4               0              10000000.00                1   \n",
              "..            ...                      ...              ...   \n",
              "501             0               3176572.53                3   \n",
              "502             0               3176572.53                1   \n",
              "503             0               3176572.53                3   \n",
              "504             0               3176572.53                3   \n",
              "505             0               3176572.53                3   \n",
              "\n",
              "     CD_GRAU_INSTRUCAO  CD_GENERO  NR_IDADE_DATA_POSSE  SG_UF_NASCIMENTO  \\\n",
              "0                    7          2                   47                 0   \n",
              "1                    8          2                   52                 0   \n",
              "2                    8          2                   45                 0   \n",
              "3                    8          2                   72                 1   \n",
              "4                    7          2                   44                 0   \n",
              "..                 ...        ...                  ...               ...   \n",
              "501                  6          2                   39                 1   \n",
              "502                  5          2                   53                 0   \n",
              "503                  8          2                   66                 1   \n",
              "504                  8          4                   54                 1   \n",
              "505                  8          2                   60                 0   \n",
              "\n",
              "     NR_PARTIDO  NR_CANDIDATO  Resultado  \n",
              "0            27         False          4  \n",
              "1            43         False          4  \n",
              "2            15         False          3  \n",
              "3            50         False          4  \n",
              "4            17         False          4  \n",
              "..          ...           ...        ...  \n",
              "501          33         False          4  \n",
              "502          35         False          4  \n",
              "503          12         False          4  \n",
              "504          77         False          4  \n",
              "505          35         False          4  \n",
              "\n",
              "[506 rows x 10 columns]"
            ],
            "text/html": [
              "\n",
              "  <div id=\"df-9963e19a-53c7-4384-a9c2-7aadb3c2b703\">\n",
              "    <div class=\"colab-df-container\">\n",
              "      <div>\n",
              "<style scoped>\n",
              "    .dataframe tbody tr th:only-of-type {\n",
              "        vertical-align: middle;\n",
              "    }\n",
              "\n",
              "    .dataframe tbody tr th {\n",
              "        vertical-align: top;\n",
              "    }\n",
              "\n",
              "    .dataframe thead th {\n",
              "        text-align: right;\n",
              "    }\n",
              "</style>\n",
              "<table border=\"1\" class=\"dataframe\">\n",
              "  <thead>\n",
              "    <tr style=\"text-align: right;\">\n",
              "      <th></th>\n",
              "      <th>ST_REELEICAO</th>\n",
              "      <th>VR_DESPESA_MAX_CAMPANHA</th>\n",
              "      <th>CD_ESTADO_CIVIL</th>\n",
              "      <th>CD_GRAU_INSTRUCAO</th>\n",
              "      <th>CD_GENERO</th>\n",
              "      <th>NR_IDADE_DATA_POSSE</th>\n",
              "      <th>SG_UF_NASCIMENTO</th>\n",
              "      <th>NR_PARTIDO</th>\n",
              "      <th>NR_CANDIDATO</th>\n",
              "      <th>Resultado</th>\n",
              "    </tr>\n",
              "  </thead>\n",
              "  <tbody>\n",
              "    <tr>\n",
              "      <th>0</th>\n",
              "      <td>0</td>\n",
              "      <td>100000.00</td>\n",
              "      <td>9</td>\n",
              "      <td>7</td>\n",
              "      <td>2</td>\n",
              "      <td>47</td>\n",
              "      <td>0</td>\n",
              "      <td>27</td>\n",
              "      <td>False</td>\n",
              "      <td>4</td>\n",
              "    </tr>\n",
              "    <tr>\n",
              "      <th>1</th>\n",
              "      <td>0</td>\n",
              "      <td>100000.00</td>\n",
              "      <td>3</td>\n",
              "      <td>8</td>\n",
              "      <td>2</td>\n",
              "      <td>52</td>\n",
              "      <td>0</td>\n",
              "      <td>43</td>\n",
              "      <td>False</td>\n",
              "      <td>4</td>\n",
              "    </tr>\n",
              "    <tr>\n",
              "      <th>2</th>\n",
              "      <td>0</td>\n",
              "      <td>1000000.00</td>\n",
              "      <td>1</td>\n",
              "      <td>8</td>\n",
              "      <td>2</td>\n",
              "      <td>45</td>\n",
              "      <td>0</td>\n",
              "      <td>15</td>\n",
              "      <td>False</td>\n",
              "      <td>3</td>\n",
              "    </tr>\n",
              "    <tr>\n",
              "      <th>3</th>\n",
              "      <td>0</td>\n",
              "      <td>30000.00</td>\n",
              "      <td>3</td>\n",
              "      <td>8</td>\n",
              "      <td>2</td>\n",
              "      <td>72</td>\n",
              "      <td>1</td>\n",
              "      <td>50</td>\n",
              "      <td>False</td>\n",
              "      <td>4</td>\n",
              "    </tr>\n",
              "    <tr>\n",
              "      <th>4</th>\n",
              "      <td>0</td>\n",
              "      <td>10000000.00</td>\n",
              "      <td>1</td>\n",
              "      <td>7</td>\n",
              "      <td>2</td>\n",
              "      <td>44</td>\n",
              "      <td>0</td>\n",
              "      <td>17</td>\n",
              "      <td>False</td>\n",
              "      <td>4</td>\n",
              "    </tr>\n",
              "    <tr>\n",
              "      <th>...</th>\n",
              "      <td>...</td>\n",
              "      <td>...</td>\n",
              "      <td>...</td>\n",
              "      <td>...</td>\n",
              "      <td>...</td>\n",
              "      <td>...</td>\n",
              "      <td>...</td>\n",
              "      <td>...</td>\n",
              "      <td>...</td>\n",
              "      <td>...</td>\n",
              "    </tr>\n",
              "    <tr>\n",
              "      <th>501</th>\n",
              "      <td>0</td>\n",
              "      <td>3176572.53</td>\n",
              "      <td>3</td>\n",
              "      <td>6</td>\n",
              "      <td>2</td>\n",
              "      <td>39</td>\n",
              "      <td>1</td>\n",
              "      <td>33</td>\n",
              "      <td>False</td>\n",
              "      <td>4</td>\n",
              "    </tr>\n",
              "    <tr>\n",
              "      <th>502</th>\n",
              "      <td>0</td>\n",
              "      <td>3176572.53</td>\n",
              "      <td>1</td>\n",
              "      <td>5</td>\n",
              "      <td>2</td>\n",
              "      <td>53</td>\n",
              "      <td>0</td>\n",
              "      <td>35</td>\n",
              "      <td>False</td>\n",
              "      <td>4</td>\n",
              "    </tr>\n",
              "    <tr>\n",
              "      <th>503</th>\n",
              "      <td>0</td>\n",
              "      <td>3176572.53</td>\n",
              "      <td>3</td>\n",
              "      <td>8</td>\n",
              "      <td>2</td>\n",
              "      <td>66</td>\n",
              "      <td>1</td>\n",
              "      <td>12</td>\n",
              "      <td>False</td>\n",
              "      <td>4</td>\n",
              "    </tr>\n",
              "    <tr>\n",
              "      <th>504</th>\n",
              "      <td>0</td>\n",
              "      <td>3176572.53</td>\n",
              "      <td>3</td>\n",
              "      <td>8</td>\n",
              "      <td>4</td>\n",
              "      <td>54</td>\n",
              "      <td>1</td>\n",
              "      <td>77</td>\n",
              "      <td>False</td>\n",
              "      <td>4</td>\n",
              "    </tr>\n",
              "    <tr>\n",
              "      <th>505</th>\n",
              "      <td>0</td>\n",
              "      <td>3176572.53</td>\n",
              "      <td>3</td>\n",
              "      <td>8</td>\n",
              "      <td>2</td>\n",
              "      <td>60</td>\n",
              "      <td>0</td>\n",
              "      <td>35</td>\n",
              "      <td>False</td>\n",
              "      <td>4</td>\n",
              "    </tr>\n",
              "  </tbody>\n",
              "</table>\n",
              "<p>506 rows × 10 columns</p>\n",
              "</div>\n",
              "      <button class=\"colab-df-convert\" onclick=\"convertToInteractive('df-9963e19a-53c7-4384-a9c2-7aadb3c2b703')\"\n",
              "              title=\"Convert this dataframe to an interactive table.\"\n",
              "              style=\"display:none;\">\n",
              "        \n",
              "  <svg xmlns=\"http://www.w3.org/2000/svg\" height=\"24px\"viewBox=\"0 0 24 24\"\n",
              "       width=\"24px\">\n",
              "    <path d=\"M0 0h24v24H0V0z\" fill=\"none\"/>\n",
              "    <path d=\"M18.56 5.44l.94 2.06.94-2.06 2.06-.94-2.06-.94-.94-2.06-.94 2.06-2.06.94zm-11 1L8.5 8.5l.94-2.06 2.06-.94-2.06-.94L8.5 2.5l-.94 2.06-2.06.94zm10 10l.94 2.06.94-2.06 2.06-.94-2.06-.94-.94-2.06-.94 2.06-2.06.94z\"/><path d=\"M17.41 7.96l-1.37-1.37c-.4-.4-.92-.59-1.43-.59-.52 0-1.04.2-1.43.59L10.3 9.45l-7.72 7.72c-.78.78-.78 2.05 0 2.83L4 21.41c.39.39.9.59 1.41.59.51 0 1.02-.2 1.41-.59l7.78-7.78 2.81-2.81c.8-.78.8-2.07 0-2.86zM5.41 20L4 18.59l7.72-7.72 1.47 1.35L5.41 20z\"/>\n",
              "  </svg>\n",
              "      </button>\n",
              "      \n",
              "  <style>\n",
              "    .colab-df-container {\n",
              "      display:flex;\n",
              "      flex-wrap:wrap;\n",
              "      gap: 12px;\n",
              "    }\n",
              "\n",
              "    .colab-df-convert {\n",
              "      background-color: #E8F0FE;\n",
              "      border: none;\n",
              "      border-radius: 50%;\n",
              "      cursor: pointer;\n",
              "      display: none;\n",
              "      fill: #1967D2;\n",
              "      height: 32px;\n",
              "      padding: 0 0 0 0;\n",
              "      width: 32px;\n",
              "    }\n",
              "\n",
              "    .colab-df-convert:hover {\n",
              "      background-color: #E2EBFA;\n",
              "      box-shadow: 0px 1px 2px rgba(60, 64, 67, 0.3), 0px 1px 3px 1px rgba(60, 64, 67, 0.15);\n",
              "      fill: #174EA6;\n",
              "    }\n",
              "\n",
              "    [theme=dark] .colab-df-convert {\n",
              "      background-color: #3B4455;\n",
              "      fill: #D2E3FC;\n",
              "    }\n",
              "\n",
              "    [theme=dark] .colab-df-convert:hover {\n",
              "      background-color: #434B5C;\n",
              "      box-shadow: 0px 1px 3px 1px rgba(0, 0, 0, 0.15);\n",
              "      filter: drop-shadow(0px 1px 2px rgba(0, 0, 0, 0.3));\n",
              "      fill: #FFFFFF;\n",
              "    }\n",
              "  </style>\n",
              "\n",
              "      <script>\n",
              "        const buttonEl =\n",
              "          document.querySelector('#df-9963e19a-53c7-4384-a9c2-7aadb3c2b703 button.colab-df-convert');\n",
              "        buttonEl.style.display =\n",
              "          google.colab.kernel.accessAllowed ? 'block' : 'none';\n",
              "\n",
              "        async function convertToInteractive(key) {\n",
              "          const element = document.querySelector('#df-9963e19a-53c7-4384-a9c2-7aadb3c2b703');\n",
              "          const dataTable =\n",
              "            await google.colab.kernel.invokeFunction('convertToInteractive',\n",
              "                                                     [key], {});\n",
              "          if (!dataTable) return;\n",
              "\n",
              "          const docLinkHtml = 'Like what you see? Visit the ' +\n",
              "            '<a target=\"_blank\" href=https://colab.research.google.com/notebooks/data_table.ipynb>data table notebook</a>'\n",
              "            + ' to learn more about interactive tables.';\n",
              "          element.innerHTML = '';\n",
              "          dataTable['output_type'] = 'display_data';\n",
              "          await google.colab.output.renderOutput(dataTable, element);\n",
              "          const docLink = document.createElement('div');\n",
              "          docLink.innerHTML = docLinkHtml;\n",
              "          element.appendChild(docLink);\n",
              "        }\n",
              "      </script>\n",
              "    </div>\n",
              "  </div>\n",
              "  "
            ]
          },
          "metadata": {},
          "execution_count": 732
        }
      ]
    },
    {
      "cell_type": "code",
      "execution_count": null,
      "metadata": {
        "id": "OXB2v_CZNyg7"
      },
      "outputs": [],
      "source": [
        "x = base.iloc[: , 1:9].values\n",
        "y = base.iloc[: , 9].values"
      ]
    },
    {
      "cell_type": "code",
      "execution_count": null,
      "metadata": {
        "colab": {
          "base_uri": "https://localhost:8080/"
        },
        "id": "yIVLDPmSfHjJ",
        "outputId": "5a37156f-4a21-4d7c-e2c3-8a797df1e90b"
      },
      "outputs": [
        {
          "output_type": "execute_result",
          "data": {
            "text/plain": [
              "array([100000.0, 9, 7, 2, 47, 0, 27, False], dtype=object)"
            ]
          },
          "metadata": {},
          "execution_count": 734
        }
      ],
      "source": [
        "x[0]"
      ]
    },
    {
      "cell_type": "code",
      "execution_count": null,
      "metadata": {
        "colab": {
          "base_uri": "https://localhost:8080/"
        },
        "id": "M3M8IeCgNyg8",
        "outputId": "18071829-c77e-48be-f278-88e0da34636f"
      },
      "outputs": [
        {
          "output_type": "execute_result",
          "data": {
            "text/plain": [
              "4"
            ]
          },
          "metadata": {},
          "execution_count": 735
        }
      ],
      "source": [
        "y[0]"
      ]
    },
    {
      "cell_type": "markdown",
      "metadata": {
        "id": "mdLko1pxNyhA"
      },
      "source": [
        "# Transformando as variáveis que são letras em variáveis numéricas"
      ]
    },
    {
      "cell_type": "markdown",
      "source": [
        "from sklearn.preprocessing import LabelEncoder\n",
        "label_encoder = LabelEncoder()\n",
        "x[:,3] = label_encoder.fit_transform(x[:,3])\n",
        "x[:,4] = label_encoder.fit_transform(x[:,4])\n",
        "x[:,11] = label_encoder.fit_transform(x[:,11])"
      ],
      "metadata": {
        "id": "0u3GAJBulnTz"
      }
    },
    {
      "cell_type": "code",
      "execution_count": null,
      "metadata": {
        "colab": {
          "base_uri": "https://localhost:8080/"
        },
        "id": "LFVxIKCBNyhB",
        "outputId": "72f86342-5f5c-4683-ab87-3065c50b5458"
      },
      "outputs": [
        {
          "output_type": "execute_result",
          "data": {
            "text/plain": [
              "array([100000.0, 3, 8, 2, 52, 0, 43, False], dtype=object)"
            ]
          },
          "metadata": {},
          "execution_count": 736
        }
      ],
      "source": [
        "x[1]"
      ]
    },
    {
      "cell_type": "markdown",
      "metadata": {
        "id": "KgyVaVHVNyhC"
      },
      "source": [
        "# Normalizando esse treco"
      ]
    },
    {
      "cell_type": "code",
      "execution_count": null,
      "metadata": {
        "id": "Aaiq0zfoNyhD"
      },
      "outputs": [],
      "source": [
        "from sklearn.preprocessing import StandardScaler\n",
        "scaler_x = StandardScaler()\n",
        "X = scaler_x.fit_transform(x)"
      ]
    },
    {
      "cell_type": "code",
      "execution_count": null,
      "metadata": {
        "colab": {
          "base_uri": "https://localhost:8080/"
        },
        "id": "7g0IS_0TNyhD",
        "outputId": "2b50ae5b-f6d8-4d29-db26-02db296b4fba"
      },
      "outputs": [
        {
          "output_type": "stream",
          "name": "stdout",
          "text": [
            "[-1.76176689 -0.02697106  0.74315143 -0.64911348  0.45663926 -0.51785174\n",
            "  0.45444424 -0.25546655]\n"
          ]
        }
      ],
      "source": [
        "print(X[1])"
      ]
    },
    {
      "cell_type": "markdown",
      "metadata": {
        "id": "DTEB6yBWNyhE"
      },
      "source": [
        "# Vamos organizar a saída pra que seja uma variável binária mas com o 1 em apenas uma das casas"
      ]
    },
    {
      "cell_type": "code",
      "execution_count": null,
      "metadata": {
        "colab": {
          "base_uri": "https://localhost:8080/"
        },
        "id": "4-MwVETvNyhE",
        "outputId": "2b0a22e7-0e01-4d1a-ba5a-cf50b297719e"
      },
      "outputs": [
        {
          "output_type": "execute_result",
          "data": {
            "text/plain": [
              "(506,)"
            ]
          },
          "metadata": {},
          "execution_count": 739
        }
      ],
      "source": [
        "from sklearn.preprocessing import OneHotEncoder\n",
        "onehot = OneHotEncoder()\n",
        "y.shape"
      ]
    },
    {
      "cell_type": "markdown",
      "metadata": {
        "id": "OmbRYLd2NyhF"
      },
      "source": [
        "# Pra isso preciso fazer o reshape do y"
      ]
    },
    {
      "cell_type": "code",
      "execution_count": null,
      "metadata": {
        "colab": {
          "base_uri": "https://localhost:8080/"
        },
        "id": "mzYv7xpzNyhF",
        "outputId": "d8271b05-c57b-45a1-d17b-e753f65493f1"
      },
      "outputs": [
        {
          "output_type": "execute_result",
          "data": {
            "text/plain": [
              "(506, 1)"
            ]
          },
          "metadata": {},
          "execution_count": 740
        }
      ],
      "source": [
        "y = y.reshape(-1, 1)\n",
        "y.shape"
      ]
    },
    {
      "cell_type": "markdown",
      "metadata": {
        "id": "gaASt8fkNyhG"
      },
      "source": [
        "Agora vamos fazer isso de fato"
      ]
    },
    {
      "cell_type": "code",
      "execution_count": null,
      "metadata": {
        "colab": {
          "base_uri": "https://localhost:8080/"
        },
        "id": "UZ3UifCMNyhG",
        "outputId": "0f78b132-9b3c-4d2c-aa6d-3532e64b4420"
      },
      "outputs": [
        {
          "output_type": "execute_result",
          "data": {
            "text/plain": [
              "array([[0., 0., 0., 1.],\n",
              "       [0., 0., 0., 1.],\n",
              "       [0., 0., 1., 0.],\n",
              "       ...,\n",
              "       [0., 0., 0., 1.],\n",
              "       [0., 0., 0., 1.],\n",
              "       [0., 0., 0., 1.]])"
            ]
          },
          "metadata": {},
          "execution_count": 741
        }
      ],
      "source": [
        "y = onehot.fit_transform(y).toarray()\n",
        "y"
      ]
    },
    {
      "cell_type": "markdown",
      "metadata": {
        "id": "xopkp7AGNyhH"
      },
      "source": [
        "# Aqui vamos organizar o treinamento da rede neural\n",
        "(lembrando que a gente ta usando 70% das amostras como treinamento e 30% de teste) "
      ]
    },
    {
      "cell_type": "code",
      "execution_count": null,
      "metadata": {
        "id": "bcpeVHyoNyhH"
      },
      "outputs": [],
      "source": [
        "from sklearn.model_selection import train_test_split\n",
        "X_treinamento, X_teste, y_treinamento, y_teste = train_test_split(X, y, test_size = 0.35, shuffle ='false' )"
      ]
    },
    {
      "cell_type": "code",
      "execution_count": null,
      "metadata": {
        "colab": {
          "base_uri": "https://localhost:8080/"
        },
        "id": "qKTGE8lLNyhI",
        "outputId": "81a82340-6a4c-4fbd-de10-b987e8621a86"
      },
      "outputs": [
        {
          "output_type": "execute_result",
          "data": {
            "text/plain": [
              "(328, 8)"
            ]
          },
          "metadata": {},
          "execution_count": 743
        }
      ],
      "source": [
        "X_treinamento.shape"
      ]
    },
    {
      "cell_type": "code",
      "execution_count": null,
      "metadata": {
        "colab": {
          "base_uri": "https://localhost:8080/"
        },
        "id": "VzlecRkWNyhI",
        "outputId": "e2f0b921-efe6-4cb5-bd4a-687ebcd2242b"
      },
      "outputs": [
        {
          "output_type": "execute_result",
          "data": {
            "text/plain": [
              "(178, 8)"
            ]
          },
          "metadata": {},
          "execution_count": 744
        }
      ],
      "source": [
        "X_teste.shape"
      ]
    },
    {
      "cell_type": "code",
      "execution_count": null,
      "metadata": {
        "colab": {
          "base_uri": "https://localhost:8080/",
          "height": 36
        },
        "id": "ZOGRlcnCfHjU",
        "outputId": "ffbecbea-1428-4bd5-ae12-32b67cd43d84"
      },
      "outputs": [
        {
          "output_type": "execute_result",
          "data": {
            "text/plain": [
              "'2.9.2'"
            ],
            "application/vnd.google.colaboratory.intrinsic+json": {
              "type": "string"
            }
          },
          "metadata": {},
          "execution_count": 745
        }
      ],
      "source": [
        "import tensorflow as tf\n",
        "import numpy as np\n",
        "\n",
        "tf.random.set_seed(42)\n",
        "\n",
        "tf.__version__"
      ]
    },
    {
      "cell_type": "markdown",
      "metadata": {
        "id": "4fpk4uDzNyhJ"
      },
      "source": [
        "# Só pra conferir se temos a quantidade de neuronios nas camadas corretamente"
      ]
    },
    {
      "cell_type": "code",
      "execution_count": null,
      "metadata": {
        "colab": {
          "base_uri": "https://localhost:8080/"
        },
        "id": "h1GnI639fHjf",
        "outputId": "971c7074-51bb-49b1-8a29-04e2a6621445"
      },
      "outputs": [
        {
          "output_type": "execute_result",
          "data": {
            "text/plain": [
              "8"
            ]
          },
          "metadata": {},
          "execution_count": 746
        }
      ],
      "source": [
        "neuronios_entrada = X.shape[1]\n",
        "neuronios_entrada"
      ]
    },
    {
      "cell_type": "code",
      "execution_count": null,
      "metadata": {
        "colab": {
          "base_uri": "https://localhost:8080/"
        },
        "id": "JF5XXqu_fHju",
        "outputId": "69f98541-6ad8-4ec8-a808-c8c7bebb9e60"
      },
      "outputs": [
        {
          "output_type": "execute_result",
          "data": {
            "text/plain": [
              "6"
            ]
          },
          "metadata": {},
          "execution_count": 747
        }
      ],
      "source": [
        "neuronios_oculta = int(np.ceil((X.shape[1] + y.shape[1]) / 2))\n",
        "neuronios_oculta"
      ]
    },
    {
      "cell_type": "code",
      "execution_count": null,
      "metadata": {
        "colab": {
          "base_uri": "https://localhost:8080/"
        },
        "id": "serXy88efHj5",
        "outputId": "ada593db-749f-4bdb-8b8f-0d2ec503321c"
      },
      "outputs": [
        {
          "output_type": "execute_result",
          "data": {
            "text/plain": [
              "4"
            ]
          },
          "metadata": {},
          "execution_count": 748
        }
      ],
      "source": [
        "neuronios_saida = y.shape[1]\n",
        "neuronios_saida"
      ]
    },
    {
      "cell_type": "markdown",
      "metadata": {
        "id": "liydkOaRNyhL"
      },
      "source": [
        "# Criando as variáveis de pesos"
      ]
    },
    {
      "cell_type": "code",
      "execution_count": null,
      "metadata": {
        "id": "YC7-horvfHkH"
      },
      "outputs": [],
      "source": [
        "W = {'oculta': tf.Variable(tf.random.normal([neuronios_entrada, neuronios_oculta])),\n",
        "     'saida': tf.Variable(tf.random.normal([neuronios_oculta, neuronios_saida]))}"
      ]
    },
    {
      "cell_type": "markdown",
      "metadata": {
        "id": "rZD2p3qONyhM"
      },
      "source": [
        "# Criando as variáveis de baias"
      ]
    },
    {
      "cell_type": "code",
      "execution_count": null,
      "metadata": {
        "id": "1fYGJSS6fHkP"
      },
      "outputs": [],
      "source": [
        "b = {'oculta': tf.Variable(tf.random.normal([neuronios_oculta])),\n",
        "     'saida': tf.Variable(tf.random.normal([neuronios_saida]))}"
      ]
    },
    {
      "cell_type": "markdown",
      "metadata": {
        "id": "HpBYrpa3NyhM"
      },
      "source": [
        "# Definindo o teste"
      ]
    },
    {
      "cell_type": "code",
      "execution_count": null,
      "metadata": {
        "id": "uCL3570DfHkX"
      },
      "outputs": [],
      "source": [
        "X_treinamento = tf.convert_to_tensor(X_treinamento, dtype = tf.float32, name = 'X')\n",
        "y_treinamento = tf.convert_to_tensor(y_treinamento, dtype = tf.float32, name = 'y')\n",
        "X_teste = tf.convert_to_tensor(X_teste, dtype = tf.float32, name = 'X')\n",
        "y_teste = tf.convert_to_tensor(y_teste, dtype = tf.float32, name = 'y')"
      ]
    },
    {
      "cell_type": "markdown",
      "metadata": {
        "id": "Ytt9gf9wNyhN"
      },
      "source": [
        "# Definindo o detalhes de treinamento"
      ]
    },
    {
      "cell_type": "code",
      "execution_count": null,
      "metadata": {
        "id": "hhPM6MomfHkg"
      },
      "outputs": [],
      "source": [
        "def mlp(x, W, bias):\n",
        "    camada_oculta = tf.add(tf.matmul(x, W['oculta']), bias['oculta'])\n",
        "    camada_oculta_ativacao = tf.nn.relu(camada_oculta)\n",
        "    camada_saida = tf.add(tf.matmul(camada_oculta_ativacao, W['saida']), b['saida'])\n",
        "    return camada_saida"
      ]
    },
    {
      "cell_type": "markdown",
      "source": [
        "# Primeiro preciso criar o exemplo de modelo e a variavel erro\n",
        "Perceber que o softmax já existe aqui"
      ],
      "metadata": {
        "id": "x6x47EJ3QRKk"
      }
    },
    {
      "cell_type": "code",
      "execution_count": null,
      "metadata": {
        "id": "tq2yQNKQfHlQ"
      },
      "outputs": [],
      "source": [
        "with tf.GradientTape() as tape:\n",
        "    modelo = mlp(X_treinamento, W, b)\n",
        "    erro = tf.reduce_mean(tf.nn.softmax_cross_entropy_with_logits(labels = y_treinamento, logits = modelo))"
      ]
    },
    {
      "cell_type": "code",
      "execution_count": null,
      "metadata": {
        "id": "jXoAr7iXfHlX"
      },
      "outputs": [],
      "source": [
        "var_list = [W['oculta'], W['saida'], b['oculta'], b['saida']]"
      ]
    },
    {
      "cell_type": "markdown",
      "metadata": {
        "id": "Ukz45giHNyhN"
      },
      "source": [
        "## Fazendo o primeiro treinamento"
      ]
    },
    {
      "cell_type": "code",
      "execution_count": null,
      "metadata": {
        "scrolled": false,
        "colab": {
          "base_uri": "https://localhost:8080/"
        },
        "id": "bUiDPgMpNyhO",
        "outputId": "d97c90de-efea-4a13-c2dc-fa3eecc18a23"
      },
      "outputs": [
        {
          "output_type": "execute_result",
          "data": {
            "text/plain": [
              "<tf.Variable 'Variable:0' shape=(8, 6) dtype=float32, numpy=\n",
              "array([[ 0.3274685 , -0.8426258 ,  0.3194337 , -1.4075519 , -2.3880599 ,\n",
              "        -1.0392479 ],\n",
              "       [-0.5573232 ,  0.539707  ,  1.6994323 ,  0.28893656, -1.5066116 ,\n",
              "        -0.26454744],\n",
              "       [-0.59722406, -1.9171132 , -0.62044144,  0.8504023 , -0.40604794,\n",
              "        -3.0258412 ],\n",
              "       [ 0.9058464 ,  0.29855987, -0.22561555, -0.7616443 , -1.891714  ,\n",
              "        -0.9384712 ],\n",
              "       [ 0.77852213, -0.47338897,  0.97772694,  0.24694404,  0.20573747,\n",
              "        -0.5256233 ],\n",
              "       [ 0.32410017,  0.02545409, -0.10638497, -0.6369475 ,  1.1603122 ,\n",
              "         0.2507359 ],\n",
              "       [-0.41728497,  0.40125778, -1.4145442 , -0.59318566, -1.6617213 ,\n",
              "         0.33567193],\n",
              "       [ 0.10815629,  0.2347968 , -0.56668764, -0.35819843,  0.88698626,\n",
              "         0.5274477 ]], dtype=float32)>"
            ]
          },
          "metadata": {},
          "execution_count": 755
        }
      ],
      "source": [
        "W['oculta']"
      ]
    },
    {
      "cell_type": "code",
      "execution_count": null,
      "metadata": {
        "colab": {
          "base_uri": "https://localhost:8080/"
        },
        "id": "cvh8DGvRNyhO",
        "outputId": "a73694c7-ad17-4ede-df5e-af1a2266e981"
      },
      "outputs": [
        {
          "output_type": "execute_result",
          "data": {
            "text/plain": [
              "<tf.Variable 'UnreadVariable' shape=() dtype=int64, numpy=1>"
            ]
          },
          "metadata": {},
          "execution_count": 756
        }
      ],
      "source": [
        "otimizador = tf.keras.optimizers.Adam(learning_rate = 0.0001)\n",
        "gradientes = tape.gradient(erro, var_list)\n",
        "otimizador.apply_gradients(zip(gradientes, var_list))"
      ]
    },
    {
      "cell_type": "markdown",
      "source": [
        "Verificando `W['oculta']` depois da atualização."
      ],
      "metadata": {
        "id": "tYk2lxxEQWbU"
      }
    },
    {
      "cell_type": "code",
      "execution_count": null,
      "metadata": {
        "colab": {
          "base_uri": "https://localhost:8080/"
        },
        "id": "n87objlUfHlv",
        "scrolled": true,
        "outputId": "a2df28bc-314c-4c84-ca61-86b2b7d83336"
      },
      "outputs": [
        {
          "output_type": "execute_result",
          "data": {
            "text/plain": [
              "<tf.Variable 'Variable:0' shape=(8, 6) dtype=float32, numpy=\n",
              "array([[ 0.32756844, -0.8427258 ,  0.3193337 , -1.4076519 , -2.38796   ,\n",
              "        -1.0391479 ],\n",
              "       [-0.5574231 ,  0.53980696,  1.6993322 ,  0.2890364 , -1.5065116 ,\n",
              "        -0.26444745],\n",
              "       [-0.597324  , -1.9172132 , -0.62054145,  0.8505022 , -0.40614793,\n",
              "        -3.0257413 ],\n",
              "       [ 0.90594643,  0.2984599 , -0.22551556, -0.7617443 , -1.891614  ,\n",
              "        -0.9383712 ],\n",
              "       [ 0.7784222 , -0.47328898,  0.9776269 ,  0.2468441 ,  0.20563751,\n",
              "        -0.5255233 ],\n",
              "       [ 0.32400018,  0.02555407, -0.10648496, -0.6370475 ,  1.1602122 ,\n",
              "         0.25063592],\n",
              "       [-0.41718498,  0.4011578 , -1.4144442 , -0.5932856 , -1.6616213 ,\n",
              "         0.33557194],\n",
              "       [ 0.1080563 ,  0.23489678, -0.5665876 , -0.3580985 ,  0.8870863 ,\n",
              "         0.5275477 ]], dtype=float32)>"
            ]
          },
          "metadata": {},
          "execution_count": 757
        }
      ],
      "source": [
        "W['oculta']"
      ]
    },
    {
      "cell_type": "markdown",
      "metadata": {
        "id": "Ornekd6JBbzc"
      },
      "source": [
        "### Treinamento\n",
        "\n",
        "Como `X_treinamento` e `y_treinamento` já são tensores, vou convertê-los em um dataset para gerar batches."
      ]
    },
    {
      "cell_type": "code",
      "execution_count": null,
      "metadata": {
        "colab": {
          "base_uri": "https://localhost:8080/"
        },
        "id": "Ub95fXwJA2Y2",
        "outputId": "16173f53-ae13-49fd-caee-00d784e8d7c8"
      },
      "outputs": [
        {
          "output_type": "execute_result",
          "data": {
            "text/plain": [
              "<TensorSliceDataset element_spec=(TensorSpec(shape=(8,), dtype=tf.float32, name=None), TensorSpec(shape=(4,), dtype=tf.float32, name=None))>"
            ]
          },
          "metadata": {},
          "execution_count": 758
        }
      ],
      "source": [
        "dataset = tf.data.Dataset.from_tensor_slices((X_treinamento, y_treinamento))\n",
        "dataset"
      ]
    },
    {
      "cell_type": "code",
      "execution_count": null,
      "metadata": {
        "colab": {
          "base_uri": "https://localhost:8080/"
        },
        "id": "A1rc0KXKBG7I",
        "outputId": "0f167dc5-d582-4dfd-e3eb-eb9148230069"
      },
      "outputs": [
        {
          "output_type": "execute_result",
          "data": {
            "text/plain": [
              "<BatchDataset element_spec=(TensorSpec(shape=(None, 8), dtype=tf.float32, name=None), TensorSpec(shape=(None, 4), dtype=tf.float32, name=None))>"
            ]
          },
          "metadata": {},
          "execution_count": 759
        }
      ],
      "source": [
        "batch_size = 8\n",
        "dataset = dataset.batch(batch_size)\n",
        "dataset"
      ]
    },
    {
      "cell_type": "markdown",
      "metadata": {
        "id": "WyaiDyAxBklz"
      },
      "source": [
        "Verificando o primeiro batch."
      ]
    },
    {
      "cell_type": "code",
      "execution_count": null,
      "metadata": {
        "colab": {
          "base_uri": "https://localhost:8080/"
        },
        "id": "w-P3I8NTBTmw",
        "outputId": "e356b42e-e577-4a0a-b027-0e019a2cc3ba"
      },
      "outputs": [
        {
          "output_type": "execute_result",
          "data": {
            "text/plain": [
              "(<tf.Tensor: shape=(8, 8), dtype=float32, numpy=\n",
              " array([[-1.047661  , -0.8799308 , -0.7031356 , -0.6491135 , -0.6456628 ,\n",
              "         -0.51785177, -1.0573478 , -0.25546655],\n",
              "        [ 0.6793426 , -0.02697106,  0.7431514 ,  1.5405626 ,  0.28705433,\n",
              "         -0.51785177, -1.2137401 , -0.25546655],\n",
              "        [ 1.3326919 , -0.8799308 ,  0.7431514 , -0.6491135 , -1.5783799 ,\n",
              "         -0.51785177,  2.9045901 , -0.25546655],\n",
              "        [ 1.3326919 , -0.02697106,  0.7431514 , -0.6491135 ,  2.6612432 ,\n",
              "         -0.51785177, -0.37964794, -0.25546655],\n",
              "        [ 0.6793426 , -0.02697106,  0.7431514 ,  1.5405626 , -1.0696251 ,\n",
              "         -0.51785177,  0.506575  , -0.25546655],\n",
              "        [ 0.14251548, -0.02697106,  0.7431514 , -0.6491135 , -0.7304552 ,\n",
              "         -0.51785177, -1.0052171 , -0.25546655],\n",
              "        [ 0.6793426 , -0.8799308 ,  0.02000792, -0.6491135 , -0.22170046,\n",
              "         -0.51785177, -1.0052171 , -0.25546655],\n",
              "        [ 0.6793426 , -0.02697106,  0.7431514 , -0.6491135 , -0.47607785,\n",
              "         -0.51785177,  1.8619748 , -0.25546655]], dtype=float32)>,\n",
              " <tf.Tensor: shape=(8, 4), dtype=float32, numpy=\n",
              " array([[0., 0., 0., 1.],\n",
              "        [0., 0., 0., 1.],\n",
              "        [1., 0., 0., 0.],\n",
              "        [0., 0., 1., 0.],\n",
              "        [0., 0., 1., 0.],\n",
              "        [1., 0., 0., 0.],\n",
              "        [0., 0., 0., 1.],\n",
              "        [0., 0., 0., 1.]], dtype=float32)>)"
            ]
          },
          "metadata": {},
          "execution_count": 760
        }
      ],
      "source": [
        "next(iter(dataset))"
      ]
    },
    {
      "cell_type": "markdown",
      "metadata": {
        "id": "aO4E5DmvBpIE"
      },
      "source": [
        "Agora precisamos instanciar o dataset de novo para ele reiniciar a geração de batches."
      ]
    },
    {
      "cell_type": "code",
      "execution_count": null,
      "metadata": {
        "id": "Qi3tqBHOBojK"
      },
      "outputs": [],
      "source": [
        "dataset = tf.data.Dataset.from_tensor_slices((X_treinamento, y_treinamento)).batch(batch_size)"
      ]
    },
    {
      "cell_type": "code",
      "execution_count": null,
      "metadata": {
        "colab": {
          "base_uri": "https://localhost:8080/"
        },
        "id": "-LsGyv2iCC3k",
        "outputId": "ecdeb5d9-3def-48c0-b476-755b9d675bcf"
      },
      "outputs": [
        {
          "output_type": "stream",
          "name": "stdout",
          "text": [
            "Época: 1 erro: 4.330075740814209\n",
            "Época: 21 erro: 3.512666940689087\n",
            "Época: 41 erro: 2.9712586402893066\n",
            "Época: 61 erro: 2.582953453063965\n",
            "Época: 81 erro: 2.279195547103882\n",
            "Época: 101 erro: 2.0212461948394775\n",
            "Época: 121 erro: 1.7962963581085205\n",
            "Época: 141 erro: 1.601029396057129\n",
            "Época: 161 erro: 1.4355015754699707\n",
            "Época: 181 erro: 1.2975279092788696\n",
            "Época: 201 erro: 1.1859068870544434\n",
            "Época: 221 erro: 1.097460150718689\n"
          ]
        }
      ],
      "source": [
        "for epoca in range(240):\n",
        "    for X_batch, y_batch in dataset:\n",
        "        erro_medio = 0.0\n",
        "        with tf.GradientTape() as tape:\n",
        "            modelo = mlp(X_batch, W, b)\n",
        "            erro = tf.reduce_mean(tf.nn.softmax_cross_entropy_with_logits(labels = y_batch, logits = modelo))\n",
        "        gradientes = tape.gradient(erro, var_list)\n",
        "        otimizador.apply_gradients(zip(gradientes, var_list))\n",
        "        erro_medio += erro.numpy()\n",
        "    if epoca % 20 == 0:\n",
        "        print('Época: ' + str((epoca + 1)) + ' erro: ' + str(erro_medio))"
      ]
    },
    {
      "cell_type": "code",
      "execution_count": null,
      "metadata": {
        "id": "P1pNl47FfHnF",
        "colab": {
          "base_uri": "https://localhost:8080/"
        },
        "outputId": "19500bf0-a23d-43dc-b516-6cc592d2f80e"
      },
      "outputs": [
        {
          "output_type": "execute_result",
          "data": {
            "text/plain": [
              "<tf.Tensor: shape=(178, 4), dtype=float32, numpy=\n",
              "array([[-6.8376637e+00, -9.2822819e+00, -5.2376485e+00, -4.0767097e+00],\n",
              "       [-5.4428682e+00, -5.2881670e+00,  1.3789804e+00,  2.9853935e+00],\n",
              "       [-4.8204098e+00, -8.1634521e+00, -4.0615525e+00, -3.8950825e-01],\n",
              "       [-9.1460447e+00, -1.0655995e+01, -6.9359078e+00, -4.9465065e+00],\n",
              "       [-8.1100896e-02, -8.8062167e-01,  8.3060646e-01, -6.3673151e-01],\n",
              "       [ 9.8658359e-01, -2.5995300e+00, -6.8007284e-01,  2.8018622e+00],\n",
              "       [-9.9658036e-01, -1.2702966e-01,  1.0146594e+00,  1.2566173e-01],\n",
              "       [-2.6527739e-01, -1.4489279e+00,  1.1383977e+00, -4.1690469e-01],\n",
              "       [ 2.1988559e-01, -1.4131557e+00, -9.6582979e-01,  6.0475707e-01],\n",
              "       [ 3.8553727e+00,  1.9024849e+00, -1.1817353e+00,  4.0246229e+00],\n",
              "       [-2.8356683e+00, -4.1979065e+00, -1.7939320e+00, -2.1389623e+00],\n",
              "       [-5.7779627e+00, -7.6737504e+00, -1.1180439e+00, -1.3551269e+00],\n",
              "       [-3.3620818e+00, -5.2461610e+00, -2.9603488e+00, -1.2582333e+00],\n",
              "       [-1.2949724e+00, -3.4643006e+00,  1.2386632e+00, -2.6183733e-01],\n",
              "       [-2.0580759e+00, -3.1641500e+00, -9.9857610e-01, -1.6441932e+00],\n",
              "       [-1.6944853e+00, -1.8688552e+00, -1.0097406e+00,  3.7295697e+00],\n",
              "       [ 2.2198501e+00, -8.6138409e-01, -2.2759664e+00,  4.0343723e+00],\n",
              "       [-2.0491483e+00, -3.2507122e+00, -1.0445397e+00, -1.7100259e+00],\n",
              "       [ 2.5599334e+00, -1.7255845e+00, -4.0297036e+00,  7.4548168e+00],\n",
              "       [-7.7658689e-01, -5.1124310e+00, -3.3014307e+00,  2.1217420e+00],\n",
              "       [ 4.9963292e-01, -4.1203308e-01,  7.0450592e-01, -2.3571730e-02],\n",
              "       [-3.0807383e+00, -2.5428360e+00, -1.0196564e+00, -8.8137078e-01],\n",
              "       [-5.5646319e+00, -8.4487991e+00, -3.0489590e+00, -2.7358108e+00],\n",
              "       [-8.1320935e-01, -5.6704521e+00, -3.6413112e+00,  2.5355721e+00],\n",
              "       [-2.2781665e+00, -2.1462481e+00, -2.0040166e+00,  3.1539655e-01],\n",
              "       [-7.0811687e+00, -7.9568777e+00, -4.3919549e+00, -3.4181254e+00],\n",
              "       [ 2.9223713e-01, -1.8031279e+00,  5.1432049e-01,  9.2706800e-01],\n",
              "       [-2.6775372e+00, -4.8134513e+00, -1.1306541e+00, -9.9731588e-01],\n",
              "       [ 3.8476100e+00,  1.1492052e+00,  2.3787355e-01,  4.6756563e+00],\n",
              "       [-3.0105691e+00, -3.3559918e+00, -2.4293303e+00, -6.4906961e-01],\n",
              "       [-1.7873385e+00, -3.5581272e+00, -1.2631166e+00, -8.8070440e-01],\n",
              "       [ 4.2815767e-02,  3.5394361e+00, -3.1824794e+00,  8.1690998e+00],\n",
              "       [-4.9729013e+00, -6.3538756e+00, -3.8837522e-01, -9.3041515e-01],\n",
              "       [ 2.8246552e-01, -5.8180416e-01,  7.6773363e-01, -2.5987762e-01],\n",
              "       [ 4.3627105e+00,  9.6378489e+00, -2.5956631e+00,  1.3407335e+01],\n",
              "       [ 1.1182556e+00,  1.1150539e-01,  5.7514954e-01,  6.3367796e-01],\n",
              "       [-5.7249694e+00, -7.6774483e+00, -4.5468435e+00, -3.7146714e+00],\n",
              "       [-7.1988134e+00, -1.1816722e+01, -4.9446983e+00, -2.9741812e+00],\n",
              "       [ 2.9535477e+00,  3.8332965e+00, -7.7524841e-02,  7.8549490e+00],\n",
              "       [ 4.7130694e+00,  1.0756196e+01, -2.6917820e+00,  1.5796635e+01],\n",
              "       [-6.2498288e+00, -1.1509753e+01, -3.5971031e+00, -1.8216007e+00],\n",
              "       [-4.2773209e+00, -1.0878298e+00, -1.6100597e+00,  2.5844228e+00],\n",
              "       [-6.9790417e-01, -3.3078220e+00, -1.7880545e+00,  7.0079505e-01],\n",
              "       [ 3.1546257e-02, -6.2252498e-01, -1.8451784e+00,  5.1237221e+00],\n",
              "       [-2.2986467e+00, -3.5511792e+00, -1.2822602e+00, -1.8460922e+00],\n",
              "       [-2.6958995e+00, -4.0295849e+00, -1.6607609e+00, -2.0627379e+00],\n",
              "       [ 3.4492636e+00,  4.0207714e-01, -1.4741306e+00,  4.5266495e+00],\n",
              "       [-7.6325622e+00, -1.0420239e+01, -5.7430372e+00, -4.3432217e+00],\n",
              "       [ 2.1438267e+00, -5.0535911e-01, -4.6031767e-01,  4.8580780e+00],\n",
              "       [-2.1614494e+00, -4.1455239e-01, -1.3298860e+00,  4.0219736e+00],\n",
              "       [ 2.0198047e+00,  7.1915394e-01,  2.8943902e-01,  1.6877882e+00],\n",
              "       [-6.4995252e-02, -8.6122590e-01,  8.4595186e-01, -6.2794816e-01],\n",
              "       [-4.1929451e-01, -1.8784010e+00,  1.3319495e+00, -2.7538091e-01],\n",
              "       [-4.8160596e+00, -8.0350361e+00, -1.6554801e+00, -1.8767670e+00],\n",
              "       [-1.9058450e+00, -3.0781338e+00, -9.0800077e-01, -1.6318738e+00],\n",
              "       [ 2.0646336e+00, -1.9831371e+00, -1.9194837e+00,  4.1337996e+00],\n",
              "       [ 3.2399869e-01, -1.7503934e+00, -2.7188332e+00,  1.3230410e+00],\n",
              "       [-7.9746504e+00, -6.9033251e+00, -4.4909101e+00, -2.7132063e+00],\n",
              "       [-1.4786404e+00, -3.4478283e+00,  7.3219788e-01, -5.8166856e-01],\n",
              "       [-1.2015791e+00, -1.7488358e+00,  8.6068237e-01, -4.7943693e-01],\n",
              "       [-8.5199404e+00, -6.1791296e+00, -1.4321570e+00,  3.4345534e+00],\n",
              "       [-9.3944728e-02, -8.9608932e-01,  8.1836891e-01, -6.4373600e-01],\n",
              "       [ 3.2931674e+00,  2.0898540e+00,  2.9543501e-01,  2.8895791e+00],\n",
              "       [-1.1162349e+00, -5.6474452e+00, -3.7092762e+00,  2.0446274e+00],\n",
              "       [-2.6629777e+00, -3.9899378e+00, -1.6293931e+00, -2.0447838e+00],\n",
              "       [-6.7914667e+00, -8.9618149e+00, -5.5629969e+00, -4.2962961e+00],\n",
              "       [-7.2911839e+00,  6.1816037e-02, -2.6488171e+00,  8.8846703e+00],\n",
              "       [ 1.4943670e+00, -2.0666904e+00, -5.1014346e-01,  4.3106680e+00],\n",
              "       [-3.7917964e+00, -6.3236313e+00, -1.3460982e+00, -1.7598902e+00],\n",
              "       [-1.8081561e+00, -3.6940691e+00,  2.0820761e-01, -9.0056133e-01],\n",
              "       [ 2.3275796e-01, -4.1435156e+00, -1.6203117e+00,  2.7181456e+00],\n",
              "       [-1.3984165e-01, -4.2618189e+00, -2.5340278e+00,  2.3774722e+00],\n",
              "       [ 1.7656529e+00,  8.4140462e-01,  6.7113101e-01,  1.2490627e+00],\n",
              "       [-8.3419281e-01, -4.8666754e+00, -2.6140082e+00,  1.7202711e+00],\n",
              "       [ 9.5450079e-01,  1.5508459e+00, -3.4978527e-01,  3.0457428e+00],\n",
              "       [-6.2549539e+00, -8.3157005e+00, -5.0518103e+00, -4.0037036e+00],\n",
              "       [-4.6168217e-01, -1.0405056e+00,  1.0018362e+00, -4.6851623e-01],\n",
              "       [ 5.5692637e-01, -3.8297524e+00, -4.6463841e-01,  2.7924206e+00],\n",
              "       [-5.4195887e-01, -1.4356260e+00,  3.9150324e-01, -8.8806498e-01],\n",
              "       [-5.5820169e+00, -7.5788422e+00, -4.3793311e+00, -3.5886714e+00],\n",
              "       [-1.8968776e+00,  2.2808392e+00, -1.2380133e+00,  7.3682213e+00],\n",
              "       [-4.8218055e+00, -6.6998296e+00, -1.3849080e-02, -7.0692044e-01],\n",
              "       [ 2.1097765e+00,  1.2807322e+00,  1.3672942e-01,  2.3322177e+00],\n",
              "       [-3.1209784e+00, -5.1934056e+00, -1.6233034e+00, -1.6532563e+00],\n",
              "       [-6.1772027e+00, -1.1013561e+01, -3.3937111e+00, -1.7355502e+00],\n",
              "       [-1.3893940e+00, -2.7017884e+00, -9.7199899e-01, -1.0660169e+00],\n",
              "       [-5.7205421e-01, -3.1414137e+00, -2.2481070e+00,  1.9910529e+00],\n",
              "       [ 2.1798842e+00, -5.3218740e-01, -4.8821944e-01,  5.0090628e+00],\n",
              "       [-2.1448202e+00, -8.2160002e-01,  1.9044745e-01,  2.9951408e+00],\n",
              "       [-8.6145073e-01, -1.8203853e+00,  8.7092996e-02, -1.0623031e+00],\n",
              "       [-5.1124892e+00, -8.5187378e+00, -1.7611845e+00, -1.9213060e+00],\n",
              "       [-2.0408475e+00, -4.1399279e+00,  2.1750832e-01, -8.7437111e-01],\n",
              "       [-5.1998525e+00, -7.5606208e+00, -3.3274541e+00, -2.9517663e+00],\n",
              "       [-1.3200912e+00, -3.1707788e+00,  7.6316231e-01, -5.7479370e-01],\n",
              "       [-2.3656934e-01, -2.6847227e+00,  4.3770346e-01,  9.8051035e-01],\n",
              "       [-2.2984893e+00, -4.0925698e+00, -5.2676398e-01, -1.3454323e+00],\n",
              "       [-1.5279617e+00,  2.5861579e-01, -1.0568008e+00,  2.6994855e+00],\n",
              "       [ 1.5751580e+00,  2.8600619e+00,  4.0871772e-01,  3.8463385e+00],\n",
              "       [-5.1660595e+00, -4.4102507e+00, -3.5545654e+00,  4.2829075e+00],\n",
              "       [-4.0253773e+00, -4.1528249e+00,  8.8168919e-01, -1.2757418e-01],\n",
              "       [-5.0689731e+00, -8.9513741e+00, -8.8612479e-01, -1.3415067e+00],\n",
              "       [-2.9335244e+00, -3.6294885e+00, -3.9911413e+00,  2.0903721e+00],\n",
              "       [ 2.8812370e+00,  1.4919112e+00,  6.4647198e-02,  2.5511549e+00],\n",
              "       [ 5.5130644e+00,  3.3934348e+00, -1.0901518e+00,  5.5778561e+00],\n",
              "       [-4.5392356e+00,  2.9020292e-01, -1.4217803e+00,  4.7611704e+00],\n",
              "       [-3.8022442e+00, -6.8424892e+00, -6.4994496e-01, -1.2976447e+00],\n",
              "       [-8.6024361e+00, -1.0189889e+01, -6.5617647e+00, -4.7547579e+00],\n",
              "       [-8.3020544e-01, -1.7827570e+00,  1.1686337e-01, -1.0452631e+00],\n",
              "       [-6.6290627e+00, -7.9273634e+00, -4.7684731e+00, -3.7418578e+00],\n",
              "       [-6.9176906e-01, -5.1312156e+00, -3.1967769e+00,  2.2521610e+00],\n",
              "       [-1.6802374e+00, -3.3661315e+00,  8.7566316e-02, -9.9152052e-01],\n",
              "       [-1.7199622e+00,  1.5485742e+00,  1.4305007e+00,  3.9274476e+00],\n",
              "       [-6.8249440e+00, -1.0063349e+01, -2.3616865e+00, -2.1313133e+00],\n",
              "       [-2.7051303e+00, -5.2118120e+00, -3.6198020e-02, -9.8533285e-01],\n",
              "       [-4.2942262e+00, -7.9050174e+00, -4.6313244e-01, -1.1315002e+00],\n",
              "       [-4.1736631e+00, -6.9046149e+00, -1.5410280e+00, -1.8562067e+00],\n",
              "       [-3.6153581e+00, -5.3734841e+00,  1.0641074e+00, -1.0212296e-01],\n",
              "       [-2.0334370e+00, -3.7896304e+00, -2.5154668e-01, -1.1858554e+00],\n",
              "       [-4.6550609e-02, -8.3901328e-01,  8.6352581e-01, -6.1788917e-01],\n",
              "       [-3.2500329e+00, -4.6969194e+00, -2.1887364e+00, -2.3649402e+00],\n",
              "       [-1.9629297e-01, -1.2565664e+00,  1.0517056e+00, -4.8029339e-01],\n",
              "       [ 4.3759928e+00,  9.0376186e+00, -2.8322406e+00,  1.3378747e+01],\n",
              "       [-2.2111256e+00, -3.0367260e+00, -6.0919219e-01, -9.2074287e-01],\n",
              "       [ 4.6711507e-01, -2.7451179e+00, -4.4949956e+00,  6.4796305e+00],\n",
              "       [-7.9165840e+00, -7.7231121e+00, -7.3771882e+00,  2.0147085e-01],\n",
              "       [-3.7996523e+00, -4.9791241e+00,  3.2122374e-02,  8.3444655e-01],\n",
              "       [ 1.1355621e+00, -5.8452809e-01, -1.4520552e+00,  1.5285840e+00],\n",
              "       [-3.4660714e+00, -5.9456611e+00, -3.0844860e+00, -1.3972633e+00],\n",
              "       [ 2.9973657e+00,  5.2850432e+00, -2.5370994e+00,  1.0889353e+01],\n",
              "       [ 3.8962908e+00,  1.6968138e+00, -1.8933196e+00,  4.3744335e+00],\n",
              "       [ 2.5105021e+00,  1.1083393e+00, -3.2950342e-02,  2.2308311e+00],\n",
              "       [-2.3775594e+00, -4.3702688e+00, -3.4760040e-01, -1.2198941e+00],\n",
              "       [-5.5315666e+00, -9.3699884e+00, -3.3577514e+00, -2.1632278e+00],\n",
              "       [-1.5687163e+00, -3.3959875e+00,  4.2277735e-01, -7.7897161e-01],\n",
              "       [-5.2688608e+00, -4.4337335e+00, -2.1977371e-01, -7.0930964e-01],\n",
              "       [-3.8725553e+00,  4.5274860e-01, -1.5971642e+00,  5.5793324e+00],\n",
              "       [-9.1271143e+00, -4.5649180e+00, -5.8974710e+00,  1.3970377e+00],\n",
              "       [-2.0998521e+00, -4.2194953e+00,  1.7315704e-01, -8.9868486e-01],\n",
              "       [ 1.0602061e+00,  3.6434585e-01, -4.8573298e+00,  8.9739046e+00],\n",
              "       [-1.4955307e+00, -6.3083094e-01, -2.0763106e+00,  1.6358168e+00],\n",
              "       [ 4.3236941e-01, -1.7785442e+00, -1.4414282e+00,  2.4012096e+00],\n",
              "       [-3.7211542e+00, -5.5064130e+00, -2.2999184e+00, -2.3980742e+00],\n",
              "       [-7.1040165e-01,  5.2557673e+00, -5.6578660e+00,  1.3545993e+01],\n",
              "       [-5.5126829e+00, -3.8459332e+00, -2.5531070e+00,  1.2146850e+00],\n",
              "       [ 2.6410082e-01,  1.1896341e+00, -8.9292473e-01,  5.8465967e+00],\n",
              "       [ 1.3435216e+00,  2.4767894e-01,  4.5880988e-01,  8.9468706e-01],\n",
              "       [ 3.4408748e+00,  1.0535188e+00, -2.6064610e+00,  4.2479010e+00],\n",
              "       [-2.3301136e-01, -1.5908227e+00, -8.6638671e-01, -4.2284667e-02],\n",
              "       [-4.6550609e-02, -8.3901328e-01,  8.6352581e-01, -6.1788917e-01],\n",
              "       [-6.8080535e+00, -6.6119509e+00, -3.7713819e+00, -2.9892430e+00],\n",
              "       [-1.6373622e+00, -3.2040565e+00, -2.5615513e-02, -1.0702171e+00],\n",
              "       [-6.9132757e-01, -4.2429560e-01, -2.9163799e+00,  6.4756622e+00],\n",
              "       [-1.2585557e+00, -2.9089081e+00,  5.5991709e-01, -7.1478200e-01],\n",
              "       [-8.4767208e+00, -8.8358822e+00, -4.1886945e+00, -3.1019707e+00],\n",
              "       [-2.2013853e+00, -2.4615605e+00, -2.4670666e-01, -1.1149888e+00],\n",
              "       [-5.8140817e+00, -7.7847648e+00, -4.6317492e+00, -3.7632694e+00],\n",
              "       [ 4.0940175e+00,  6.2338681e+00, -1.4714818e+00,  8.9882431e+00],\n",
              "       [-3.1154782e-01, -1.5779519e+00,  1.1965452e+00, -3.7438756e-01],\n",
              "       [-2.2114799e+00, -4.3535914e+00,  6.6330075e-02, -9.5987260e-01],\n",
              "       [ 7.2493452e-01, -2.3590297e-01,  6.3890994e-01,  2.2158521e-01],\n",
              "       [ 3.8586109e+00,  4.2550082e+00, -2.6681321e+00,  7.7593384e+00],\n",
              "       [-2.8039739e+00, -4.1597371e+00, -1.7637336e+00, -2.1216774e+00],\n",
              "       [ 8.2857933e+00,  4.3271813e+00, -1.2336674e+00,  9.7555923e+00],\n",
              "       [-4.9745145e+00, -8.2046871e+00, -1.8359857e+00, -1.9827520e+00],\n",
              "       [-1.5109531e+00, -8.9742947e-01,  4.3166855e-01, -2.5296855e-01],\n",
              "       [-3.9035189e+00, -6.5651255e+00, -1.3033843e+00, -1.7219681e+00],\n",
              "       [ 2.2659380e+00, -1.4986901e+00, -2.7880650e+00,  4.2649002e+00],\n",
              "       [ 2.9738224e+00,  4.0981817e+00, -6.9986624e-01,  7.7758579e+00],\n",
              "       [-8.6803856e+00, -9.9901857e+00, -6.4121308e+00, -4.6342297e+00],\n",
              "       [-8.0764275e+00, -8.6057787e+00, -5.3355522e+00, -3.9399495e+00],\n",
              "       [-3.2206769e+00, -5.4241891e+00, -1.0971296e+00, -1.6440501e+00],\n",
              "       [-1.3442621e+00, -4.5693069e+00, -7.6076895e-01,  9.2372608e-01],\n",
              "       [-2.4579841e-01, -1.0789645e+00,  6.7368346e-01, -7.2655094e-01],\n",
              "       [ 3.5131841e+00,  1.1689274e+00, -2.4541683e+00,  4.2509470e+00],\n",
              "       [-5.8312902e+00, -4.4738379e+00, -2.8852429e+00,  9.7834396e-01],\n",
              "       [ 4.2199162e-01, -4.2437501e+00, -9.7813374e-01,  2.9752855e+00],\n",
              "       [-5.5943024e-01, -2.2691665e+00,  1.5080566e+00, -1.4661250e-01],\n",
              "       [-3.0362827e-01, -1.8378830e+00, -2.3753517e+00,  1.7821858e+00]],\n",
              "      dtype=float32)>"
            ]
          },
          "metadata": {},
          "execution_count": 763
        }
      ],
      "source": [
        "# previsões\n",
        "previsoes_teste = mlp(X_teste, W, b)\n",
        "previsoes_teste"
      ]
    },
    {
      "cell_type": "code",
      "execution_count": null,
      "metadata": {
        "id": "oO3U0--IfHnK",
        "colab": {
          "base_uri": "https://localhost:8080/"
        },
        "outputId": "4cfc337f-5fbc-43ec-91c5-00151202abc2"
      },
      "outputs": [
        {
          "output_type": "execute_result",
          "data": {
            "text/plain": [
              "<tf.Tensor: shape=(178, 4), dtype=float32, numpy=\n",
              "array([[4.57565673e-02, 3.96980532e-03, 2.26637200e-01, 7.23636508e-01],\n",
              "       [1.82003874e-04, 2.12454761e-04, 1.67021275e-01, 8.32584202e-01],\n",
              "       [1.14707472e-02, 4.05253581e-04, 2.44996119e-02, 9.63624358e-01],\n",
              "       [1.29881212e-02, 2.86934734e-03, 1.18412234e-01, 8.65730286e-01],\n",
              "       [2.21639931e-01, 9.96369794e-02, 5.51566005e-01, 1.27157122e-01],\n",
              "       [1.35881186e-01, 3.76469758e-03, 2.56649051e-02, 8.34689260e-01],\n",
              "       [7.17867464e-02, 1.71271592e-01, 5.36431909e-01, 2.20509768e-01],\n",
              "       [1.60369545e-01, 4.90985885e-02, 6.52724981e-01, 1.37806907e-01],\n",
              "       [3.36667746e-01, 6.57628477e-02, 1.02861263e-01, 4.94708151e-01],\n",
              "       [4.28674430e-01, 6.08133860e-02, 2.78316834e-03, 5.07729053e-01],\n",
              "       [1.64005622e-01, 4.19997014e-02, 4.64813858e-01, 3.29180658e-01],\n",
              "       [5.26011363e-03, 7.90068938e-04, 5.55612683e-01, 4.38337207e-01],\n",
              "       [9.22165588e-02, 1.40140513e-02, 1.37809530e-01, 7.55959749e-01],\n",
              "       [6.05204329e-02, 6.91472273e-03, 7.62510777e-01, 1.70054004e-01],\n",
              "       [1.74566910e-01, 5.77563904e-02, 5.03612876e-01, 2.64063805e-01],\n",
              "       [4.33613360e-03, 3.64229269e-03, 8.59970506e-03, 9.83421862e-01],\n",
              "       [1.38981506e-01, 6.37960946e-03, 1.55041739e-03, 8.53088379e-01],\n",
              "       [1.83983266e-01, 5.53281046e-02, 5.02428532e-01, 2.58260101e-01],\n",
              "       [7.42834155e-03, 1.02262209e-04, 1.02105460e-05, 9.92459059e-01],\n",
              "       [5.19832708e-02, 6.80503668e-04, 4.16234136e-03, 9.43173945e-01],\n",
              "       [3.10381442e-01, 1.24728076e-01, 3.80952626e-01, 1.83937743e-01],\n",
              "       [5.10564037e-02, 8.74295458e-02, 4.01020616e-01, 4.60493386e-01],\n",
              "       [3.29420529e-02, 1.84150448e-03, 4.07655716e-01, 5.57560623e-01],\n",
              "       [3.38582322e-02, 2.63142225e-04, 2.00186693e-03, 9.63876784e-01],\n",
              "       [5.94043657e-02, 6.77812919e-02, 7.81412125e-02, 7.94673085e-01],\n",
              "       [1.81434024e-02, 7.55793229e-03, 2.67072648e-01, 7.07225978e-01],\n",
              "       [2.34829754e-01, 2.88900025e-02, 2.93226123e-01, 4.43053991e-01],\n",
              "       [8.94319341e-02, 1.05651803e-02, 4.20044601e-01, 4.79958266e-01],\n",
              "       [2.95576870e-01, 1.98961087e-02, 7.99800828e-03, 6.76528990e-01],\n",
              "       [7.09068030e-02, 5.01964167e-02, 1.26799256e-01, 7.52097428e-01],\n",
              "       [1.87430277e-01, 3.19003873e-02, 3.16596717e-01, 4.64072585e-01],\n",
              "       [2.92718643e-04, 9.66080185e-03, 1.16338133e-05, 9.90034878e-01],\n",
              "       [6.40303781e-03, 1.60929828e-03, 6.27220750e-01, 3.64766955e-01],\n",
              "       [2.75683045e-01, 1.16161577e-01, 4.47877586e-01, 1.60277814e-01],\n",
              "       [1.15349751e-04, 2.25413498e-02, 1.09656199e-07, 9.77343142e-01],\n",
              "       [3.90273958e-01, 1.42607883e-01, 2.26726159e-01, 2.40392074e-01],\n",
              "       [8.43472928e-02, 1.19707221e-02, 2.73983717e-01, 6.29698277e-01],\n",
              "       [1.26765063e-02, 1.25160528e-04, 1.20767280e-01, 8.66431117e-01],\n",
              "       [7.24970363e-03, 1.74739268e-02, 3.49898706e-04, 9.74926531e-01],\n",
              "       [1.52637476e-05, 6.42920798e-03, 9.28484845e-09, 9.93555546e-01],\n",
              "       [1.01029770e-02, 5.24920360e-05, 1.43388271e-01, 8.46456230e-01],\n",
              "       [1.00532034e-03, 2.44052317e-02, 1.44770890e-02, 9.60112214e-01],\n",
              "       [1.83162421e-01, 1.34698730e-02, 6.15729652e-02, 7.41794705e-01],\n",
              "       [6.08211057e-03, 3.16223945e-03, 9.31114657e-04, 9.89824593e-01],\n",
              "       [1.77894935e-01, 5.08388393e-02, 4.91557837e-01, 2.79708356e-01],\n",
              "       [1.67713284e-01, 4.41931784e-02, 4.72196132e-01, 3.15897375e-01],\n",
              "       [2.50516146e-01, 1.18976040e-02, 1.82235427e-03, 7.35763907e-01],\n",
              "       [2.89830212e-02, 1.78431207e-03, 1.91758201e-01, 7.77474403e-01],\n",
              "       [6.15840144e-02, 4.35452908e-03, 4.55514807e-03, 9.29506302e-01],\n",
              "       [2.02559633e-03, 1.16203902e-02, 4.65260632e-03, 9.81701374e-01],\n",
              "       [4.61456865e-01, 1.25679851e-01, 8.17791969e-02, 3.31084013e-01],\n",
              "       [2.21865907e-01, 1.00067258e-01, 5.51708758e-01, 1.26358137e-01],\n",
              "       [1.22714549e-01, 2.85242442e-02, 7.07052469e-01, 1.41708836e-01],\n",
              "       [2.29743905e-02, 9.18883306e-04, 5.41833937e-01, 4.34272707e-01],\n",
              "       [1.87361971e-01, 5.80180176e-02, 5.08205891e-01, 2.46414125e-01],\n",
              "       [1.11678347e-01, 1.95004442e-03, 2.07820721e-03, 8.84293318e-01],\n",
              "       [2.57134706e-01, 3.23045477e-02, 1.22652305e-02, 6.98295474e-01],\n",
              "       [4.36185487e-03, 1.27333263e-02, 1.42115161e-01, 8.40789616e-01],\n",
              "       [7.86466748e-02, 1.09767308e-02, 7.17522025e-01, 1.92854732e-01],\n",
              "       [8.69481489e-02, 5.03025353e-02, 6.83737159e-01, 1.79012239e-01],\n",
              "       [6.38068332e-06, 6.62931125e-05, 7.63927540e-03, 9.92287993e-01],\n",
              "       [2.21458733e-01, 9.92946476e-02, 5.51449299e-01, 1.27797246e-01],\n",
              "       [4.95536000e-01, 1.48758873e-01, 2.47272942e-02, 3.30977917e-01],\n",
              "       [4.05243970e-02, 4.36351867e-04, 3.03091086e-03, 9.56008255e-01],\n",
              "       [1.68577760e-01, 4.47207242e-02, 4.73893076e-01, 3.12808454e-01],\n",
              "       [6.00458607e-02, 6.85350690e-03, 2.05116555e-01, 7.27984071e-01],\n",
              "       [9.43729930e-08, 1.47304134e-04, 9.79494234e-06, 9.99842882e-01],\n",
              "       [5.59345409e-02, 1.58903108e-03, 7.53585016e-03, 9.34940517e-01],\n",
              "       [4.93906885e-02, 3.92720057e-03, 5.69899559e-01, 3.76782537e-01],\n",
              "       [8.97585005e-02, 1.36155104e-02, 6.74172699e-01, 2.22453356e-01],\n",
              "       [7.59007558e-02, 9.54233634e-04, 1.18978433e-02, 9.11247194e-01],\n",
              "       [7.40591735e-02, 1.20067922e-03, 6.75767008e-03, 9.17982340e-01],\n",
              "       [4.29538429e-01, 1.70453563e-01, 1.43766344e-01, 2.56241649e-01],\n",
              "       [7.11703226e-02, 1.26186816e-03, 1.20042488e-02, 9.15563524e-01],\n",
              "       [8.94310549e-02, 1.62359476e-01, 2.42685620e-02, 7.23940909e-01],\n",
              "       [7.16458932e-02, 9.12473723e-03, 2.38621682e-01, 6.80607677e-01],\n",
              "       [1.45457014e-01, 8.15370306e-02, 6.28539562e-01, 1.44466341e-01],\n",
              "       [9.32524800e-02, 1.16024551e-03, 3.35737914e-02, 8.72013450e-01],\n",
              "       [2.14597389e-01, 8.78030807e-02, 5.45785367e-01, 1.51814222e-01],\n",
              "       [8.47108737e-02, 1.15008242e-02, 2.82006413e-01, 6.21781945e-01],\n",
              "       [9.40645186e-05, 6.13458175e-03, 1.81788680e-04, 9.93589520e-01],\n",
              "       [5.40894084e-03, 8.26983189e-04, 6.62492633e-01, 3.31271440e-01],\n",
              "       [3.54029834e-01, 1.54522061e-01, 4.92216796e-02, 4.42226589e-01],\n",
              "       [1.00639060e-01, 1.26684308e-02, 4.49985504e-01, 4.36706990e-01],\n",
              "       [9.79446620e-03, 7.77278619e-05, 1.58429369e-01, 8.31698358e-01],\n",
              "       [2.39867777e-01, 6.45663515e-02, 3.64119798e-01, 3.31446052e-01],\n",
              "       [7.02258721e-02, 5.37822023e-03, 1.31400423e-02, 9.11255956e-01],\n",
              "       [5.53485230e-02, 3.67509271e-03, 3.84028465e-03, 9.37136114e-01],\n",
              "       [5.38222212e-03, 2.02129148e-02, 5.56103475e-02, 9.18794513e-01],\n",
              "       [2.09061503e-01, 8.01334828e-02, 5.39785683e-01, 1.71019241e-01],\n",
              "       [1.85562167e-02, 6.15424244e-04, 5.29593468e-01, 4.51234937e-01],\n",
              "       [7.19394758e-02, 8.81755725e-03, 6.88269854e-01, 2.30973184e-01],\n",
              "       [5.85897900e-02, 5.52781345e-03, 3.81060749e-01, 5.54821610e-01],\n",
              "       [8.85366946e-02, 1.39116915e-02, 7.10998774e-01, 1.86552882e-01],\n",
              "       [1.55608878e-01, 1.34528661e-02, 3.05398762e-01, 5.25539458e-01],\n",
              "       [1.03724778e-01, 1.72473844e-02, 6.10004544e-01, 2.69023329e-01],\n",
              "       [1.29679982e-02, 7.74058476e-02, 2.07728278e-02, 8.88853252e-01],\n",
              "       [6.84152246e-02, 2.47274563e-01, 2.13095453e-02, 6.63000643e-01],\n",
              "       [7.87204335e-05, 1.67622013e-04, 3.94412287e-04, 9.99359310e-01],\n",
              "       [5.36433328e-03, 4.72243503e-03, 7.25483596e-01, 2.64429599e-01],\n",
              "       [9.24671162e-03, 1.90494291e-04, 6.06143296e-01, 3.84419531e-01],\n",
              "       [6.49991073e-03, 3.24081280e-03, 2.25730427e-03, 9.88001943e-01],\n",
              "       [4.93116736e-01, 1.22906029e-01, 2.94930935e-02, 3.54484200e-01],\n",
              "       [4.56961364e-01, 5.48701361e-02, 6.19639584e-04, 4.87548858e-01],\n",
              "       [9.01616950e-05, 1.12828910e-02, 2.03664484e-03, 9.86590266e-01],\n",
              "       [2.72655915e-02, 1.30392669e-03, 6.37736201e-01, 3.33694160e-01],\n",
              "       [1.79261900e-02, 3.66493221e-03, 1.37955904e-01, 8.40452909e-01],\n",
              "       [2.09626392e-01, 8.08645263e-02, 5.40446520e-01, 1.69062629e-01],\n",
              "       [3.89960781e-02, 1.06457425e-02, 2.50648230e-01, 6.99709952e-01],\n",
              "       [4.97913398e-02, 5.87660819e-04, 4.06670617e-03, 9.45554197e-01],\n",
              "       [1.10687897e-01, 2.05081068e-02, 6.48406744e-01, 2.20397219e-01],\n",
              "       [2.99243676e-03, 7.86198825e-02, 6.98640496e-02, 8.48523676e-01],\n",
              "       [5.07464726e-03, 1.99060261e-04, 4.40325677e-01, 5.54400742e-01],\n",
              "       [4.74169664e-02, 3.86630232e-03, 6.83968902e-01, 2.64747798e-01],\n",
              "       [1.41292987e-02, 3.81921331e-04, 6.51543617e-01, 3.33945066e-01],\n",
              "       [3.98004204e-02, 2.59328587e-03, 5.53638875e-01, 4.03967351e-01],\n",
              "       [7.02042691e-03, 1.21009373e-03, 7.56187499e-01, 2.35581964e-01],\n",
              "       [1.05845042e-01, 1.82795469e-02, 6.28833532e-01, 2.47041866e-01],\n",
              "       [2.22122997e-01, 1.00561418e-01, 5.51867366e-01, 1.25448167e-01],\n",
              "       [1.52703777e-01, 3.59314680e-02, 4.41331536e-01, 3.70033175e-01],\n",
              "       [1.79131493e-01, 6.20441884e-02, 6.23980224e-01, 1.34844154e-01],\n",
              "       [1.21473604e-04, 1.28528746e-02, 8.99468873e-08, 9.87025499e-01],\n",
              "       [9.96535271e-02, 4.36454490e-02, 4.94542390e-01, 3.62158567e-01],\n",
              "       [2.44166330e-03, 9.83174614e-05, 1.70870990e-05, 9.97442961e-01],\n",
              "       [2.97759107e-04, 3.61317565e-04, 5.10648300e-04, 9.98830259e-01],\n",
              "       [6.64951419e-03, 2.04433454e-03, 3.06837589e-01, 6.84468627e-01],\n",
              "       [3.65537137e-01, 6.54494315e-02, 2.74880286e-02, 5.41525304e-01],\n",
              "       [9.55678970e-02, 8.00644606e-03, 1.39969185e-01, 7.56456494e-01],\n",
              "       [3.72216193e-04, 3.66708403e-03, 1.46962770e-06, 9.95959282e-01],\n",
              "       [3.66703838e-01, 4.06531990e-02, 1.12181075e-03, 5.91521025e-01],\n",
              "       [4.80609506e-01, 1.18260793e-01, 3.77733037e-02, 3.63356382e-01],\n",
              "       [8.38040784e-02, 1.14246383e-02, 6.38065338e-01, 2.66706020e-01],\n",
              "       [2.57443022e-02, 5.54211845e-04, 2.26337776e-01, 7.47363806e-01],\n",
              "       [9.35440138e-02, 1.50467316e-02, 6.85347319e-01, 2.06061929e-01],\n",
              "       [3.92579008e-03, 9.04936809e-03, 6.11952484e-01, 3.75072241e-01],\n",
              "       [7.80123155e-05, 5.89683000e-03, 7.59193965e-04, 9.93265986e-01],\n",
              "       [2.67914584e-05, 2.56644981e-03, 6.77037053e-04, 9.96729672e-01],\n",
              "       [7.06581995e-02, 8.48424342e-03, 6.85990095e-01, 2.34867439e-01],\n",
              "       [3.65498825e-04, 1.82254240e-04, 9.83859422e-07, 9.99451280e-01],\n",
              "       [3.72597873e-02, 8.84656757e-02, 2.08454337e-02, 8.53429019e-01],\n",
              "       [1.18687265e-01, 1.30081791e-02, 1.82231795e-02, 8.50081384e-01],\n",
              "       [1.10314891e-01, 1.85057241e-02, 4.56950337e-01, 4.14229006e-01],\n",
              "       [6.43305668e-07, 2.50894635e-04, 4.56836347e-09, 9.99748468e-01],\n",
              "       [1.16207264e-03, 6.15309132e-03, 2.24161353e-02, 9.70268667e-01],\n",
              "       [3.70958936e-03, 9.36008617e-03, 1.16636883e-03, 9.85763907e-01],\n",
              "       [4.19205844e-01, 1.40122846e-01, 1.73062071e-01, 2.67609149e-01],\n",
              "       [2.99807876e-01, 2.75440309e-02, 7.08791486e-04, 6.71939313e-01],\n",
              "       [3.33539099e-01, 8.57939795e-02, 1.77041605e-01, 4.03625250e-01],\n",
              "       [2.22122997e-01, 1.00561418e-01, 5.51867366e-01, 1.25448167e-01],\n",
              "       [1.45767462e-02, 1.77348237e-02, 3.03717852e-01, 6.63970649e-01],\n",
              "       [1.25258073e-01, 2.61456277e-02, 6.27738059e-01, 2.20858306e-01],\n",
              "       [7.70207262e-04, 1.00595423e-03, 8.32299484e-05, 9.98140574e-01],\n",
              "       [1.10169582e-01, 2.11506002e-02, 6.78913414e-01, 1.89766526e-01],\n",
              "       [3.44344554e-03, 2.40442622e-03, 2.50760674e-01, 7.43391454e-01],\n",
              "       [8.47734958e-02, 6.53532818e-02, 5.98640621e-01, 2.51232624e-01],\n",
              "       [8.21318254e-02, 1.14460243e-02, 2.67911851e-01, 6.38510287e-01],\n",
              "       [6.99209841e-03, 5.94200268e-02, 2.67634496e-05, 9.33560967e-01],\n",
              "       [1.48388982e-01, 4.18224484e-02, 6.70437336e-01, 1.39351204e-01],\n",
              "       [6.95959181e-02, 8.17102659e-03, 6.78928614e-01, 2.43304387e-01],\n",
              "       [3.44275951e-01, 1.31710455e-01, 3.15897852e-01, 2.08115712e-01],\n",
              "       [1.92580540e-02, 2.86263265e-02, 2.81892881e-05, 9.52087462e-01],\n",
              "       [1.64851576e-01, 4.24905755e-02, 4.66512948e-01, 3.26144993e-01],\n",
              "       [1.86305642e-01, 3.55649879e-03, 1.36765575e-05, 8.10124218e-01],\n",
              "       [2.27116756e-02, 8.98262020e-04, 5.23956120e-01, 4.52433884e-01],\n",
              "       [7.49497786e-02, 1.38426825e-01, 5.22925913e-01, 2.63697535e-01],\n",
              "       [4.27433997e-02, 2.98502552e-03, 5.75563431e-01, 3.78708065e-01],\n",
              "       [1.18892618e-01, 2.75548222e-03, 7.58978131e-04, 8.77592921e-01],\n",
              "       [7.94523489e-03, 2.44573671e-02, 2.01671224e-04, 9.67395723e-01],\n",
              "       [1.46822101e-02, 3.96234682e-03, 1.41867191e-01, 8.39488268e-01],\n",
              "       [1.25515312e-02, 7.39268865e-03, 1.94555596e-01, 7.85500169e-01],\n",
              "       [6.98823407e-02, 7.71603500e-03, 5.84268332e-01, 3.38133186e-01],\n",
              "       [8.00512955e-02, 3.18235951e-03, 1.43475011e-01, 7.73291349e-01],\n",
              "       [2.19251156e-01, 9.53021049e-02, 5.49879849e-01, 1.35566920e-01],\n",
              "       [3.13506007e-01, 3.00710220e-02, 8.02892959e-04, 6.55620098e-01],\n",
              "       [1.07474171e-03, 4.17674752e-03, 2.04529632e-02, 9.74295497e-01],\n",
              "       [7.08951503e-02, 6.67283952e-04, 1.74803399e-02, 9.10957277e-01],\n",
              "       [9.43670943e-02, 1.70722790e-02, 7.45965362e-01, 1.42595217e-01],\n",
              "       [1.06465347e-01, 2.29556654e-02, 1.34112798e-02, 8.57167661e-01]],\n",
              "      dtype=float32)>"
            ]
          },
          "metadata": {},
          "execution_count": 764
        }
      ],
      "source": [
        "previsoes_teste = tf.nn.softmax(previsoes_teste)\n",
        "previsoes_teste"
      ]
    },
    {
      "cell_type": "code",
      "execution_count": null,
      "metadata": {
        "id": "oa2K4Y9SfHnV",
        "colab": {
          "base_uri": "https://localhost:8080/"
        },
        "outputId": "8db5412f-1f18-4d31-93a5-12b87ae3a7e6"
      },
      "outputs": [
        {
          "output_type": "execute_result",
          "data": {
            "text/plain": [
              "array([3, 3, 3, 3, 2, 3, 2, 2, 3, 3, 2, 2, 3, 2, 2, 3, 3, 2, 3, 3, 2, 3,\n",
              "       3, 3, 3, 3, 3, 3, 3, 3, 3, 3, 2, 2, 3, 0, 3, 3, 3, 3, 3, 3, 3, 3,\n",
              "       2, 2, 3, 3, 3, 3, 0, 2, 2, 2, 2, 3, 3, 3, 2, 2, 3, 2, 0, 3, 2, 3,\n",
              "       3, 3, 2, 2, 3, 3, 0, 3, 3, 3, 2, 3, 2, 3, 3, 2, 3, 2, 3, 2, 3, 3,\n",
              "       3, 2, 2, 2, 3, 2, 3, 2, 3, 3, 3, 2, 2, 3, 0, 3, 3, 2, 3, 2, 3, 3,\n",
              "       2, 3, 3, 2, 2, 2, 2, 2, 2, 2, 2, 3, 2, 3, 3, 3, 3, 3, 3, 3, 0, 2,\n",
              "       3, 2, 2, 3, 3, 2, 3, 3, 3, 2, 3, 3, 3, 0, 3, 3, 2, 3, 2, 3, 2, 3,\n",
              "       2, 3, 3, 2, 2, 0, 3, 2, 3, 2, 2, 2, 3, 3, 3, 3, 2, 3, 2, 3, 3, 3,\n",
              "       2, 3])"
            ]
          },
          "metadata": {},
          "execution_count": 765
        }
      ],
      "source": [
        "previsoes_teste = tf.argmax(previsoes_teste, axis = 1).numpy()\n",
        "previsoes_teste"
      ]
    },
    {
      "cell_type": "code",
      "execution_count": null,
      "metadata": {
        "id": "fFoKrHkwfHna",
        "colab": {
          "base_uri": "https://localhost:8080/"
        },
        "outputId": "33669e8e-a7fc-4c8b-c86e-8e922b02c607"
      },
      "outputs": [
        {
          "output_type": "execute_result",
          "data": {
            "text/plain": [
              "array([3, 2, 2, 2, 2, 3, 3, 3, 3, 2, 3, 2, 3, 3, 2, 3, 2, 0, 3, 2, 3, 3,\n",
              "       3, 2, 3, 3, 3, 3, 2, 3, 3, 2, 3, 0, 3, 0, 2, 2, 3, 3, 3, 2, 3, 3,\n",
              "       2, 0, 3, 3, 3, 2, 2, 3, 3, 3, 0, 2, 0, 3, 3, 3, 3, 2, 1, 2, 3, 2,\n",
              "       3, 3, 3, 3, 3, 2, 2, 2, 3, 2, 2, 3, 2, 2, 3, 3, 2, 2, 3, 3, 3, 3,\n",
              "       3, 2, 3, 3, 2, 3, 2, 3, 3, 3, 3, 3, 2, 2, 3, 0, 3, 2, 3, 3, 3, 2,\n",
              "       3, 2, 2, 2, 3, 3, 3, 1, 3, 1, 2, 3, 3, 3, 2, 3, 2, 2, 3, 2, 0, 0,\n",
              "       3, 3, 3, 3, 2, 3, 3, 3, 3, 3, 3, 2, 3, 3, 2, 2, 2, 3, 3, 3, 3, 3,\n",
              "       2, 1, 3, 2, 3, 3, 3, 3, 3, 3, 3, 2, 2, 3, 3, 3, 3, 3, 3, 2, 2, 3,\n",
              "       3, 2])"
            ]
          },
          "metadata": {},
          "execution_count": 766
        }
      ],
      "source": [
        "y_teste2 = tf.argmax(y_teste, axis = 1).numpy()\n",
        "y_teste2"
      ]
    },
    {
      "cell_type": "code",
      "execution_count": null,
      "metadata": {
        "id": "ALyK_29XfHnn",
        "colab": {
          "base_uri": "https://localhost:8080/"
        },
        "outputId": "9a901392-6a2e-46f6-b1ec-8748dad4e582"
      },
      "outputs": [
        {
          "output_type": "execute_result",
          "data": {
            "text/plain": [
              "0.4606741573033708"
            ]
          },
          "metadata": {},
          "execution_count": 767
        }
      ],
      "source": [
        "from sklearn.metrics import accuracy_score\n",
        "taxa_acerto = accuracy_score(y_teste2, previsoes_teste)\n",
        "taxa_acerto"
      ]
    },
    {
      "cell_type": "code",
      "source": [
        "# Suponha que temos as seguintes previsões e classes reais\n",
        "# para um conjunto de dados:\n",
        "\n",
        "\n",
        "# Geramos a matriz de confusão usando a função confusion_matrix do scikit-learn\n",
        "confusion_mat = confusion_matrix(y_teste2, previsoes_teste)\n",
        "\n",
        "# Criamos um gráfico usando matplotlib\n",
        "plt.imshow(confusion_mat, cmap='Blues')\n",
        "\n",
        "# Adicionamos rótulos nas linhas e colunas\n",
        "class_names = ['0', '1','2','3']\n",
        "\n",
        "\n",
        "# Adicionamos rótulos na barra de cores\n",
        "plt.colorbar()\n",
        "\n",
        "# Adicionamos rótulos nos eixos\n",
        "plt.xlabel('Classificação do Modelo')\n",
        "plt.ylabel('Classe Real')\n",
        "\n",
        "# Exibimos o gráfico\n",
        "plt.show()\n"
      ],
      "metadata": {
        "id": "DlvmJ8jfv4mL",
        "colab": {
          "base_uri": "https://localhost:8080/",
          "height": 283
        },
        "outputId": "f7d10187-55c4-4a00-f38f-9865618057cd"
      },
      "execution_count": null,
      "outputs": [
        {
          "output_type": "display_data",
          "data": {
            "text/plain": [
              "<Figure size 432x288 with 2 Axes>"
            ],
            "image/png": "[encoded data removed]"
          },
          "metadata": {
            "needs_background": "light"
          }
        }
      ]
    },
    {
      "cell_type": "code",
      "source": [
        "erro_medio"
      ],
      "metadata": {
        "id": "tF6xOLal0noC",
        "colab": {
          "base_uri": "https://localhost:8080/"
        },
        "outputId": "94d29f9c-9ccc-4f85-9461-75764e5059b9"
      },
      "execution_count": null,
      "outputs": [
        {
          "output_type": "execute_result",
          "data": {
            "text/plain": [
              "1.0348743200302124"
            ]
          },
          "metadata": {},
          "execution_count": 769
        }
      ]
    },
    {
      "cell_type": "code",
      "source": [
        "importancia = [15 , 8, 12, 4, 10, 17, 8 ,7, 15]"
      ],
      "metadata": {
        "id": "RHUFB1gyDGL5"
      },
      "execution_count": null,
      "outputs": []
    },
    {
      "cell_type": "code",
      "source": [
        "import matplotlib.pyplot as plt\n",
        "\n",
        "# Dados para o eixo x e y\n",
        "x = [15 , 8, 12, 4, 10, 17, 8 ,7, 15]\n",
        "y = ['Num', 'Part', 'UF', 'idade', 'sexo', 'instru', 'estado civil', 'gastos', 'reeleição']\n",
        "\n",
        "# Cria o gráfico de barras\n",
        "plt.figure(figsize=(10, 6))\n",
        "plt.bar(y, x)\n",
        "# Adiciona rótulos ao eixo x e y\n",
        "plt.xlabel('Dados')\n",
        "plt.ylabel('Valores')\n",
        "plt.tick_params(axis='x', colors='red')\n",
        "plt.tick_params(axis='y', colors='red')\n",
        "# Exibe o gráfico\n",
        "plt.show()\n"
      ],
      "metadata": {
        "colab": {
          "base_uri": "https://localhost:8080/",
          "height": 388
        },
        "id": "FiV0EkUmDgC5",
        "outputId": "e7fcfcaa-b72e-43d1-dedd-96013ec6d41b"
      },
      "execution_count": null,
      "outputs": [
        {
          "output_type": "display_data",
          "data": {
            "text/plain": [
              "<Figure size 720x432 with 1 Axes>"
            ],
            "image/png": "[encoded data removed]"
          },
          "metadata": {
            "needs_background": "light"
          }
        }
      ]
    }
  ],
  "metadata": {
    "colab": {
      "provenance": [],
      "include_colab_link": true
    },
    "kernelspec": {
      "display_name": "Python 3 (ipykernel)",
      "language": "python",
      "name": "python3"
    },
    "language_info": {
      "codemirror_mode": {
        "name": "ipython",
        "version": 3
      },
      "file_extension": ".py",
      "mimetype": "text/x-python",
      "name": "python",
      "nbconvert_exporter": "python",
      "pygments_lexer": "ipython3",
      "version": "3.9.7"
    }
  },
  "nbformat": 4,
  "nbformat_minor": 0
}